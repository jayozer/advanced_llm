{
  "cells": [
    {
      "cell_type": "markdown",
      "metadata": {
        "id": "view-in-github",
        "colab_type": "text"
      },
      "source": [
        "<a href=\"https://colab.research.google.com/github/jayozer/advanced_llm/blob/main/Jay_Ozer_Module_1b_Advanced_LLMs_BigQuery_Palm_Redis.ipynb\" target=\"_parent\"><img src=\"https://colab.research.google.com/assets/colab-badge.svg\" alt=\"Open In Colab\"/></a>"
      ]
    },
    {
      "cell_type": "markdown",
      "source": [
        "**If you use our code, please cite:**\n",
        "\n",
        "@misc{2024<br>\n",
        "  title = {LLM Reference Architecture using Redis & Google Cloud Platform},<br>\n",
        "  author = {Hamza Farooq, Darshil Modi, Kanwal Mehreen, Nazila Shafiei},<br>\n",
        "  keywords = {Semantic Cache},<br>\n",
        "  year = {2024},<br>\n",
        "  copyright = {APACHE 2.0 license}<br>\n",
        "}"
      ],
      "metadata": {
        "id": "DdAno_PRG2i-"
      }
    },
    {
      "cell_type": "markdown",
      "metadata": {
        "id": "aiHV6ip2f5id"
      },
      "source": [
        "\n",
        "\n",
        "# LLM Reference Architecture using Redis & Google Cloud Platform\n",
        "\n",
        "<a href=\"https://colab.research.google.com/github/RedisVentures/redis-google-llms/blob/main/BigQuery_Palm_Redis.ipynb\" target=\"_parent\"><img src=\"https://colab.research.google.com/assets/colab-badge.svg\" alt=\"Open In Colab\"/></a>\n",
        "\n",
        "This notebook serves as a getting started guide for working with LLMs on Google Cloud Platform with Redis Enterprise.\n",
        "\n",
        "## Intro\n",
        "Google's Vertex AI has expanded its capabilities by introducing [Generative AI](https://cloud.google.com/vertex-ai/docs/generative-ai/learn/overview). This advanced technology comes with a specialized [in-console studio experience](https://cloud.google.com/vertex-ai/docs/generative-ai/start/quickstarts/quickstart), a [dedicated API](https://cloud.google.com/vertex-ai/docs/generative-ai/start/quickstarts/api-quickstart) and [Python SDK](https://cloud.google.com/vertex-ai/docs/python-sdk/use-vertex-ai-python-sdk) designed for deploying and managing instances of Google's powerful PaLM language models (more sample code). With a distinct focus on text generation, summarization, chat completion, and embedding creation, PaLM models are reshaping the boundaries of natural language processing and machine learning.\n",
        "\n",
        "Redis Enterprise offers robust vector database features, with an efficient API for vector index creation, management, distance metric selection, similarity search, and hybrid filtering. When coupled with its versatile data structures - including lists, hashes, JSON, and sets - Redis Enterprise shines as the optimal solution for crafting high-quality Large Language Model (LLM)-based applications. It embodies a streamlined architecture and exceptional performance, making it an instrumental tool for production environments.\n",
        "\n",
        "![](https://github.com/RedisVentures/redis-google-llms/blob/main/assets/GCP_RE_GenAI.drawio.png?raw=true)\n",
        "\n",
        "Below we will work through several design patterns with Vertex AI LLMs and Redis Enterprise that will ensure optimal production performance.\n",
        "\n",
        "___\n",
        "## Contents\n",
        "- Setup\n",
        "    1. Prerequisites\n",
        "    2. Create BigQuery Table\n",
        "    3. Generate Embeddings\n",
        "        \n",
        "        a. Embed Text Data\n",
        "\n",
        "    4. Load Embeddings to Redis\n",
        "    5. Create Index\n",
        "- Build LLM Applications\n",
        "- LLM Design Patterns\n",
        "    1. Semantic Search\n",
        "    2. Retrieval Augmented Generation (RAG)\n",
        "    3. Caching\n",
        "    4. Memory\n",
        "- Cleanup\n",
        "\n",
        "___"
      ]
    },
    {
      "cell_type": "markdown",
      "metadata": {
        "id": "rK2rWODkw-kX"
      },
      "source": [
        "# Setup"
      ]
    },
    {
      "cell_type": "markdown",
      "metadata": {
        "id": "37rbBPKdL09o"
      },
      "source": [
        "## 1. Prerequisites\n",
        "Before we begin, we must install some required libraries, authenticate with Google, create a Redis database, and initialize other required components.\n",
        "\n",
        "### Install required libraries"
      ]
    },
    {
      "cell_type": "code",
      "execution_count": 1,
      "metadata": {
        "colab": {
          "base_uri": "https://localhost:8080/"
        },
        "id": "pc-IxYu3wnQm",
        "outputId": "c0114af7-554f-4f6e-f985-731f73024c80"
      },
      "outputs": [
        {
          "output_type": "stream",
          "name": "stdout",
          "text": [
            "Requirement already satisfied: redis in /root/.local/lib/python3.10/site-packages (5.0.7)\n",
            "Requirement already satisfied: google-cloud-aiplatform==1.25.0 in /root/.local/lib/python3.10/site-packages (1.25.0)\n",
            "Requirement already satisfied: google-api-core[grpc]!=2.0.*,!=2.1.*,!=2.2.*,!=2.3.*,!=2.4.*,!=2.5.*,!=2.6.*,!=2.7.*,<3.0.0dev,>=1.32.0 in /usr/local/lib/python3.10/dist-packages (from google-cloud-aiplatform==1.25.0) (2.16.2)\n",
            "Requirement already satisfied: proto-plus<2.0.0dev,>=1.22.0 in /usr/local/lib/python3.10/dist-packages (from google-cloud-aiplatform==1.25.0) (1.24.0)\n",
            "Requirement already satisfied: protobuf!=3.20.0,!=3.20.1,!=4.21.0,!=4.21.1,!=4.21.2,!=4.21.3,!=4.21.4,!=4.21.5,<5.0.0dev,>=3.19.5 in /usr/local/lib/python3.10/dist-packages (from google-cloud-aiplatform==1.25.0) (3.20.3)\n",
            "Requirement already satisfied: packaging>=14.3 in /usr/local/lib/python3.10/dist-packages (from google-cloud-aiplatform==1.25.0) (24.1)\n",
            "Requirement already satisfied: google-cloud-storage<3.0.0dev,>=1.32.0 in /usr/local/lib/python3.10/dist-packages (from google-cloud-aiplatform==1.25.0) (2.8.0)\n",
            "Requirement already satisfied: google-cloud-bigquery<4.0.0dev,>=1.15.0 in /usr/local/lib/python3.10/dist-packages (from google-cloud-aiplatform==1.25.0) (3.21.0)\n",
            "Requirement already satisfied: google-cloud-resource-manager<3.0.0dev,>=1.3.3 in /usr/local/lib/python3.10/dist-packages (from google-cloud-aiplatform==1.25.0) (1.12.3)\n",
            "Requirement already satisfied: shapely<2.0.0 in /root/.local/lib/python3.10/site-packages (from google-cloud-aiplatform==1.25.0) (1.8.5.post1)\n",
            "Requirement already satisfied: async-timeout>=4.0.3 in /usr/local/lib/python3.10/dist-packages (from redis) (4.0.3)\n",
            "Requirement already satisfied: googleapis-common-protos<2.0.dev0,>=1.56.2 in /usr/local/lib/python3.10/dist-packages (from google-api-core[grpc]!=2.0.*,!=2.1.*,!=2.2.*,!=2.3.*,!=2.4.*,!=2.5.*,!=2.6.*,!=2.7.*,<3.0.0dev,>=1.32.0->google-cloud-aiplatform==1.25.0) (1.63.2)\n",
            "Requirement already satisfied: google-auth<3.0.dev0,>=2.14.1 in /usr/local/lib/python3.10/dist-packages (from google-api-core[grpc]!=2.0.*,!=2.1.*,!=2.2.*,!=2.3.*,!=2.4.*,!=2.5.*,!=2.6.*,!=2.7.*,<3.0.0dev,>=1.32.0->google-cloud-aiplatform==1.25.0) (2.27.0)\n",
            "Requirement already satisfied: requests<3.0.0.dev0,>=2.18.0 in /usr/local/lib/python3.10/dist-packages (from google-api-core[grpc]!=2.0.*,!=2.1.*,!=2.2.*,!=2.3.*,!=2.4.*,!=2.5.*,!=2.6.*,!=2.7.*,<3.0.0dev,>=1.32.0->google-cloud-aiplatform==1.25.0) (2.32.3)\n",
            "Requirement already satisfied: grpcio<2.0dev,>=1.33.2 in /usr/local/lib/python3.10/dist-packages (from google-api-core[grpc]!=2.0.*,!=2.1.*,!=2.2.*,!=2.3.*,!=2.4.*,!=2.5.*,!=2.6.*,!=2.7.*,<3.0.0dev,>=1.32.0->google-cloud-aiplatform==1.25.0) (1.64.1)\n",
            "Requirement already satisfied: grpcio-status<2.0.dev0,>=1.33.2 in /usr/local/lib/python3.10/dist-packages (from google-api-core[grpc]!=2.0.*,!=2.1.*,!=2.2.*,!=2.3.*,!=2.4.*,!=2.5.*,!=2.6.*,!=2.7.*,<3.0.0dev,>=1.32.0->google-cloud-aiplatform==1.25.0) (1.48.2)\n",
            "Requirement already satisfied: google-cloud-core<3.0.0dev,>=1.6.0 in /usr/local/lib/python3.10/dist-packages (from google-cloud-bigquery<4.0.0dev,>=1.15.0->google-cloud-aiplatform==1.25.0) (2.3.3)\n",
            "Requirement already satisfied: google-resumable-media<3.0dev,>=0.6.0 in /usr/local/lib/python3.10/dist-packages (from google-cloud-bigquery<4.0.0dev,>=1.15.0->google-cloud-aiplatform==1.25.0) (2.7.1)\n",
            "Requirement already satisfied: python-dateutil<3.0dev,>=2.7.2 in /usr/local/lib/python3.10/dist-packages (from google-cloud-bigquery<4.0.0dev,>=1.15.0->google-cloud-aiplatform==1.25.0) (2.8.2)\n",
            "Requirement already satisfied: grpc-google-iam-v1<1.0.0dev,>=0.12.4 in /usr/local/lib/python3.10/dist-packages (from google-cloud-resource-manager<3.0.0dev,>=1.3.3->google-cloud-aiplatform==1.25.0) (0.13.1)\n",
            "Requirement already satisfied: cachetools<6.0,>=2.0.0 in /usr/local/lib/python3.10/dist-packages (from google-auth<3.0.dev0,>=2.14.1->google-api-core[grpc]!=2.0.*,!=2.1.*,!=2.2.*,!=2.3.*,!=2.4.*,!=2.5.*,!=2.6.*,!=2.7.*,<3.0.0dev,>=1.32.0->google-cloud-aiplatform==1.25.0) (5.3.3)\n",
            "Requirement already satisfied: pyasn1-modules>=0.2.1 in /usr/local/lib/python3.10/dist-packages (from google-auth<3.0.dev0,>=2.14.1->google-api-core[grpc]!=2.0.*,!=2.1.*,!=2.2.*,!=2.3.*,!=2.4.*,!=2.5.*,!=2.6.*,!=2.7.*,<3.0.0dev,>=1.32.0->google-cloud-aiplatform==1.25.0) (0.4.0)\n",
            "Requirement already satisfied: rsa<5,>=3.1.4 in /usr/local/lib/python3.10/dist-packages (from google-auth<3.0.dev0,>=2.14.1->google-api-core[grpc]!=2.0.*,!=2.1.*,!=2.2.*,!=2.3.*,!=2.4.*,!=2.5.*,!=2.6.*,!=2.7.*,<3.0.0dev,>=1.32.0->google-cloud-aiplatform==1.25.0) (4.9)\n",
            "Requirement already satisfied: google-crc32c<2.0dev,>=1.0 in /usr/local/lib/python3.10/dist-packages (from google-resumable-media<3.0dev,>=0.6.0->google-cloud-bigquery<4.0.0dev,>=1.15.0->google-cloud-aiplatform==1.25.0) (1.5.0)\n",
            "Requirement already satisfied: six>=1.5 in /usr/local/lib/python3.10/dist-packages (from python-dateutil<3.0dev,>=2.7.2->google-cloud-bigquery<4.0.0dev,>=1.15.0->google-cloud-aiplatform==1.25.0) (1.16.0)\n",
            "Requirement already satisfied: charset-normalizer<4,>=2 in /usr/local/lib/python3.10/dist-packages (from requests<3.0.0.dev0,>=2.18.0->google-api-core[grpc]!=2.0.*,!=2.1.*,!=2.2.*,!=2.3.*,!=2.4.*,!=2.5.*,!=2.6.*,!=2.7.*,<3.0.0dev,>=1.32.0->google-cloud-aiplatform==1.25.0) (3.3.2)\n",
            "Requirement already satisfied: idna<4,>=2.5 in /usr/local/lib/python3.10/dist-packages (from requests<3.0.0.dev0,>=2.18.0->google-api-core[grpc]!=2.0.*,!=2.1.*,!=2.2.*,!=2.3.*,!=2.4.*,!=2.5.*,!=2.6.*,!=2.7.*,<3.0.0dev,>=1.32.0->google-cloud-aiplatform==1.25.0) (3.7)\n",
            "Requirement already satisfied: urllib3<3,>=1.21.1 in /usr/local/lib/python3.10/dist-packages (from requests<3.0.0.dev0,>=2.18.0->google-api-core[grpc]!=2.0.*,!=2.1.*,!=2.2.*,!=2.3.*,!=2.4.*,!=2.5.*,!=2.6.*,!=2.7.*,<3.0.0dev,>=1.32.0->google-cloud-aiplatform==1.25.0) (2.0.7)\n",
            "Requirement already satisfied: certifi>=2017.4.17 in /usr/local/lib/python3.10/dist-packages (from requests<3.0.0.dev0,>=2.18.0->google-api-core[grpc]!=2.0.*,!=2.1.*,!=2.2.*,!=2.3.*,!=2.4.*,!=2.5.*,!=2.6.*,!=2.7.*,<3.0.0dev,>=1.32.0->google-cloud-aiplatform==1.25.0) (2024.6.2)\n",
            "Requirement already satisfied: pyasn1<0.7.0,>=0.4.6 in /usr/local/lib/python3.10/dist-packages (from pyasn1-modules>=0.2.1->google-auth<3.0.dev0,>=2.14.1->google-api-core[grpc]!=2.0.*,!=2.1.*,!=2.2.*,!=2.3.*,!=2.4.*,!=2.5.*,!=2.6.*,!=2.7.*,<3.0.0dev,>=1.32.0->google-cloud-aiplatform==1.25.0) (0.6.0)\n"
          ]
        }
      ],
      "source": [
        "!pip install redis \"google-cloud-aiplatform==1.25.0\" --upgrade --user"
      ]
    },
    {
      "cell_type": "code",
      "source": [
        "!pip install huggingface datasets"
      ],
      "metadata": {
        "colab": {
          "base_uri": "https://localhost:8080/"
        },
        "id": "n0TOu_PiU0Ay",
        "outputId": "065eb8db-013f-49c3-9270-379ce1248cfb"
      },
      "execution_count": 2,
      "outputs": [
        {
          "output_type": "stream",
          "name": "stdout",
          "text": [
            "Requirement already satisfied: huggingface in /usr/local/lib/python3.10/dist-packages (0.0.1)\n",
            "Requirement already satisfied: datasets in /usr/local/lib/python3.10/dist-packages (2.20.0)\n",
            "Requirement already satisfied: filelock in /usr/local/lib/python3.10/dist-packages (from datasets) (3.15.4)\n",
            "Requirement already satisfied: numpy>=1.17 in /usr/local/lib/python3.10/dist-packages (from datasets) (1.25.2)\n",
            "Requirement already satisfied: pyarrow>=15.0.0 in /usr/local/lib/python3.10/dist-packages (from datasets) (16.1.0)\n",
            "Requirement already satisfied: pyarrow-hotfix in /usr/local/lib/python3.10/dist-packages (from datasets) (0.6)\n",
            "Requirement already satisfied: dill<0.3.9,>=0.3.0 in /usr/local/lib/python3.10/dist-packages (from datasets) (0.3.8)\n",
            "Requirement already satisfied: pandas in /usr/local/lib/python3.10/dist-packages (from datasets) (2.0.3)\n",
            "Requirement already satisfied: requests>=2.32.2 in /usr/local/lib/python3.10/dist-packages (from datasets) (2.32.3)\n",
            "Requirement already satisfied: tqdm>=4.66.3 in /usr/local/lib/python3.10/dist-packages (from datasets) (4.66.4)\n",
            "Requirement already satisfied: xxhash in /usr/local/lib/python3.10/dist-packages (from datasets) (3.4.1)\n",
            "Requirement already satisfied: multiprocess in /usr/local/lib/python3.10/dist-packages (from datasets) (0.70.16)\n",
            "Requirement already satisfied: fsspec[http]<=2024.5.0,>=2023.1.0 in /usr/local/lib/python3.10/dist-packages (from datasets) (2023.6.0)\n",
            "Requirement already satisfied: aiohttp in /usr/local/lib/python3.10/dist-packages (from datasets) (3.9.5)\n",
            "Requirement already satisfied: huggingface-hub>=0.21.2 in /usr/local/lib/python3.10/dist-packages (from datasets) (0.23.4)\n",
            "Requirement already satisfied: packaging in /usr/local/lib/python3.10/dist-packages (from datasets) (24.1)\n",
            "Requirement already satisfied: pyyaml>=5.1 in /usr/local/lib/python3.10/dist-packages (from datasets) (6.0.1)\n",
            "Requirement already satisfied: aiosignal>=1.1.2 in /usr/local/lib/python3.10/dist-packages (from aiohttp->datasets) (1.3.1)\n",
            "Requirement already satisfied: attrs>=17.3.0 in /usr/local/lib/python3.10/dist-packages (from aiohttp->datasets) (23.2.0)\n",
            "Requirement already satisfied: frozenlist>=1.1.1 in /usr/local/lib/python3.10/dist-packages (from aiohttp->datasets) (1.4.1)\n",
            "Requirement already satisfied: multidict<7.0,>=4.5 in /usr/local/lib/python3.10/dist-packages (from aiohttp->datasets) (6.0.5)\n",
            "Requirement already satisfied: yarl<2.0,>=1.0 in /usr/local/lib/python3.10/dist-packages (from aiohttp->datasets) (1.9.4)\n",
            "Requirement already satisfied: async-timeout<5.0,>=4.0 in /usr/local/lib/python3.10/dist-packages (from aiohttp->datasets) (4.0.3)\n",
            "Requirement already satisfied: typing-extensions>=3.7.4.3 in /usr/local/lib/python3.10/dist-packages (from huggingface-hub>=0.21.2->datasets) (4.12.2)\n",
            "Requirement already satisfied: charset-normalizer<4,>=2 in /usr/local/lib/python3.10/dist-packages (from requests>=2.32.2->datasets) (3.3.2)\n",
            "Requirement already satisfied: idna<4,>=2.5 in /usr/local/lib/python3.10/dist-packages (from requests>=2.32.2->datasets) (3.7)\n",
            "Requirement already satisfied: urllib3<3,>=1.21.1 in /usr/local/lib/python3.10/dist-packages (from requests>=2.32.2->datasets) (2.0.7)\n",
            "Requirement already satisfied: certifi>=2017.4.17 in /usr/local/lib/python3.10/dist-packages (from requests>=2.32.2->datasets) (2024.6.2)\n",
            "Requirement already satisfied: python-dateutil>=2.8.2 in /usr/local/lib/python3.10/dist-packages (from pandas->datasets) (2.8.2)\n",
            "Requirement already satisfied: pytz>=2020.1 in /usr/local/lib/python3.10/dist-packages (from pandas->datasets) (2023.4)\n",
            "Requirement already satisfied: tzdata>=2022.1 in /usr/local/lib/python3.10/dist-packages (from pandas->datasets) (2024.1)\n",
            "Requirement already satisfied: six>=1.5 in /usr/local/lib/python3.10/dist-packages (from python-dateutil>=2.8.2->pandas->datasets) (1.16.0)\n"
          ]
        }
      ]
    },
    {
      "cell_type": "markdown",
      "metadata": {
        "id": "p5kx9ePDwwp6"
      },
      "source": [
        "^^^ If prompted press the Restart button to restart the kernel. ^^^\n",
        "\n",
        "### Install Redis locally (optional)\n",
        "If you have a Redis db running elsewhere with [Redis Stack](https://redis.io/docs/about/about-stack/) installed, you don't need to run it on this machine. You can skip to the \"Connect to Redis server\" step."
      ]
    },
    {
      "cell_type": "code",
      "execution_count": null,
      "metadata": {
        "id": "vs4KZURX4XpT"
      },
      "outputs": [],
      "source": [
        "# %%sh\n",
        "# curl -fsSL https://packages.redis.io/gpg | sudo gpg --dearmor -o /usr/share/keyrings/redis-archive-keyring.gpg\n",
        "# echo \"deb [signed-by=/usr/share/keyrings/redis-archive-keyring.gpg] https://packages.redis.io/deb $(lsb_release -cs) main\" | sudo tee /etc/apt/sources.list.d/redis.list\n",
        "# sudo apt-get update  > /dev/null 2>&1\n",
        "# sudo apt-get install redis-stack-server  > /dev/null 2>&1\n",
        "# redis-stack-server --daemonize yes"
      ]
    },
    {
      "cell_type": "markdown",
      "metadata": {
        "id": "2LZWkOFWfoHt"
      },
      "source": [
        "### Using Free Redis Cloud account on GCP\n",
        "You can also use Forever Free instance of Redis Cloud. To activate it:\n",
        "- Head to https://redis.com/try-free/\n",
        "- Register (using gmail-based registration is the easiest)\n",
        "- Create New Subscription\n",
        "- Use the following options:\n",
        "    - Fixed plan, Gogle Cloud\n",
        "    - New 30Mb Free database\n",
        "- Create new RedisStack DB\n",
        "\n",
        "If you are registering at Redis Cloud for the first time - the last few steps would be performed for you by default. Capture the host, port and default password of the new database. You can use these instead of default `localhost` based in the following code block."
      ]
    },
    {
      "cell_type": "markdown",
      "metadata": {
        "id": "zvDp8WNz4XpU"
      },
      "source": [
        "### Connect to Redis server\n",
        "Replace the connection params below with your own if you are connecting to an external Redis instance."
      ]
    },
    {
      "cell_type": "code",
      "execution_count": 3,
      "metadata": {
        "colab": {
          "base_uri": "https://localhost:8080/"
        },
        "id": "duCyNgfZ4XpU",
        "outputId": "5cecf98e-8091-416c-85c9-b8d5af3d461b"
      },
      "outputs": [
        {
          "output_type": "execute_result",
          "data": {
            "text/plain": [
              "True"
            ]
          },
          "metadata": {},
          "execution_count": 3
        }
      ],
      "source": [
        "from google.colab import userdata\n",
        "import redis\n",
        "\n",
        "# Redis connection params\n",
        "REDIS_HOST =  userdata.get('REDIS_HOST')\n",
        "REDIS_PORT = userdata.get('REDIS_PORT')\n",
        "REDIS_PASSWORD = userdata.get('REDIS_PASSWORD')\n",
        "\n",
        "# Create Redis client\n",
        "redis_client = redis.Redis(\n",
        "  host=REDIS_HOST,\n",
        "  port=REDIS_PORT,\n",
        "  password=REDIS_PASSWORD)\n",
        "\n",
        "# Test connection\n",
        "redis_client.ping()"
      ]
    },
    {
      "cell_type": "code",
      "execution_count": 4,
      "metadata": {
        "colab": {
          "base_uri": "https://localhost:8080/"
        },
        "id": "0Rrz76w96dF3",
        "outputId": "ccb6a03e-9fe0-44e4-fb6c-8aba63529d5d"
      },
      "outputs": [
        {
          "output_type": "execute_result",
          "data": {
            "text/plain": [
              "True"
            ]
          },
          "metadata": {},
          "execution_count": 4
        }
      ],
      "source": [
        "# Clear Redis database (optional) -clears the entire Redis database associated with the redis_client object. It removes all keys and their corresponding values from the database.\n",
        "redis_client.flushdb()"
      ]
    },
    {
      "cell_type": "markdown",
      "metadata": {
        "id": "BpjxW-kou-FY"
      },
      "source": [
        "### Authenticate to Google Cloud"
      ]
    },
    {
      "cell_type": "code",
      "execution_count": 5,
      "metadata": {
        "colab": {
          "base_uri": "https://localhost:8080/"
        },
        "id": "SeTJb51SKs_W",
        "outputId": "f7be2490-06b8-4635-bf9e-faa07cc0872a"
      },
      "outputs": [
        {
          "output_type": "stream",
          "name": "stdout",
          "text": [
            "Authenticated\n"
          ]
        }
      ],
      "source": [
        "from google.colab import auth\n",
        "auth.authenticate_user()\n",
        "print('Authenticated')"
      ]
    },
    {
      "cell_type": "code",
      "execution_count": 6,
      "metadata": {
        "colab": {
          "base_uri": "https://localhost:8080/"
        },
        "id": "8Yil6twAvIuH",
        "outputId": "7674a454-1746-4a3b-bde1-75a3ee227d6a"
      },
      "outputs": [
        {
          "name": "stdout",
          "output_type": "stream",
          "text": [
            "PROJECT_ID:··········\n",
            "REGION:us-central1\n"
          ]
        }
      ],
      "source": [
        "from getpass import getpass\n",
        "\n",
        "# input your GCP project ID and region for Vertex AI\n",
        "PROJECT_ID = getpass(\"PROJECT_ID:\") #acrobatllm\n",
        "REGION = input(\"REGION:\") #us-central1 -- us-west have limitations therefore using central"
      ]
    },
    {
      "cell_type": "markdown",
      "metadata": {
        "id": "FoH2gpfOq0WU"
      },
      "source": [
        "### Initialize Vertex AI Components\n",
        "\n"
      ]
    },
    {
      "cell_type": "code",
      "execution_count": 7,
      "metadata": {
        "id": "_LibO7HEsGmQ"
      },
      "outputs": [],
      "source": [
        "import vertexai\n",
        "\n",
        "vertexai.init(project=PROJECT_ID , location=REGION)"
      ]
    },
    {
      "cell_type": "code",
      "source": [
        "from google.colab import auth\n",
        "\n",
        "PROJECT_ID = \"acrobatllm\"  # @param {type:\"string\"}\n",
        "\n",
        "auth.authenticate_user(project_id=PROJECT_ID)"
      ],
      "metadata": {
        "id": "GELWTdz4lFay"
      },
      "execution_count": 8,
      "outputs": []
    },
    {
      "cell_type": "code",
      "source": [
        "! gcloud services enable compute.googleapis.com aiplatform.googleapis.com storage.googleapis.com bigquery.googleapis.com --project {PROJECT_ID}"
      ],
      "metadata": {
        "colab": {
          "base_uri": "https://localhost:8080/"
        },
        "id": "JZSpZcPhhwSf",
        "outputId": "1ccea05b-28f6-4134-c20a-d570c5c73f1f"
      },
      "execution_count": 9,
      "outputs": [
        {
          "output_type": "stream",
          "name": "stdout",
          "text": [
            "Operation \"operations/acat.p2-670255580476-4943f0de-5440-41f4-91ea-51742a209e99\" finished successfully.\n"
          ]
        }
      ]
    },
    {
      "cell_type": "code",
      "source": [
        "!gcloud config get-value project\n",
        "!gcloud config get-value region # ?Eric - ERROR: (gcloud.config.get-value) Section [core] has no property [region]. Not sure why I cant get region"
      ],
      "metadata": {
        "colab": {
          "base_uri": "https://localhost:8080/"
        },
        "id": "z8e78uAbpRjC",
        "outputId": "8627f326-e665-4eb7-8480-f38843d7e0c0"
      },
      "execution_count": 10,
      "outputs": [
        {
          "output_type": "stream",
          "name": "stdout",
          "text": [
            "acrobatllm\n",
            "\u001b[1;31mERROR:\u001b[0m (gcloud.config.get-value) Section [core] has no property [region].\n"
          ]
        }
      ]
    },
    {
      "cell_type": "code",
      "source": [
        "!gcloud compute regions list #available regions\n"
      ],
      "metadata": {
        "id": "1uBYT-UKpfQr"
      },
      "execution_count": null,
      "outputs": []
    },
    {
      "cell_type": "code",
      "source": [
        "# ?Eric - How do I set region fro the console? Set the desired region - I had to run it this way since I could not figure out from the console\n",
        "!gcloud config set compute/region us-central1"
      ],
      "metadata": {
        "colab": {
          "base_uri": "https://localhost:8080/"
        },
        "id": "zwcye2gBpnyJ",
        "outputId": "48ff4f93-095e-4f9f-ef87-a1a66550e626"
      },
      "execution_count": 10,
      "outputs": [
        {
          "output_type": "stream",
          "name": "stdout",
          "text": [
            "\u001b[1;33mWARNING:\u001b[0m Property validation for compute/region was skipped.\n",
            "Updated property [compute/region].\n"
          ]
        }
      ]
    },
    {
      "cell_type": "code",
      "source": [
        "# Checking Region - Learned why we choose us-central1 the hard way. The limits for west are low\n",
        "!gcloud config configurations list"
      ],
      "metadata": {
        "colab": {
          "base_uri": "https://localhost:8080/"
        },
        "id": "7kWJbrrPuo99",
        "outputId": "6d2e388d-8590-4d99-afba-af035ac8ca0e"
      },
      "execution_count": 11,
      "outputs": [
        {
          "output_type": "stream",
          "name": "stdout",
          "text": [
            "NAME     IS_ACTIVE  ACCOUNT  PROJECT     COMPUTE_DEFAULT_ZONE  COMPUTE_DEFAULT_REGION\n",
            "default  True                acrobatllm                        us-central1\n"
          ]
        }
      ]
    },
    {
      "cell_type": "markdown",
      "source": [
        "## Test Vertex AI"
      ],
      "metadata": {
        "id": "ef8nM6DTiqUS"
      }
    },
    {
      "cell_type": "code",
      "source": [
        "!pip3 install google-cloud-aiplatform&gt==1.25\n"
      ],
      "metadata": {
        "colab": {
          "base_uri": "https://localhost:8080/"
        },
        "id": "a_RpvERciphb",
        "outputId": "2ff57cab-dadb-440a-ccfd-439b99cf53fd"
      },
      "execution_count": 12,
      "outputs": [
        {
          "output_type": "stream",
          "name": "stdout",
          "text": [
            "Requirement already satisfied: google-cloud-aiplatform in /root/.local/lib/python3.10/site-packages (1.25.0)\n",
            "Requirement already satisfied: google-api-core[grpc]!=2.0.*,!=2.1.*,!=2.2.*,!=2.3.*,!=2.4.*,!=2.5.*,!=2.6.*,!=2.7.*,<3.0.0dev,>=1.32.0 in /usr/local/lib/python3.10/dist-packages (from google-cloud-aiplatform) (2.16.2)\n",
            "Requirement already satisfied: proto-plus<2.0.0dev,>=1.22.0 in /usr/local/lib/python3.10/dist-packages (from google-cloud-aiplatform) (1.24.0)\n",
            "Requirement already satisfied: protobuf!=3.20.0,!=3.20.1,!=4.21.0,!=4.21.1,!=4.21.2,!=4.21.3,!=4.21.4,!=4.21.5,<5.0.0dev,>=3.19.5 in /usr/local/lib/python3.10/dist-packages (from google-cloud-aiplatform) (3.20.3)\n",
            "Requirement already satisfied: packaging>=14.3 in /usr/local/lib/python3.10/dist-packages (from google-cloud-aiplatform) (24.1)\n",
            "Requirement already satisfied: google-cloud-storage<3.0.0dev,>=1.32.0 in /usr/local/lib/python3.10/dist-packages (from google-cloud-aiplatform) (2.8.0)\n",
            "Requirement already satisfied: google-cloud-bigquery<4.0.0dev,>=1.15.0 in /usr/local/lib/python3.10/dist-packages (from google-cloud-aiplatform) (3.21.0)\n",
            "Requirement already satisfied: google-cloud-resource-manager<3.0.0dev,>=1.3.3 in /usr/local/lib/python3.10/dist-packages (from google-cloud-aiplatform) (1.12.3)\n",
            "Requirement already satisfied: shapely<2.0.0 in /root/.local/lib/python3.10/site-packages (from google-cloud-aiplatform) (1.8.5.post1)\n",
            "Requirement already satisfied: googleapis-common-protos<2.0.dev0,>=1.56.2 in /usr/local/lib/python3.10/dist-packages (from google-api-core[grpc]!=2.0.*,!=2.1.*,!=2.2.*,!=2.3.*,!=2.4.*,!=2.5.*,!=2.6.*,!=2.7.*,<3.0.0dev,>=1.32.0->google-cloud-aiplatform) (1.63.2)\n",
            "Requirement already satisfied: google-auth<3.0.dev0,>=2.14.1 in /usr/local/lib/python3.10/dist-packages (from google-api-core[grpc]!=2.0.*,!=2.1.*,!=2.2.*,!=2.3.*,!=2.4.*,!=2.5.*,!=2.6.*,!=2.7.*,<3.0.0dev,>=1.32.0->google-cloud-aiplatform) (2.27.0)\n",
            "Requirement already satisfied: requests<3.0.0.dev0,>=2.18.0 in /usr/local/lib/python3.10/dist-packages (from google-api-core[grpc]!=2.0.*,!=2.1.*,!=2.2.*,!=2.3.*,!=2.4.*,!=2.5.*,!=2.6.*,!=2.7.*,<3.0.0dev,>=1.32.0->google-cloud-aiplatform) (2.32.3)\n",
            "Requirement already satisfied: grpcio<2.0dev,>=1.33.2 in /usr/local/lib/python3.10/dist-packages (from google-api-core[grpc]!=2.0.*,!=2.1.*,!=2.2.*,!=2.3.*,!=2.4.*,!=2.5.*,!=2.6.*,!=2.7.*,<3.0.0dev,>=1.32.0->google-cloud-aiplatform) (1.64.1)\n",
            "Requirement already satisfied: grpcio-status<2.0.dev0,>=1.33.2 in /usr/local/lib/python3.10/dist-packages (from google-api-core[grpc]!=2.0.*,!=2.1.*,!=2.2.*,!=2.3.*,!=2.4.*,!=2.5.*,!=2.6.*,!=2.7.*,<3.0.0dev,>=1.32.0->google-cloud-aiplatform) (1.48.2)\n",
            "Requirement already satisfied: google-cloud-core<3.0.0dev,>=1.6.0 in /usr/local/lib/python3.10/dist-packages (from google-cloud-bigquery<4.0.0dev,>=1.15.0->google-cloud-aiplatform) (2.3.3)\n",
            "Requirement already satisfied: google-resumable-media<3.0dev,>=0.6.0 in /usr/local/lib/python3.10/dist-packages (from google-cloud-bigquery<4.0.0dev,>=1.15.0->google-cloud-aiplatform) (2.7.1)\n",
            "Requirement already satisfied: python-dateutil<3.0dev,>=2.7.2 in /usr/local/lib/python3.10/dist-packages (from google-cloud-bigquery<4.0.0dev,>=1.15.0->google-cloud-aiplatform) (2.8.2)\n",
            "Requirement already satisfied: grpc-google-iam-v1<1.0.0dev,>=0.12.4 in /usr/local/lib/python3.10/dist-packages (from google-cloud-resource-manager<3.0.0dev,>=1.3.3->google-cloud-aiplatform) (0.13.1)\n",
            "Requirement already satisfied: cachetools<6.0,>=2.0.0 in /usr/local/lib/python3.10/dist-packages (from google-auth<3.0.dev0,>=2.14.1->google-api-core[grpc]!=2.0.*,!=2.1.*,!=2.2.*,!=2.3.*,!=2.4.*,!=2.5.*,!=2.6.*,!=2.7.*,<3.0.0dev,>=1.32.0->google-cloud-aiplatform) (5.3.3)\n",
            "Requirement already satisfied: pyasn1-modules>=0.2.1 in /usr/local/lib/python3.10/dist-packages (from google-auth<3.0.dev0,>=2.14.1->google-api-core[grpc]!=2.0.*,!=2.1.*,!=2.2.*,!=2.3.*,!=2.4.*,!=2.5.*,!=2.6.*,!=2.7.*,<3.0.0dev,>=1.32.0->google-cloud-aiplatform) (0.4.0)\n",
            "Requirement already satisfied: rsa<5,>=3.1.4 in /usr/local/lib/python3.10/dist-packages (from google-auth<3.0.dev0,>=2.14.1->google-api-core[grpc]!=2.0.*,!=2.1.*,!=2.2.*,!=2.3.*,!=2.4.*,!=2.5.*,!=2.6.*,!=2.7.*,<3.0.0dev,>=1.32.0->google-cloud-aiplatform) (4.9)\n",
            "Requirement already satisfied: google-crc32c<2.0dev,>=1.0 in /usr/local/lib/python3.10/dist-packages (from google-resumable-media<3.0dev,>=0.6.0->google-cloud-bigquery<4.0.0dev,>=1.15.0->google-cloud-aiplatform) (1.5.0)\n",
            "Requirement already satisfied: six>=1.5 in /usr/local/lib/python3.10/dist-packages (from python-dateutil<3.0dev,>=2.7.2->google-cloud-bigquery<4.0.0dev,>=1.15.0->google-cloud-aiplatform) (1.16.0)\n",
            "Requirement already satisfied: charset-normalizer<4,>=2 in /usr/local/lib/python3.10/dist-packages (from requests<3.0.0.dev0,>=2.18.0->google-api-core[grpc]!=2.0.*,!=2.1.*,!=2.2.*,!=2.3.*,!=2.4.*,!=2.5.*,!=2.6.*,!=2.7.*,<3.0.0dev,>=1.32.0->google-cloud-aiplatform) (3.3.2)\n",
            "Requirement already satisfied: idna<4,>=2.5 in /usr/local/lib/python3.10/dist-packages (from requests<3.0.0.dev0,>=2.18.0->google-api-core[grpc]!=2.0.*,!=2.1.*,!=2.2.*,!=2.3.*,!=2.4.*,!=2.5.*,!=2.6.*,!=2.7.*,<3.0.0dev,>=1.32.0->google-cloud-aiplatform) (3.7)\n",
            "Requirement already satisfied: urllib3<3,>=1.21.1 in /usr/local/lib/python3.10/dist-packages (from requests<3.0.0.dev0,>=2.18.0->google-api-core[grpc]!=2.0.*,!=2.1.*,!=2.2.*,!=2.3.*,!=2.4.*,!=2.5.*,!=2.6.*,!=2.7.*,<3.0.0dev,>=1.32.0->google-cloud-aiplatform) (2.0.7)\n",
            "Requirement already satisfied: certifi>=2017.4.17 in /usr/local/lib/python3.10/dist-packages (from requests<3.0.0.dev0,>=2.18.0->google-api-core[grpc]!=2.0.*,!=2.1.*,!=2.2.*,!=2.3.*,!=2.4.*,!=2.5.*,!=2.6.*,!=2.7.*,<3.0.0dev,>=1.32.0->google-cloud-aiplatform) (2024.6.2)\n",
            "Requirement already satisfied: pyasn1<0.7.0,>=0.4.6 in /usr/local/lib/python3.10/dist-packages (from pyasn1-modules>=0.2.1->google-auth<3.0.dev0,>=2.14.1->google-api-core[grpc]!=2.0.*,!=2.1.*,!=2.2.*,!=2.3.*,!=2.4.*,!=2.5.*,!=2.6.*,!=2.7.*,<3.0.0dev,>=1.32.0->google-cloud-aiplatform) (0.6.0)\n"
          ]
        }
      ]
    },
    {
      "cell_type": "code",
      "source": [
        "from vertexai.preview.language_models import TextEmbeddingModel\n",
        "model = TextEmbeddingModel.from_pretrained(\"textembedding-gecko\")\n",
        "\n",
        "embeddings = model.get_embeddings([\"Embrace IDK: Eliminate hallucinations!\"])\n",
        "for embedding in embeddings:\n",
        "  vector = embedding.values\n",
        "  print(vector)"
      ],
      "metadata": {
        "colab": {
          "base_uri": "https://localhost:8080/"
        },
        "id": "VNlUbUy8ipkR",
        "outputId": "73dbda12-30c3-4cdd-b6ba-2fcbbc1fc1aa"
      },
      "execution_count": 13,
      "outputs": [
        {
          "output_type": "stream",
          "name": "stdout",
          "text": [
            "[0.03268680348992348, 0.004001683555543423, -0.07715422660112381, -0.010985269211232662, 0.04209941253066063, 0.03673786669969559, 0.052556704729795456, -0.026388350874185562, -0.01449887827038765, 0.014385070651769638, 0.018206963315606117, 0.019151367247104645, -0.03734505549073219, -0.010190160945057869, -0.02915162779390812, -0.020730968564748764, 0.004493487998843193, 0.009054649621248245, 0.061719246208667755, -0.05395505949854851, -0.044126223772764206, 0.05029051750898361, 0.036270592361688614, -0.0025770768988877535, 0.028039729222655296, 0.023902885615825653, 0.0028359671123325825, -0.054009296000003815, -0.03263101354241371, 0.08124284446239471, -0.06486445665359497, 0.04765107482671738, -0.016599532216787338, -0.045425597578287125, -0.01129604410380125, -0.039695966988801956, 0.02519620954990387, -0.02229286916553974, 0.019970495253801346, -0.005094273015856743, 0.0033859668765217066, 0.02054092474281788, 0.01535935141146183, -0.03539208695292473, -0.012020974420011044, -0.04359012097120285, -0.04330972582101822, 0.01713479682803154, -0.0059787817299366, -0.04745970666408539, -0.004902060143649578, -0.027039136737585068, 0.02521790936589241, -0.034540966153144836, 0.02387143298983574, -0.01883665844798088, 0.022768044844269753, 0.04430699720978737, -0.0016408098163083196, -0.033233556896448135, -0.026230746880173683, 0.0319862924516201, -0.03522374853491783, 0.034496840089559555, 0.01060234010219574, -0.031917937099933624, -0.044738125056028366, 0.025562262162566185, 0.06972432881593704, -0.01229056715965271, -0.004230685532093048, -0.02831488475203514, 0.008293304592370987, -0.0174881499260664, -0.005188675131648779, -0.041033804416656494, -0.003319171955808997, 0.06824377179145813, -0.007002912927418947, 0.0585530661046505, -0.03129491209983826, -0.09622368961572647, -0.06833621859550476, -0.05428628996014595, -0.02346472628414631, 0.022215714678168297, -0.00842905230820179, 0.028063684701919556, -0.0024496419355273247, 0.07468198239803314, -0.028776947408914566, -0.011834590695798397, -0.0016907424433156848, -0.05637245252728462, -0.001431880984455347, 0.0746668204665184, 0.015147277154028416, -0.06980128586292267, 0.009098049253225327, -0.061773352324962616, 0.007996839471161366, -0.03727584332227707, -0.03791303187608719, -0.015686435624957085, 0.0597187802195549, 0.03600054979324341, 0.04528255760669708, 0.02615351974964142, -0.007608978543430567, -0.02111710049211979, -0.08460555970668793, -0.02815198339521885, -0.007706881500780582, -0.03324378281831741, 0.023793041706085205, -0.03605225309729576, 0.04721952602267265, 0.05587606877088547, -0.026516854763031006, 0.04177325218915939, 0.021879814565181732, 0.021303623914718628, 0.03525397926568985, -0.015568247996270657, 0.007831519469618797, 0.03442108631134033, 0.015189544297754765, 0.011405824683606625, 0.055380214005708694, 0.0278030876070261, -0.010354642756283283, -0.03614543005824089, 0.003059186041355133, 0.049117960035800934, 0.000529696699231863, 0.03584488481283188, 0.02149246260523796, -0.002997936215251684, 0.0009062681347131729, 0.005353829823434353, 0.0037556884344667196, 0.012865857221186161, 0.01243659108877182, -0.018530918285250664, -0.04861187934875488, 0.023452965542674065, -0.020685063675045967, -0.03634706884622574, 0.023037582635879517, -0.00046240317169576883, -0.001052452833391726, -0.04235066473484039, -0.07940853387117386, 0.0019086302490904927, 0.08179596066474915, -0.01900504343211651, 0.03421016037464142, 0.020297475159168243, -0.0016018397873267531, 0.048334185034036636, 0.02117674984037876, 0.014040698297321796, 0.03627881407737732, 0.011964203789830208, -0.013024421408772469, -0.02387934923171997, 0.021488351747393608, 0.008921612054109573, -0.0076597267761826515, 0.035306088626384735, -0.03113614395260811, 0.04204302281141281, -0.04973061755299568, -0.03194441273808479, -0.020346617326140404, -0.022571329027414322, -0.016892261803150177, 0.020815273746848106, -0.05505622550845146, -0.02768104523420334, -0.060594744980335236, -0.018080562353134155, -0.025532051920890808, 0.05958709120750427, -0.02330188639461994, 0.0070988875813782215, 0.06642790883779526, -0.0575094036757946, -0.013949503190815449, 0.002149457111954689, 0.015368429943919182, 0.03807736188173294, 0.005020305514335632, 0.004219132009893656, -0.050197117030620575, 0.05900508165359497, 0.008658350445330143, 0.03487134352326393, 0.03582990914583206, -0.059439122676849365, -0.024837693199515343, 0.0863586813211441, -0.03797639161348343, 0.03158452734351158, -0.027937619015574455, -0.04872889444231987, 0.03971113637089729, -0.04458057880401611, -0.02464490756392479, 0.06918631494045258, -0.06099758297204971, 0.043076157569885254, -0.0296968724578619, 0.01059490442276001, 0.00428218487650156, -0.009299800731241703, -0.04881586134433746, 0.02500421553850174, 0.019419969990849495, -0.04416109248995781, 0.05350329354405403, -0.0436399020254612, 0.011004881002008915, -0.026043875142931938, -0.03723945468664169, 0.04691882058978081, -0.023280102759599686, 0.021304775029420853, 0.00013114386820234358, -0.05778263881802559, 0.010761185549199581, 0.05066878721117973, 0.03210709989070892, -0.04337636008858681, 0.051877111196517944, 0.0240002628415823, 0.018874261528253555, 0.0007775021949782968, -0.002500006463378668, 0.012685478664934635, -0.04893475025892258, 0.031565334647893906, 0.028664199635386467, 0.03485596552491188, -0.08054041117429733, 0.015813607722520828, -0.0077968016266822815, 0.01581539586186409, 0.016374148428440094, 0.018685011193156242, 0.0531872920691967, -0.05220425873994827, -0.020104072988033295, 0.04173294082283974, -0.03969160467386246, -0.032109182327985764, -0.04831840470433235, -0.01370950136333704, 0.01966046914458275, -0.03755373880267143, 0.019430024549365044, 0.005820239428430796, -0.000885171873960644, -0.02360793948173523, -0.030584633350372314, -0.01265720184892416, 0.014859303832054138, -0.0697268545627594, -0.027336029335856438, 0.038351260125637054, -0.01468388456851244, -0.04568427428603172, 0.06967743486166, 0.01604679971933365, -0.05718512460589409, 0.008901608176529408, 0.014281440526247025, 0.028954239562153816, 0.012975499033927917, -0.05101940035820007, 0.03229520097374916, 0.05362885817885399, 0.0033087236806750298, -0.04565143585205078, -0.07592889666557312, -0.019884523004293442, -0.04266446456313133, -0.046277258545160294, 0.026733484119176865, -0.03294321149587631, -0.045603569597005844, 0.024948615580797195, 0.0020256268326193094, 0.011761929839849472, -0.026174066588282585, -0.016834374517202377, -0.002244465984404087, 0.012142772786319256, 0.016507210209965706, 0.009103077463805676, -0.03392024710774422, -0.047440819442272186, 0.023028047755360603, -0.02059612050652504, -0.014518874697387218, 0.04485572129487991, -0.06053471937775612, -0.04869752377271652, 0.008249348029494286, 0.013099027797579765, 0.0018664113013073802, -0.041040632873773575, -0.03261931985616684, 0.008767595514655113, 0.0069267950020730495, -0.03059551864862442, -0.023492708802223206, 0.007217805366963148, -0.00770539091899991, 0.03975406289100647, 0.0028191169258207083, 0.10777030140161514, -0.008331670425832272, -0.004137365147471428, -0.0161780696362257, 0.013711738400161266, -0.04400552064180374, 0.04655320942401886, 0.009072239510715008, -0.026687711477279663, 0.025295855477452278, 0.0260457880795002, -0.03208895027637482, -0.0026330032851547003, -0.02656926028430462, 0.0305419210344553, -0.00775136286392808, -0.024701038375496864, -0.012224607169628143, 0.08031369745731354, -0.00912261288613081, 0.021708514541387558, 0.02289564348757267, -0.025349944829940796, 0.03385746479034424, -0.03257506713271141, -0.013890241272747517, 0.03343353420495987, 0.059827182441949844, 0.013261916115880013, 0.004319610074162483, 0.06037432700395584, 0.0019065927481278777, 0.015086233615875244, -0.026720408350229263, -0.001795041374862194, 0.026141418144106865, 0.07158637046813965, 0.026911426335573196, -0.0663447380065918, -0.050187598913908005, 0.033676836639642715, 0.005985544994473457, -0.02693752571940422, 0.009491698816418648, -0.002712239045649767, 0.038560424000024796, 0.03867629915475845, -0.005030261818319559, 0.01145133376121521, 0.05288788676261902, -0.01892034150660038, -0.013267946429550648, -0.012939938344061375, 0.027571624144911766, -0.029937757179141045, -0.0009730096207931638, -0.06607712805271149, 0.0008995303651317954, -0.031179746612906456, -0.04056306555867195, -0.020891116932034492, 0.04688848555088043, 0.00212591839954257, 0.023437678813934326, -0.029269976541399956, 0.07028986513614655, 0.05171015113592148, 0.02982698194682598, 0.05459360405802727, 0.02433788776397705, 0.006084581837058067, 0.051400408148765564, 0.011019096709787846, 0.026613034307956696, -0.028434574604034424, -0.0003661312803160399, -0.044061265885829926, 0.026480725035071373, -0.0613994337618351, -0.0062527842819690704, -0.03175324574112892, -0.04830200597643852, -0.08411853760480881, -0.0317055806517601, 0.021832337602972984, -0.009893492795526981, -0.037880316376686096, -0.023239756003022194, -0.024814676493406296, 0.00539555586874485, 0.04868322238326073, 0.014030416496098042, -0.07064724713563919, -0.07168929278850555, -0.020962631329894066, -0.015252665616571903, 0.006384950131177902, 0.06648465991020203, 0.02829800732433796, 0.02114741876721382, 0.011542905122041702, 0.05254034325480461, 0.018217183649539948, -0.006214006803929806, -0.003581071738153696, 0.02771715074777603, -0.02230677381157875, 0.012551669031381607, 0.010414394550025463, 0.027128616347908974, 0.01889040134847164, -0.03398662805557251, -0.004086675122380257, 0.026523316279053688, -0.057449884712696075, -0.002670862479135394, 0.012831763364374638, -0.004072361625730991, 0.01781357266008854, 0.035338014364242554, -0.016728654503822327, 0.003847826039418578, 0.020416857674717903, -0.060541972517967224, -0.025450143963098526, 0.003700915025547147, -0.07753927260637283, 0.0440564900636673, -0.09040316194295883, -0.021167155355215073, -0.06613440066576004, -0.009331672452390194, -0.029755650088191032, -0.03235273063182831, -0.03907732293009758, -0.012636556290090084, 0.002158357994630933, -0.043148837983608246, 0.028431953862309456, 0.001300371834076941, -0.06655275076627731, -0.021835798397660255, -0.057830810546875, 0.02239317074418068, -0.013974820263683796, 0.007175019942224026, 0.024364713579416275, 0.03942171484231949, 0.05430144444108009, -0.015425520949065685, -0.020963158458471298, 0.011744782328605652, -0.009744539856910706, 0.01441784668713808, 0.03608528524637222, -0.04795769602060318, 0.019063306972384453, -0.040921881794929504, 0.019627347588539124, -0.010247316211462021, 0.047127220779657364, 0.021301625296473503, 0.004292258992791176, -0.009358263574540615, -0.009617608040571213, 0.04523559287190437, -0.020081540569663048, 0.016114693135023117, 0.04458001255989075, -0.01308891735970974, -0.03322460502386093, -0.033426206558942795, -0.019223324954509735, 0.010518762283027172, 0.0313202366232872, -0.03876708820462227, 0.015904609113931656, -0.00037444752524606884, -0.004040849395096302, -0.008370962925255299, 0.0016222854610532522, -0.013367868028581142, -0.004922001622617245, 0.07629112899303436, -0.08453875780105591, 0.014408621937036514, 0.0027809548191726208, -0.015570561401546001, 0.028494026511907578, -0.033580247312784195, 0.02906341478228569, 0.013397459872066975, -0.04177140071988106, 0.04227325692772865, 0.010074902325868607, 0.006965590175241232, 0.030987024307250977, 0.0651145949959755, 0.010089349932968616, 0.02080720290541649, -0.00966368243098259, -0.07317487895488739, -0.0006529958336614072, 0.047070350497961044, -0.05874896049499512, 0.04871028661727905, 0.042225345969200134, -0.11082086712121964, -0.014194635674357414, 0.04438478499650955, 0.08717109262943268, -0.06908821314573288, 0.0035684476606547832, 0.013189451768994331, -0.012584236450493336, -0.01295724231749773, 0.04612009599804878, 0.03341321274638176, -0.008962531574070454, 0.02731584943830967, 0.023086361587047577, 0.027146505191922188, 0.03362172096967697, -0.032154522836208344, -0.030715446919202805, 0.026149211451411247, -0.10254556685686111, 0.004194456618279219, -0.0319121815264225, -0.046839240938425064, -0.022611860185861588, 0.03176036849617958, -0.03949998319149017, 0.017238926142454147, -0.02586320787668228, -0.012692769058048725, 0.017980625852942467, 0.028269492089748383, 0.009427288547158241, -0.00458000972867012, -0.03748948499560356, 0.01775914616882801, 0.04009949788451195, 0.040830399841070175, 0.06954702734947205, -0.004166123922914267, -0.04979913681745529, 0.06698144227266312, 0.006029696669429541, 0.001655491883866489, 0.0006720838719047606, 0.0018412701319903135, -0.009525787085294724, 0.06469758599996567, -0.051512815058231354, -0.017103422433137894, 0.015974223613739014, -0.005998891778290272, 0.020386749878525734, -0.050654273480176926, -0.01003375742584467, -0.012204236350953579, -0.027255328372120857, -0.020364707335829735, 0.03324523940682411, 0.031306006014347076, 0.042419712990522385, 0.04260341823101044, 0.07035308331251144, -0.017807286232709885, 0.025925876572728157, -0.0641695037484169, -0.035011567175388336, 0.0034077188465744257, 0.05258289724588394, 0.004235381726175547, 0.002766359131783247, -0.05177062377333641, 0.026032818481326103, 0.023773489519953728, -0.00851362757384777, 0.021241864189505577, -0.037353094667196274, 0.04960034415125847, -0.03391231968998909, -0.0006781670963391662, 0.009880215860903263, -0.020697586238384247, 0.048834554851055145, -0.03833036869764328, -0.01424737460911274, 0.01646370440721512, 0.009304296225309372, -0.049214694648981094, 0.016542484983801842, 0.06309320777654648, -0.024486616253852844, -0.06856252253055573, -0.05866244062781334, 0.0021835346706211567, 0.009123782627284527, 0.006151449400931597, -0.010761423967778683, 0.05842769145965576, 0.06010999158024788, 0.00601522671058774, -0.03585008904337883, 0.02977786771953106, 0.05462834611535072, 0.021200133487582207, 0.06114969775080681, -0.007672705687582493, -0.00904251728206873, -0.037531815469264984, -0.0003778057871386409, 0.06829766929149628, -0.013671359978616238, 0.001492947805672884, -0.01860586740076542, -0.06533371657133102, -0.008026468567550182, -0.013207387179136276, 0.019099818542599678, -0.023546859622001648, 0.017560746520757675, 0.03979124873876572, -0.06964776664972305, -0.04098884016275406, 0.032126519829034805, -0.03171996399760246, -0.015638522803783417, 0.02009173296391964, -0.04468962922692299, 0.008874993771314621, 0.036207884550094604, -0.018586399033665657, -0.11360474675893784, 0.04112778604030609, -0.03611317276954651, -0.04804479703307152, 0.015590804629027843, -0.009127351455390453, 0.05051755905151367, -0.03295297920703888, -0.04380657896399498, -0.03890874236822128, -0.05431821197271347, -0.0016963211819529533, 0.052236899733543396, -0.04612571373581886, 0.02452167496085167, 0.002358444733545184, 0.00347654870711267, -0.004541940987110138, 0.05795126408338547, -0.023269150406122208, 0.06564820557832718, -0.037426311522722244, -0.005569620989263058, 0.026334451511502266, -0.021158825606107712, -0.0072308373637497425, 0.009614828042685986, -0.016902996227145195, 0.03614185005426407, -0.002686544554308057, -0.02695922553539276, 0.003752022050321102, 0.004110631532967091, 0.007134624756872654, -0.03066648729145527, -0.011451918631792068, -0.0070515465922653675, 0.08677450567483902, 0.017019018530845642, -0.03119518607854843, -0.00969440396875143, 0.001809636247344315, 0.07694467157125473, 0.009345603175461292, 0.007324805948883295, -0.015762191265821457, -0.001139095751568675, -0.02372848056256771, -0.035049255937337875, -0.023860683664679527, 0.016984835267066956, 0.014132129028439522, 0.043331943452358246, 0.06660594046115875, -0.0032516950741410255, -0.05286918953061104, 0.03312554210424423, 0.0027756928466260433, -0.015878168866038322, -0.016549641266465187, 0.015606919303536415, -0.050394508987665176, 0.039791397750377655, 0.02369558997452259, -0.008016031235456467, 0.04608584940433502, -0.012150748632848263, -0.030703896656632423, 0.03671744093298912, 0.027339918538928032, 0.009051566943526268, -0.014770891517400742, -0.05400422215461731, 0.05308343842625618, -0.043171774595975876, -0.027224810793995857, 0.019148819148540497, 0.025113115087151527, 0.07834453135728836, 0.008638273924589157, 0.011035873554646969, -0.07084161788225174, -0.0768052488565445, -0.012245272286236286, -0.031210696324706078, 0.025024322792887688, 0.0780249834060669, 0.06630632281303406, -0.013692716136574745, -0.008213067427277565, 0.016374826431274414, -0.03993234783411026, -0.061496149748563766, -0.03256829082965851, 0.08092548698186874, -0.0005540180136449635, 0.04216854274272919, 0.046877168118953705, -0.0090669309720397, 0.027811966836452484, -0.04301588982343674, -0.0033512478694319725, 0.018046556040644646, -0.09922324120998383, 0.026828156784176826, 0.030752703547477722, -0.02232241816818714, 0.03519493713974953, 0.008573845028877258, -0.06041722744703293, -0.013374886475503445]\n"
          ]
        }
      ]
    },
    {
      "cell_type": "markdown",
      "metadata": {
        "id": "i2nd1vj2kxvj"
      },
      "source": [
        "## 2. Create BigQuery Table\n",
        "The second step involves preparing the dataset for our LLM applications. We utilize a free (public) hacker news dataset from **Google BigQuery**.\n",
        "\n",
        "*Leveraging BigQuery is a common pattern for building ML applications because of it's powerful query and analytics capabilities.*\n",
        "\n",
        "We will start by creating our own big query table for the dataset. Additionally, if you have a different dataset to work with you can follow a similar pattern, or even load a CSV from a Google Cloud Storage bucket into BigQuery."
      ]
    },
    {
      "cell_type": "markdown",
      "metadata": {
        "id": "ky0pPyMiwDk3"
      },
      "source": [
        "### Create source table\n",
        "First step is to create a new table from the public datasource."
      ]
    },
    {
      "cell_type": "code",
      "source": [
        "from datasets import load_dataset\n",
        "import pandas as pd\n",
        "\n",
        "dataset = load_dataset(\"traversaal-ai-hackathon/hotel_datasets\")"
      ],
      "metadata": {
        "id": "di5OALHJ91Dy"
      },
      "execution_count": 14,
      "outputs": []
    },
    {
      "cell_type": "code",
      "source": [
        "df=pd.DataFrame(dataset['train'])"
      ],
      "metadata": {
        "id": "WxKn_KvW_0i3"
      },
      "execution_count": 15,
      "outputs": []
    },
    {
      "cell_type": "code",
      "source": [
        "df.head(3)"
      ],
      "metadata": {
        "colab": {
          "base_uri": "https://localhost:8080/",
          "height": 319
        },
        "id": "AaZV-bJg_1Gt",
        "outputId": "67ec3c5c-972d-4d90-e83d-fee9fb64e43d"
      },
      "execution_count": 16,
      "outputs": [
        {
          "output_type": "execute_result",
          "data": {
            "text/plain": [
              "               hotel_name                                  hotel_description  \\\n",
              "0  Romance Istanbul Hotel  Romance Istanbul Hotel has 39 rooms.Every room...   \n",
              "1  Romance Istanbul Hotel  Romance Istanbul Hotel has 39 rooms.Every room...   \n",
              "2  Romance Istanbul Hotel  Romance Istanbul Hotel has 39 rooms.Every room...   \n",
              "\n",
              "                                        review_title review_text  rate  \\\n",
              "0  An exceptional boutique hotel, great value for...        None   NaN   \n",
              "1                    You can’t get better than this.        None   NaN   \n",
              "2                           Exceeds all expectations        None   NaN   \n",
              "\n",
              "         tripdate                                          hotel_url  \\\n",
              "0   February 2020  https://www.tripadvisor.com/Hotel_Review-g2939...   \n",
              "1      March 2021  https://www.tripadvisor.com/Hotel_Review-g2939...   \n",
              "2      March 2021  https://www.tripadvisor.com/Hotel_Review-g2939...   \n",
              "\n",
              "                                         hotel_image  \\\n",
              "0  https://media-cdn.tripadvisor.com/media/photo-...   \n",
              "1  https://media-cdn.tripadvisor.com/media/photo-...   \n",
              "2  https://media-cdn.tripadvisor.com/media/photo-...   \n",
              "\n",
              "                                         price_range  rating_value  \\\n",
              "0  $ (Based on Average Nightly Rates for a Standa...           5.0   \n",
              "1  $ (Based on Average Nightly Rates for a Standa...           5.0   \n",
              "2  $ (Based on Average Nightly Rates for a Standa...           5.0   \n",
              "\n",
              "   review_count                 street_address  locality  country  \n",
              "0          4023  Hudavendigar Cd. No:5 Sirkeci  Istanbul  Turkiye  \n",
              "1          4023  Hudavendigar Cd. No:5 Sirkeci  Istanbul  Turkiye  \n",
              "2          4023  Hudavendigar Cd. No:5 Sirkeci  Istanbul  Turkiye  "
            ],
            "text/html": [
              "\n",
              "  <div id=\"df-3a8778a8-77cd-42d9-857e-5d5bc9085c3b\" class=\"colab-df-container\">\n",
              "    <div>\n",
              "<style scoped>\n",
              "    .dataframe tbody tr th:only-of-type {\n",
              "        vertical-align: middle;\n",
              "    }\n",
              "\n",
              "    .dataframe tbody tr th {\n",
              "        vertical-align: top;\n",
              "    }\n",
              "\n",
              "    .dataframe thead th {\n",
              "        text-align: right;\n",
              "    }\n",
              "</style>\n",
              "<table border=\"1\" class=\"dataframe\">\n",
              "  <thead>\n",
              "    <tr style=\"text-align: right;\">\n",
              "      <th></th>\n",
              "      <th>hotel_name</th>\n",
              "      <th>hotel_description</th>\n",
              "      <th>review_title</th>\n",
              "      <th>review_text</th>\n",
              "      <th>rate</th>\n",
              "      <th>tripdate</th>\n",
              "      <th>hotel_url</th>\n",
              "      <th>hotel_image</th>\n",
              "      <th>price_range</th>\n",
              "      <th>rating_value</th>\n",
              "      <th>review_count</th>\n",
              "      <th>street_address</th>\n",
              "      <th>locality</th>\n",
              "      <th>country</th>\n",
              "    </tr>\n",
              "  </thead>\n",
              "  <tbody>\n",
              "    <tr>\n",
              "      <th>0</th>\n",
              "      <td>Romance Istanbul Hotel</td>\n",
              "      <td>Romance Istanbul Hotel has 39 rooms.Every room...</td>\n",
              "      <td>An exceptional boutique hotel, great value for...</td>\n",
              "      <td>None</td>\n",
              "      <td>NaN</td>\n",
              "      <td>February 2020</td>\n",
              "      <td>https://www.tripadvisor.com/Hotel_Review-g2939...</td>\n",
              "      <td>https://media-cdn.tripadvisor.com/media/photo-...</td>\n",
              "      <td>$ (Based on Average Nightly Rates for a Standa...</td>\n",
              "      <td>5.0</td>\n",
              "      <td>4023</td>\n",
              "      <td>Hudavendigar Cd. No:5 Sirkeci</td>\n",
              "      <td>Istanbul</td>\n",
              "      <td>Turkiye</td>\n",
              "    </tr>\n",
              "    <tr>\n",
              "      <th>1</th>\n",
              "      <td>Romance Istanbul Hotel</td>\n",
              "      <td>Romance Istanbul Hotel has 39 rooms.Every room...</td>\n",
              "      <td>You can’t get better than this.</td>\n",
              "      <td>None</td>\n",
              "      <td>NaN</td>\n",
              "      <td>March 2021</td>\n",
              "      <td>https://www.tripadvisor.com/Hotel_Review-g2939...</td>\n",
              "      <td>https://media-cdn.tripadvisor.com/media/photo-...</td>\n",
              "      <td>$ (Based on Average Nightly Rates for a Standa...</td>\n",
              "      <td>5.0</td>\n",
              "      <td>4023</td>\n",
              "      <td>Hudavendigar Cd. No:5 Sirkeci</td>\n",
              "      <td>Istanbul</td>\n",
              "      <td>Turkiye</td>\n",
              "    </tr>\n",
              "    <tr>\n",
              "      <th>2</th>\n",
              "      <td>Romance Istanbul Hotel</td>\n",
              "      <td>Romance Istanbul Hotel has 39 rooms.Every room...</td>\n",
              "      <td>Exceeds all expectations</td>\n",
              "      <td>None</td>\n",
              "      <td>NaN</td>\n",
              "      <td>March 2021</td>\n",
              "      <td>https://www.tripadvisor.com/Hotel_Review-g2939...</td>\n",
              "      <td>https://media-cdn.tripadvisor.com/media/photo-...</td>\n",
              "      <td>$ (Based on Average Nightly Rates for a Standa...</td>\n",
              "      <td>5.0</td>\n",
              "      <td>4023</td>\n",
              "      <td>Hudavendigar Cd. No:5 Sirkeci</td>\n",
              "      <td>Istanbul</td>\n",
              "      <td>Turkiye</td>\n",
              "    </tr>\n",
              "  </tbody>\n",
              "</table>\n",
              "</div>\n",
              "    <div class=\"colab-df-buttons\">\n",
              "\n",
              "  <div class=\"colab-df-container\">\n",
              "    <button class=\"colab-df-convert\" onclick=\"convertToInteractive('df-3a8778a8-77cd-42d9-857e-5d5bc9085c3b')\"\n",
              "            title=\"Convert this dataframe to an interactive table.\"\n",
              "            style=\"display:none;\">\n",
              "\n",
              "  <svg xmlns=\"http://www.w3.org/2000/svg\" height=\"24px\" viewBox=\"0 -960 960 960\">\n",
              "    <path d=\"M120-120v-720h720v720H120Zm60-500h600v-160H180v160Zm220 220h160v-160H400v160Zm0 220h160v-160H400v160ZM180-400h160v-160H180v160Zm440 0h160v-160H620v160ZM180-180h160v-160H180v160Zm440 0h160v-160H620v160Z\"/>\n",
              "  </svg>\n",
              "    </button>\n",
              "\n",
              "  <style>\n",
              "    .colab-df-container {\n",
              "      display:flex;\n",
              "      gap: 12px;\n",
              "    }\n",
              "\n",
              "    .colab-df-convert {\n",
              "      background-color: #E8F0FE;\n",
              "      border: none;\n",
              "      border-radius: 50%;\n",
              "      cursor: pointer;\n",
              "      display: none;\n",
              "      fill: #1967D2;\n",
              "      height: 32px;\n",
              "      padding: 0 0 0 0;\n",
              "      width: 32px;\n",
              "    }\n",
              "\n",
              "    .colab-df-convert:hover {\n",
              "      background-color: #E2EBFA;\n",
              "      box-shadow: 0px 1px 2px rgba(60, 64, 67, 0.3), 0px 1px 3px 1px rgba(60, 64, 67, 0.15);\n",
              "      fill: #174EA6;\n",
              "    }\n",
              "\n",
              "    .colab-df-buttons div {\n",
              "      margin-bottom: 4px;\n",
              "    }\n",
              "\n",
              "    [theme=dark] .colab-df-convert {\n",
              "      background-color: #3B4455;\n",
              "      fill: #D2E3FC;\n",
              "    }\n",
              "\n",
              "    [theme=dark] .colab-df-convert:hover {\n",
              "      background-color: #434B5C;\n",
              "      box-shadow: 0px 1px 3px 1px rgba(0, 0, 0, 0.15);\n",
              "      filter: drop-shadow(0px 1px 2px rgba(0, 0, 0, 0.3));\n",
              "      fill: #FFFFFF;\n",
              "    }\n",
              "  </style>\n",
              "\n",
              "    <script>\n",
              "      const buttonEl =\n",
              "        document.querySelector('#df-3a8778a8-77cd-42d9-857e-5d5bc9085c3b button.colab-df-convert');\n",
              "      buttonEl.style.display =\n",
              "        google.colab.kernel.accessAllowed ? 'block' : 'none';\n",
              "\n",
              "      async function convertToInteractive(key) {\n",
              "        const element = document.querySelector('#df-3a8778a8-77cd-42d9-857e-5d5bc9085c3b');\n",
              "        const dataTable =\n",
              "          await google.colab.kernel.invokeFunction('convertToInteractive',\n",
              "                                                    [key], {});\n",
              "        if (!dataTable) return;\n",
              "\n",
              "        const docLinkHtml = 'Like what you see? Visit the ' +\n",
              "          '<a target=\"_blank\" href=https://colab.research.google.com/notebooks/data_table.ipynb>data table notebook</a>'\n",
              "          + ' to learn more about interactive tables.';\n",
              "        element.innerHTML = '';\n",
              "        dataTable['output_type'] = 'display_data';\n",
              "        await google.colab.output.renderOutput(dataTable, element);\n",
              "        const docLink = document.createElement('div');\n",
              "        docLink.innerHTML = docLinkHtml;\n",
              "        element.appendChild(docLink);\n",
              "      }\n",
              "    </script>\n",
              "  </div>\n",
              "\n",
              "\n",
              "<div id=\"df-811f0ae6-91ed-4f7d-a847-f7c41052e627\">\n",
              "  <button class=\"colab-df-quickchart\" onclick=\"quickchart('df-811f0ae6-91ed-4f7d-a847-f7c41052e627')\"\n",
              "            title=\"Suggest charts\"\n",
              "            style=\"display:none;\">\n",
              "\n",
              "<svg xmlns=\"http://www.w3.org/2000/svg\" height=\"24px\"viewBox=\"0 0 24 24\"\n",
              "     width=\"24px\">\n",
              "    <g>\n",
              "        <path d=\"M19 3H5c-1.1 0-2 .9-2 2v14c0 1.1.9 2 2 2h14c1.1 0 2-.9 2-2V5c0-1.1-.9-2-2-2zM9 17H7v-7h2v7zm4 0h-2V7h2v10zm4 0h-2v-4h2v4z\"/>\n",
              "    </g>\n",
              "</svg>\n",
              "  </button>\n",
              "\n",
              "<style>\n",
              "  .colab-df-quickchart {\n",
              "      --bg-color: #E8F0FE;\n",
              "      --fill-color: #1967D2;\n",
              "      --hover-bg-color: #E2EBFA;\n",
              "      --hover-fill-color: #174EA6;\n",
              "      --disabled-fill-color: #AAA;\n",
              "      --disabled-bg-color: #DDD;\n",
              "  }\n",
              "\n",
              "  [theme=dark] .colab-df-quickchart {\n",
              "      --bg-color: #3B4455;\n",
              "      --fill-color: #D2E3FC;\n",
              "      --hover-bg-color: #434B5C;\n",
              "      --hover-fill-color: #FFFFFF;\n",
              "      --disabled-bg-color: #3B4455;\n",
              "      --disabled-fill-color: #666;\n",
              "  }\n",
              "\n",
              "  .colab-df-quickchart {\n",
              "    background-color: var(--bg-color);\n",
              "    border: none;\n",
              "    border-radius: 50%;\n",
              "    cursor: pointer;\n",
              "    display: none;\n",
              "    fill: var(--fill-color);\n",
              "    height: 32px;\n",
              "    padding: 0;\n",
              "    width: 32px;\n",
              "  }\n",
              "\n",
              "  .colab-df-quickchart:hover {\n",
              "    background-color: var(--hover-bg-color);\n",
              "    box-shadow: 0 1px 2px rgba(60, 64, 67, 0.3), 0 1px 3px 1px rgba(60, 64, 67, 0.15);\n",
              "    fill: var(--button-hover-fill-color);\n",
              "  }\n",
              "\n",
              "  .colab-df-quickchart-complete:disabled,\n",
              "  .colab-df-quickchart-complete:disabled:hover {\n",
              "    background-color: var(--disabled-bg-color);\n",
              "    fill: var(--disabled-fill-color);\n",
              "    box-shadow: none;\n",
              "  }\n",
              "\n",
              "  .colab-df-spinner {\n",
              "    border: 2px solid var(--fill-color);\n",
              "    border-color: transparent;\n",
              "    border-bottom-color: var(--fill-color);\n",
              "    animation:\n",
              "      spin 1s steps(1) infinite;\n",
              "  }\n",
              "\n",
              "  @keyframes spin {\n",
              "    0% {\n",
              "      border-color: transparent;\n",
              "      border-bottom-color: var(--fill-color);\n",
              "      border-left-color: var(--fill-color);\n",
              "    }\n",
              "    20% {\n",
              "      border-color: transparent;\n",
              "      border-left-color: var(--fill-color);\n",
              "      border-top-color: var(--fill-color);\n",
              "    }\n",
              "    30% {\n",
              "      border-color: transparent;\n",
              "      border-left-color: var(--fill-color);\n",
              "      border-top-color: var(--fill-color);\n",
              "      border-right-color: var(--fill-color);\n",
              "    }\n",
              "    40% {\n",
              "      border-color: transparent;\n",
              "      border-right-color: var(--fill-color);\n",
              "      border-top-color: var(--fill-color);\n",
              "    }\n",
              "    60% {\n",
              "      border-color: transparent;\n",
              "      border-right-color: var(--fill-color);\n",
              "    }\n",
              "    80% {\n",
              "      border-color: transparent;\n",
              "      border-right-color: var(--fill-color);\n",
              "      border-bottom-color: var(--fill-color);\n",
              "    }\n",
              "    90% {\n",
              "      border-color: transparent;\n",
              "      border-bottom-color: var(--fill-color);\n",
              "    }\n",
              "  }\n",
              "</style>\n",
              "\n",
              "  <script>\n",
              "    async function quickchart(key) {\n",
              "      const quickchartButtonEl =\n",
              "        document.querySelector('#' + key + ' button');\n",
              "      quickchartButtonEl.disabled = true;  // To prevent multiple clicks.\n",
              "      quickchartButtonEl.classList.add('colab-df-spinner');\n",
              "      try {\n",
              "        const charts = await google.colab.kernel.invokeFunction(\n",
              "            'suggestCharts', [key], {});\n",
              "      } catch (error) {\n",
              "        console.error('Error during call to suggestCharts:', error);\n",
              "      }\n",
              "      quickchartButtonEl.classList.remove('colab-df-spinner');\n",
              "      quickchartButtonEl.classList.add('colab-df-quickchart-complete');\n",
              "    }\n",
              "    (() => {\n",
              "      let quickchartButtonEl =\n",
              "        document.querySelector('#df-811f0ae6-91ed-4f7d-a847-f7c41052e627 button');\n",
              "      quickchartButtonEl.style.display =\n",
              "        google.colab.kernel.accessAllowed ? 'block' : 'none';\n",
              "    })();\n",
              "  </script>\n",
              "</div>\n",
              "\n",
              "    </div>\n",
              "  </div>\n"
            ],
            "application/vnd.google.colaboratory.intrinsic+json": {
              "type": "dataframe",
              "variable_name": "df",
              "summary": "{\n  \"name\": \"df\",\n  \"rows\": 5997,\n  \"fields\": [\n    {\n      \"column\": \"hotel_name\",\n      \"properties\": {\n        \"dtype\": \"category\",\n        \"num_unique_values\": 150,\n        \"samples\": [\n          \"Travelodge London Central Kings Cross\",\n          \"Wyndham Istanbul Oldcity\",\n          \"The Empire Hotel\"\n        ],\n        \"semantic_type\": \"\",\n        \"description\": \"\"\n      }\n    },\n    {\n      \"column\": \"hotel_description\",\n      \"properties\": {\n        \"dtype\": \"category\",\n        \"num_unique_values\": 130,\n        \"samples\": [\n          \"See why so many travelers make Park Grand Paddington Court their hotel of choice when visiting London. Providing an ideal mix of value, comfort and convenience, it offers a charming setting with an array of amenities designed for travelers like you. You\\u2019ll enjoy relaxing rooms that offer a flat screen TV, air conditioning, and a refrigerator, and you can stay connected during your stay as Park Grand Paddington Court offers guests free WiFi. The hotel features a 24 hour front desk, a concierge, and room service. Plus, Park Grand Paddington Court offers a fitness center and breakfast, providing a pleasant respite from your busy day. Given the close proximity of popular landmarks, such as Buckingham Palace (1.8 mi) and Primrose Hill (1.9 mi), guests of Park Grand Paddington Court can easily experience some of London's most well known attractions. During your visit, be sure to check out one of London's popular tapas restaurants such as Dishoom Covent Garden, The Shed, and StreetXO, all a short distance from Park Grand Paddington Court. If you\\u2019re looking for something to do, Natural History Museum (1.2 mi), Harrods (1.2 mi), and V&A - Victoria and Albert Museum (1.2 mi) are a nice way to spend some time, and they are all within walking distance of Park Grand Paddington Court Hotel. We\\u2019re sure you\\u2019ll enjoy your stay at Park Grand Paddington Court as you experience all of the things London has to offer.\",\n          \"Timeless yet modern, The Westin St. Francis San Francisco on Union Square offers guests a warm welcome with its turn-of-the-20th-century European style. Our hotel in downtown San Francisco, CA, is close to the Financial District and Moscone Convention Center, and with cable cars just outside our front doors, we are at the intersection of the glorious past and vibrant present of this incredible city. After an exciting day, retire to elegant guest rooms, many featuring chandeliers and marble bathrooms. Discover unique and historic-inspired food and beverage offerings at the on-site restaurant and bars, exercise well in the fitness center and experience a new chapter of LA at this storied destination.\",\n          \"Stylish seaside hotel with an outdoor pool and meeting facilities, next to Istanbul Aquarium and Aqua Florya Mall. Ideal for business and leisure travellers, Crowne Plaza\\u00ae Istanbul - Florya hotel is a 15-minute drive from CNR Expo and IDTM exhibition centres. We provide free parking in our secure lot. Transport links by bus, train and road are excellent. We have six fully equipped meeting rooms with a maximum capacity of 800, while our outdoor banquet area has room for 1,250 guests. Our Crowne Plaza Meetings Director is on hand to take care of all the details. The hotel has free Wi-Fi throughout and is completely connected, providing access to power when and where you need it. The Aqua Florya shopping centre and Istanbul Aquarium are both next door to the hotel. Tutankhamun, Treasures of the Child King is at Istanbul Aquarium Event Center until the end of the year. The exhibition, appealing to visitors from all age groups,will be magnificent.\"\n        ],\n        \"semantic_type\": \"\",\n        \"description\": \"\"\n      }\n    },\n    {\n      \"column\": \"review_title\",\n      \"properties\": {\n        \"dtype\": \"string\",\n        \"num_unique_values\": 5314,\n        \"samples\": [\n          \"Nice location. Good breakfast.\",\n          \"Would not recommend a stay at this hotel\",\n          \"Wonderful stay\"\n        ],\n        \"semantic_type\": \"\",\n        \"description\": \"\"\n      }\n    },\n    {\n      \"column\": \"review_text\",\n      \"properties\": {\n        \"dtype\": \"string\",\n        \"num_unique_values\": 4867,\n        \"samples\": [\n          \"Absolutely brilliant staff, aura, doina, daniellla, slave   Was Absolutely brilliant and accomaditing. Great location and amazing customer service.  I recommend this hotel and definitely will stay here again.   \",\n          \"Unfortunately not the best of stays at Citadines and quite upset. We arrived at the hotel around 11am to check our bags in and pay the full amount, we then returned at 4pm to check into our room. We were told to take a seat and waited nearly half an hour without being told anything except 'someone is checking it', but it was very obvious the room was not cleaned as the women can down with a cloth and spray to tell them its okay! We received free breakfast the next morning as an apology what helped but I preferred if they were more honest about the room not being ready.  When we got to our room we impressed by the view, but unfortunately that quickly changed when we realized we were right next to a metro station. This was quite loud every night and extremely disappointing for the\",\n          \"The hotel is excellent and in a great location. Our flight arrived early morning and we went to drop bags with the hotel around 10am and they allowed us an early check in with no additional fees and gave us a room with a fantastic city view of downtown and One World Trade. The front desk was super helpful and got us squared away quickly. The man\\u2019s name was \\u201cZ\\u201d who helped us, and he is the epitome of what top rate customer service is supposed to be. Also enjoyed the bar where they make incredible cocktails and have a nice happy hour (4-7p)\"\n        ],\n        \"semantic_type\": \"\",\n        \"description\": \"\"\n      }\n    },\n    {\n      \"column\": \"rate\",\n      \"properties\": {\n        \"dtype\": \"number\",\n        \"std\": 1.1724493011383668,\n        \"min\": 1.0,\n        \"max\": 5.0,\n        \"num_unique_values\": 5,\n        \"samples\": [\n          4.0,\n          2.0,\n          3.0\n        ],\n        \"semantic_type\": \"\",\n        \"description\": \"\"\n      }\n    },\n    {\n      \"column\": \"tripdate\",\n      \"properties\": {\n        \"dtype\": \"category\",\n        \"num_unique_values\": 76,\n        \"samples\": [\n          \" January 2020\",\n          \" January 2021\",\n          \" November 2021\"\n        ],\n        \"semantic_type\": \"\",\n        \"description\": \"\"\n      }\n    },\n    {\n      \"column\": \"hotel_url\",\n      \"properties\": {\n        \"dtype\": \"category\",\n        \"num_unique_values\": 600,\n        \"samples\": [\n          \"https://www.tripadvisor.com/Hotel_Review-g293974-d294607-Reviews-or20-InterContinental_Istanbul-Istanbul.html\",\n          \"https://www.tripadvisor.com/Hotel_Review-g60763-d7255276-Reviews-or30-The_Knickerbocker-New_York_City_New_York.html\",\n          \"https://www.tripadvisor.com/Hotel_Review-g187147-d197985-Reviews-or10-Pullman_Paris_Eiffel_Tower_Hotel-Paris_Ile_de_France.html\"\n        ],\n        \"semantic_type\": \"\",\n        \"description\": \"\"\n      }\n    },\n    {\n      \"column\": \"hotel_image\",\n      \"properties\": {\n        \"dtype\": \"category\",\n        \"num_unique_values\": 150,\n        \"samples\": [\n          \"https://media-cdn.tripadvisor.com/media/photo-s/26/37/24/88/gb-exterior.jpg\",\n          \"https://media-cdn.tripadvisor.com/media/photo-s/2b/43/07/07/exterior.jpg\",\n          \"https://media-cdn.tripadvisor.com/media/photo-s/29/38/be/d3/empire-hotel-new-york.jpg\"\n        ],\n        \"semantic_type\": \"\",\n        \"description\": \"\"\n      }\n    },\n    {\n      \"column\": \"price_range\",\n      \"properties\": {\n        \"dtype\": \"category\",\n        \"num_unique_values\": 3,\n        \"samples\": [\n          \"$ (Based on Average Nightly Rates for a Standard Room from our Partners)\",\n          \"$$ (Based on Average Nightly Rates for a Standard Room from our Partners)\",\n          \"$$$ (Based on Average Nightly Rates for a Standard Room from our Partners)\"\n        ],\n        \"semantic_type\": \"\",\n        \"description\": \"\"\n      }\n    },\n    {\n      \"column\": \"rating_value\",\n      \"properties\": {\n        \"dtype\": \"number\",\n        \"std\": 0.4327574208245527,\n        \"min\": 3.0,\n        \"max\": 5.0,\n        \"num_unique_values\": 5,\n        \"samples\": [\n          4.5,\n          3.5,\n          4.0\n        ],\n        \"semantic_type\": \"\",\n        \"description\": \"\"\n      }\n    },\n    {\n      \"column\": \"review_count\",\n      \"properties\": {\n        \"dtype\": \"number\",\n        \"std\": 3771,\n        \"min\": 39,\n        \"max\": 24877,\n        \"num_unique_values\": 147,\n        \"samples\": [\n          3755,\n          1878,\n          471\n        ],\n        \"semantic_type\": \"\",\n        \"description\": \"\"\n      }\n    },\n    {\n      \"column\": \"street_address\",\n      \"properties\": {\n        \"dtype\": \"category\",\n        \"num_unique_values\": 150,\n        \"samples\": [\n          \"Willing House 356-364 Gray's Inn Road Willings House\",\n          \"Kemalpasa Mah. Sehzadebasi Cad. Celal Aga Konagi No 1\",\n          \"44 West 63rd Street\"\n        ],\n        \"semantic_type\": \"\",\n        \"description\": \"\"\n      }\n    },\n    {\n      \"column\": \"locality\",\n      \"properties\": {\n        \"dtype\": \"category\",\n        \"num_unique_values\": 5,\n        \"samples\": [\n          \"San Francisco\",\n          \"Paris\",\n          \"London\"\n        ],\n        \"semantic_type\": \"\",\n        \"description\": \"\"\n      }\n    },\n    {\n      \"column\": \"country\",\n      \"properties\": {\n        \"dtype\": \"category\",\n        \"num_unique_values\": 5,\n        \"samples\": [\n          \"T\\u00fcrkiye\",\n          \"France\",\n          \"United States\"\n        ],\n        \"semantic_type\": \"\",\n        \"description\": \"\"\n      }\n    }\n  ]\n}"
            }
          },
          "metadata": {},
          "execution_count": 16
        }
      ]
    },
    {
      "cell_type": "markdown",
      "source": [
        "#Adding an index"
      ],
      "metadata": {
        "id": "oICr-4LrE_Af"
      }
    },
    {
      "cell_type": "code",
      "source": [
        "df[\"id\"] = df.index + 1"
      ],
      "metadata": {
        "id": "hFIo71obE9T5"
      },
      "execution_count": 17,
      "outputs": []
    },
    {
      "cell_type": "code",
      "execution_count": 22,
      "metadata": {
        "id": "8esN82F2UNph",
        "colab": {
          "base_uri": "https://localhost:8080/"
        },
        "outputId": "0604836b-dfc0-48fa-bb3a-0b2d4e73efb2"
      },
      "outputs": [
        {
          "name": "stdout",
          "output_type": "stream",
          "text": [
            "Input a Big Query TABLE_NAME:hotel_reviews\n"
          ]
        }
      ],
      "source": [
        "from google.cloud import bigquery\n",
        "\n",
        "# Create bigquery client\n",
        "bq = bigquery.Client(project=PROJECT_ID)\n",
        "\n",
        "TABLE_NAME = input(\"Input a Big Query TABLE_NAME:\") #hotel_reviews - Jay: When I switch this with hotel_data per instructions, the data set does not have id. ? https://console.cloud.google.com/bigquery?project=acrobatllm&ws=!1m5!1m4!4m3!1sacrobatllm!2sgoogle_redis_llms!3shotel_data - I am an idiot I did not create id as an index for hotel_data\n",
        "DATASET_ID = f\"{PROJECT_ID}.google_redis_llms\"\n",
        "\n",
        "# Create dataset\n",
        "dataset = bigquery.Dataset(DATASET_ID)\n",
        "dataset.location = \"US\"\n",
        "dataset = bq.create_dataset(dataset, timeout=30, exists_ok=True)\n",
        "\n",
        "# Define table ID\n",
        "TABLE_ID = f\"{DATASET_ID}.{TABLE_NAME}\""
      ]
    },
    {
      "cell_type": "code",
      "source": [
        "# client = bigquery.Client()\n",
        "job = bq.load_table_from_dataframe(\n",
        "    df, TABLE_ID\n",
        ")  # Make an API request.\n",
        "job.result()"
      ],
      "metadata": {
        "colab": {
          "base_uri": "https://localhost:8080/"
        },
        "id": "woCBSA4zBV4c",
        "outputId": "4ab210ce-8cfd-4cfe-b00e-0750f8d866b1"
      },
      "execution_count": 23,
      "outputs": [
        {
          "output_type": "execute_result",
          "data": {
            "text/plain": [
              "LoadJob<project=acrobatllm, location=US, id=a5242e57-fb74-43ad-866d-a23fe95af97d>"
            ]
          },
          "metadata": {},
          "execution_count": 23
        }
      ]
    },
    {
      "cell_type": "code",
      "source": [
        "table = bq.get_table(TABLE_ID)"
      ],
      "metadata": {
        "id": "4DiarcjTCcvY"
      },
      "execution_count": 24,
      "outputs": []
    },
    {
      "cell_type": "code",
      "source": [
        "table"
      ],
      "metadata": {
        "colab": {
          "base_uri": "https://localhost:8080/"
        },
        "id": "uBMLf6GvCfh-",
        "outputId": "885f28f7-407a-4f42-f1da-69db378c32a1"
      },
      "execution_count": 25,
      "outputs": [
        {
          "output_type": "execute_result",
          "data": {
            "text/plain": [
              "Table(TableReference(DatasetReference('acrobatllm', 'google_redis_llms'), 'hotel_reviews'))"
            ]
          },
          "metadata": {},
          "execution_count": 25
        }
      ]
    },
    {
      "cell_type": "code",
      "source": [
        "table.schema"
      ],
      "metadata": {
        "colab": {
          "base_uri": "https://localhost:8080/"
        },
        "id": "iyXNCC-bCpiW",
        "outputId": "ea2b9874-c118-4562-c12f-af5849ee412b"
      },
      "execution_count": 26,
      "outputs": [
        {
          "output_type": "execute_result",
          "data": {
            "text/plain": [
              "[SchemaField('hotel_name', 'STRING', 'NULLABLE', None, None, (), None),\n",
              " SchemaField('hotel_description', 'STRING', 'NULLABLE', None, None, (), None),\n",
              " SchemaField('review_title', 'STRING', 'NULLABLE', None, None, (), None),\n",
              " SchemaField('review_text', 'STRING', 'NULLABLE', None, None, (), None),\n",
              " SchemaField('rate', 'FLOAT', 'NULLABLE', None, None, (), None),\n",
              " SchemaField('tripdate', 'STRING', 'NULLABLE', None, None, (), None),\n",
              " SchemaField('hotel_url', 'STRING', 'NULLABLE', None, None, (), None),\n",
              " SchemaField('hotel_image', 'STRING', 'NULLABLE', None, None, (), None),\n",
              " SchemaField('price_range', 'STRING', 'NULLABLE', None, None, (), None),\n",
              " SchemaField('rating_value', 'FLOAT', 'NULLABLE', None, None, (), None),\n",
              " SchemaField('review_count', 'INTEGER', 'NULLABLE', None, None, (), None),\n",
              " SchemaField('street_address', 'STRING', 'NULLABLE', None, None, (), None),\n",
              " SchemaField('locality', 'STRING', 'NULLABLE', None, None, (), None),\n",
              " SchemaField('country', 'STRING', 'NULLABLE', None, None, (), None),\n",
              " SchemaField('id', 'INTEGER', 'NULLABLE', None, None, (), None)]"
            ]
          },
          "metadata": {},
          "execution_count": 26
        }
      ]
    },
    {
      "cell_type": "markdown",
      "source": [
        "Make sure to enable API key: https://cloud.google.com/bigquery/docs/explore-data-colab"
      ],
      "metadata": {
        "id": "PczCJQL4j-8z"
      }
    },
    {
      "cell_type": "markdown",
      "source": [
        "## Load data from BigQuery - Hotel reviews.csv"
      ],
      "metadata": {
        "id": "TrJlD3IETgwP"
      }
    },
    {
      "cell_type": "code",
      "source": [
        "from google.cloud import bigquery\n",
        "\n",
        "PROJECT_ID = \"acrobatllm\"\n",
        "TABLE_NAME = \"hotel_reviews\"\n",
        "\n",
        "query = f\"\"\"\n",
        "SELECT * FROM `{PROJECT_ID}.google_redis_llms.{TABLE_NAME}`\n",
        "\"\"\"\n",
        "\n",
        "# Initialize the BigQuery client\n",
        "client = bigquery.Client(project=PROJECT_ID)\n",
        "\n",
        "results = client.query(query).to_dataframe()"
      ],
      "metadata": {
        "id": "aGFXmR6Jlf8o"
      },
      "execution_count": 27,
      "outputs": []
    },
    {
      "cell_type": "code",
      "source": [
        "results.head(3)"
      ],
      "metadata": {
        "colab": {
          "base_uri": "https://localhost:8080/",
          "height": 319
        },
        "id": "5VgkAlY5lR1y",
        "outputId": "a946ff58-4121-404e-ad3d-6c2c4befba73"
      },
      "execution_count": 28,
      "outputs": [
        {
          "output_type": "execute_result",
          "data": {
            "text/plain": [
              "                    hotel_name hotel_description            review_title  \\\n",
              "0  Citadines Tour Eiffel Paris              None  No pride of ownership    \n",
              "1  Citadines Tour Eiffel Paris              None      Location Location!   \n",
              "2  Citadines Tour Eiffel Paris              None           Amazing stay!   \n",
              "\n",
              "                                         review_text  rate        tripdate  \\\n",
              "0  If you’ve ever stayed at a hotel which owners ...   2.0   November 2023   \n",
              "1  Citadines for is located in a great place, clo...   4.0      April 2023   \n",
              "2  We absolutely loved this hotel! The staff was ...   5.0   November 2023   \n",
              "\n",
              "                                           hotel_url  \\\n",
              "0  https://www.tripadvisor.com/Hotel_Review-g1871...   \n",
              "1  https://www.tripadvisor.com/Hotel_Review-g1871...   \n",
              "2  https://www.tripadvisor.com/Hotel_Review-g1871...   \n",
              "\n",
              "                                         hotel_image  \\\n",
              "0  https://media-cdn.tripadvisor.com/media/photo-...   \n",
              "1  https://media-cdn.tripadvisor.com/media/photo-...   \n",
              "2  https://media-cdn.tripadvisor.com/media/photo-...   \n",
              "\n",
              "                                         price_range  rating_value  \\\n",
              "0  $$ (Based on Average Nightly Rates for a Stand...           4.0   \n",
              "1  $$ (Based on Average Nightly Rates for a Stand...           4.0   \n",
              "2  $$ (Based on Average Nightly Rates for a Stand...           4.0   \n",
              "\n",
              "   review_count                       street_address locality country    id  \n",
              "0           471  132 boulevard de Grenelle 15th Arr.    Paris  France  5598  \n",
              "1           471  132 boulevard de Grenelle 15th Arr.    Paris  France  5599  \n",
              "2           471  132 boulevard de Grenelle 15th Arr.    Paris  France  5600  "
            ],
            "text/html": [
              "\n",
              "  <div id=\"df-8500f0fb-81d9-4309-abd4-d10770c3349a\" class=\"colab-df-container\">\n",
              "    <div>\n",
              "<style scoped>\n",
              "    .dataframe tbody tr th:only-of-type {\n",
              "        vertical-align: middle;\n",
              "    }\n",
              "\n",
              "    .dataframe tbody tr th {\n",
              "        vertical-align: top;\n",
              "    }\n",
              "\n",
              "    .dataframe thead th {\n",
              "        text-align: right;\n",
              "    }\n",
              "</style>\n",
              "<table border=\"1\" class=\"dataframe\">\n",
              "  <thead>\n",
              "    <tr style=\"text-align: right;\">\n",
              "      <th></th>\n",
              "      <th>hotel_name</th>\n",
              "      <th>hotel_description</th>\n",
              "      <th>review_title</th>\n",
              "      <th>review_text</th>\n",
              "      <th>rate</th>\n",
              "      <th>tripdate</th>\n",
              "      <th>hotel_url</th>\n",
              "      <th>hotel_image</th>\n",
              "      <th>price_range</th>\n",
              "      <th>rating_value</th>\n",
              "      <th>review_count</th>\n",
              "      <th>street_address</th>\n",
              "      <th>locality</th>\n",
              "      <th>country</th>\n",
              "      <th>id</th>\n",
              "    </tr>\n",
              "  </thead>\n",
              "  <tbody>\n",
              "    <tr>\n",
              "      <th>0</th>\n",
              "      <td>Citadines Tour Eiffel Paris</td>\n",
              "      <td>None</td>\n",
              "      <td>No pride of ownership</td>\n",
              "      <td>If you’ve ever stayed at a hotel which owners ...</td>\n",
              "      <td>2.0</td>\n",
              "      <td>November 2023</td>\n",
              "      <td>https://www.tripadvisor.com/Hotel_Review-g1871...</td>\n",
              "      <td>https://media-cdn.tripadvisor.com/media/photo-...</td>\n",
              "      <td>$$ (Based on Average Nightly Rates for a Stand...</td>\n",
              "      <td>4.0</td>\n",
              "      <td>471</td>\n",
              "      <td>132 boulevard de Grenelle 15th Arr.</td>\n",
              "      <td>Paris</td>\n",
              "      <td>France</td>\n",
              "      <td>5598</td>\n",
              "    </tr>\n",
              "    <tr>\n",
              "      <th>1</th>\n",
              "      <td>Citadines Tour Eiffel Paris</td>\n",
              "      <td>None</td>\n",
              "      <td>Location Location!</td>\n",
              "      <td>Citadines for is located in a great place, clo...</td>\n",
              "      <td>4.0</td>\n",
              "      <td>April 2023</td>\n",
              "      <td>https://www.tripadvisor.com/Hotel_Review-g1871...</td>\n",
              "      <td>https://media-cdn.tripadvisor.com/media/photo-...</td>\n",
              "      <td>$$ (Based on Average Nightly Rates for a Stand...</td>\n",
              "      <td>4.0</td>\n",
              "      <td>471</td>\n",
              "      <td>132 boulevard de Grenelle 15th Arr.</td>\n",
              "      <td>Paris</td>\n",
              "      <td>France</td>\n",
              "      <td>5599</td>\n",
              "    </tr>\n",
              "    <tr>\n",
              "      <th>2</th>\n",
              "      <td>Citadines Tour Eiffel Paris</td>\n",
              "      <td>None</td>\n",
              "      <td>Amazing stay!</td>\n",
              "      <td>We absolutely loved this hotel! The staff was ...</td>\n",
              "      <td>5.0</td>\n",
              "      <td>November 2023</td>\n",
              "      <td>https://www.tripadvisor.com/Hotel_Review-g1871...</td>\n",
              "      <td>https://media-cdn.tripadvisor.com/media/photo-...</td>\n",
              "      <td>$$ (Based on Average Nightly Rates for a Stand...</td>\n",
              "      <td>4.0</td>\n",
              "      <td>471</td>\n",
              "      <td>132 boulevard de Grenelle 15th Arr.</td>\n",
              "      <td>Paris</td>\n",
              "      <td>France</td>\n",
              "      <td>5600</td>\n",
              "    </tr>\n",
              "  </tbody>\n",
              "</table>\n",
              "</div>\n",
              "    <div class=\"colab-df-buttons\">\n",
              "\n",
              "  <div class=\"colab-df-container\">\n",
              "    <button class=\"colab-df-convert\" onclick=\"convertToInteractive('df-8500f0fb-81d9-4309-abd4-d10770c3349a')\"\n",
              "            title=\"Convert this dataframe to an interactive table.\"\n",
              "            style=\"display:none;\">\n",
              "\n",
              "  <svg xmlns=\"http://www.w3.org/2000/svg\" height=\"24px\" viewBox=\"0 -960 960 960\">\n",
              "    <path d=\"M120-120v-720h720v720H120Zm60-500h600v-160H180v160Zm220 220h160v-160H400v160Zm0 220h160v-160H400v160ZM180-400h160v-160H180v160Zm440 0h160v-160H620v160ZM180-180h160v-160H180v160Zm440 0h160v-160H620v160Z\"/>\n",
              "  </svg>\n",
              "    </button>\n",
              "\n",
              "  <style>\n",
              "    .colab-df-container {\n",
              "      display:flex;\n",
              "      gap: 12px;\n",
              "    }\n",
              "\n",
              "    .colab-df-convert {\n",
              "      background-color: #E8F0FE;\n",
              "      border: none;\n",
              "      border-radius: 50%;\n",
              "      cursor: pointer;\n",
              "      display: none;\n",
              "      fill: #1967D2;\n",
              "      height: 32px;\n",
              "      padding: 0 0 0 0;\n",
              "      width: 32px;\n",
              "    }\n",
              "\n",
              "    .colab-df-convert:hover {\n",
              "      background-color: #E2EBFA;\n",
              "      box-shadow: 0px 1px 2px rgba(60, 64, 67, 0.3), 0px 1px 3px 1px rgba(60, 64, 67, 0.15);\n",
              "      fill: #174EA6;\n",
              "    }\n",
              "\n",
              "    .colab-df-buttons div {\n",
              "      margin-bottom: 4px;\n",
              "    }\n",
              "\n",
              "    [theme=dark] .colab-df-convert {\n",
              "      background-color: #3B4455;\n",
              "      fill: #D2E3FC;\n",
              "    }\n",
              "\n",
              "    [theme=dark] .colab-df-convert:hover {\n",
              "      background-color: #434B5C;\n",
              "      box-shadow: 0px 1px 3px 1px rgba(0, 0, 0, 0.15);\n",
              "      filter: drop-shadow(0px 1px 2px rgba(0, 0, 0, 0.3));\n",
              "      fill: #FFFFFF;\n",
              "    }\n",
              "  </style>\n",
              "\n",
              "    <script>\n",
              "      const buttonEl =\n",
              "        document.querySelector('#df-8500f0fb-81d9-4309-abd4-d10770c3349a button.colab-df-convert');\n",
              "      buttonEl.style.display =\n",
              "        google.colab.kernel.accessAllowed ? 'block' : 'none';\n",
              "\n",
              "      async function convertToInteractive(key) {\n",
              "        const element = document.querySelector('#df-8500f0fb-81d9-4309-abd4-d10770c3349a');\n",
              "        const dataTable =\n",
              "          await google.colab.kernel.invokeFunction('convertToInteractive',\n",
              "                                                    [key], {});\n",
              "        if (!dataTable) return;\n",
              "\n",
              "        const docLinkHtml = 'Like what you see? Visit the ' +\n",
              "          '<a target=\"_blank\" href=https://colab.research.google.com/notebooks/data_table.ipynb>data table notebook</a>'\n",
              "          + ' to learn more about interactive tables.';\n",
              "        element.innerHTML = '';\n",
              "        dataTable['output_type'] = 'display_data';\n",
              "        await google.colab.output.renderOutput(dataTable, element);\n",
              "        const docLink = document.createElement('div');\n",
              "        docLink.innerHTML = docLinkHtml;\n",
              "        element.appendChild(docLink);\n",
              "      }\n",
              "    </script>\n",
              "  </div>\n",
              "\n",
              "\n",
              "<div id=\"df-8c3a833f-dfda-4053-b8b5-7fdf9070dac0\">\n",
              "  <button class=\"colab-df-quickchart\" onclick=\"quickchart('df-8c3a833f-dfda-4053-b8b5-7fdf9070dac0')\"\n",
              "            title=\"Suggest charts\"\n",
              "            style=\"display:none;\">\n",
              "\n",
              "<svg xmlns=\"http://www.w3.org/2000/svg\" height=\"24px\"viewBox=\"0 0 24 24\"\n",
              "     width=\"24px\">\n",
              "    <g>\n",
              "        <path d=\"M19 3H5c-1.1 0-2 .9-2 2v14c0 1.1.9 2 2 2h14c1.1 0 2-.9 2-2V5c0-1.1-.9-2-2-2zM9 17H7v-7h2v7zm4 0h-2V7h2v10zm4 0h-2v-4h2v4z\"/>\n",
              "    </g>\n",
              "</svg>\n",
              "  </button>\n",
              "\n",
              "<style>\n",
              "  .colab-df-quickchart {\n",
              "      --bg-color: #E8F0FE;\n",
              "      --fill-color: #1967D2;\n",
              "      --hover-bg-color: #E2EBFA;\n",
              "      --hover-fill-color: #174EA6;\n",
              "      --disabled-fill-color: #AAA;\n",
              "      --disabled-bg-color: #DDD;\n",
              "  }\n",
              "\n",
              "  [theme=dark] .colab-df-quickchart {\n",
              "      --bg-color: #3B4455;\n",
              "      --fill-color: #D2E3FC;\n",
              "      --hover-bg-color: #434B5C;\n",
              "      --hover-fill-color: #FFFFFF;\n",
              "      --disabled-bg-color: #3B4455;\n",
              "      --disabled-fill-color: #666;\n",
              "  }\n",
              "\n",
              "  .colab-df-quickchart {\n",
              "    background-color: var(--bg-color);\n",
              "    border: none;\n",
              "    border-radius: 50%;\n",
              "    cursor: pointer;\n",
              "    display: none;\n",
              "    fill: var(--fill-color);\n",
              "    height: 32px;\n",
              "    padding: 0;\n",
              "    width: 32px;\n",
              "  }\n",
              "\n",
              "  .colab-df-quickchart:hover {\n",
              "    background-color: var(--hover-bg-color);\n",
              "    box-shadow: 0 1px 2px rgba(60, 64, 67, 0.3), 0 1px 3px 1px rgba(60, 64, 67, 0.15);\n",
              "    fill: var(--button-hover-fill-color);\n",
              "  }\n",
              "\n",
              "  .colab-df-quickchart-complete:disabled,\n",
              "  .colab-df-quickchart-complete:disabled:hover {\n",
              "    background-color: var(--disabled-bg-color);\n",
              "    fill: var(--disabled-fill-color);\n",
              "    box-shadow: none;\n",
              "  }\n",
              "\n",
              "  .colab-df-spinner {\n",
              "    border: 2px solid var(--fill-color);\n",
              "    border-color: transparent;\n",
              "    border-bottom-color: var(--fill-color);\n",
              "    animation:\n",
              "      spin 1s steps(1) infinite;\n",
              "  }\n",
              "\n",
              "  @keyframes spin {\n",
              "    0% {\n",
              "      border-color: transparent;\n",
              "      border-bottom-color: var(--fill-color);\n",
              "      border-left-color: var(--fill-color);\n",
              "    }\n",
              "    20% {\n",
              "      border-color: transparent;\n",
              "      border-left-color: var(--fill-color);\n",
              "      border-top-color: var(--fill-color);\n",
              "    }\n",
              "    30% {\n",
              "      border-color: transparent;\n",
              "      border-left-color: var(--fill-color);\n",
              "      border-top-color: var(--fill-color);\n",
              "      border-right-color: var(--fill-color);\n",
              "    }\n",
              "    40% {\n",
              "      border-color: transparent;\n",
              "      border-right-color: var(--fill-color);\n",
              "      border-top-color: var(--fill-color);\n",
              "    }\n",
              "    60% {\n",
              "      border-color: transparent;\n",
              "      border-right-color: var(--fill-color);\n",
              "    }\n",
              "    80% {\n",
              "      border-color: transparent;\n",
              "      border-right-color: var(--fill-color);\n",
              "      border-bottom-color: var(--fill-color);\n",
              "    }\n",
              "    90% {\n",
              "      border-color: transparent;\n",
              "      border-bottom-color: var(--fill-color);\n",
              "    }\n",
              "  }\n",
              "</style>\n",
              "\n",
              "  <script>\n",
              "    async function quickchart(key) {\n",
              "      const quickchartButtonEl =\n",
              "        document.querySelector('#' + key + ' button');\n",
              "      quickchartButtonEl.disabled = true;  // To prevent multiple clicks.\n",
              "      quickchartButtonEl.classList.add('colab-df-spinner');\n",
              "      try {\n",
              "        const charts = await google.colab.kernel.invokeFunction(\n",
              "            'suggestCharts', [key], {});\n",
              "      } catch (error) {\n",
              "        console.error('Error during call to suggestCharts:', error);\n",
              "      }\n",
              "      quickchartButtonEl.classList.remove('colab-df-spinner');\n",
              "      quickchartButtonEl.classList.add('colab-df-quickchart-complete');\n",
              "    }\n",
              "    (() => {\n",
              "      let quickchartButtonEl =\n",
              "        document.querySelector('#df-8c3a833f-dfda-4053-b8b5-7fdf9070dac0 button');\n",
              "      quickchartButtonEl.style.display =\n",
              "        google.colab.kernel.accessAllowed ? 'block' : 'none';\n",
              "    })();\n",
              "  </script>\n",
              "</div>\n",
              "\n",
              "    </div>\n",
              "  </div>\n"
            ],
            "application/vnd.google.colaboratory.intrinsic+json": {
              "type": "dataframe",
              "variable_name": "results",
              "summary": "{\n  \"name\": \"results\",\n  \"rows\": 17991,\n  \"fields\": [\n    {\n      \"column\": \"hotel_name\",\n      \"properties\": {\n        \"dtype\": \"category\",\n        \"num_unique_values\": 150,\n        \"samples\": [\n          \"Marriott Marquis San Francisco\",\n          \"Hotel Tourisme Avenue\",\n          \"Motto by Hilton New York City Chelsea\"\n        ],\n        \"semantic_type\": \"\",\n        \"description\": \"\"\n      }\n    },\n    {\n      \"column\": \"hotel_description\",\n      \"properties\": {\n        \"dtype\": \"category\",\n        \"num_unique_values\": 130,\n        \"samples\": [\n          \"More than a mere five-star hotel, AJWA Sultanahmet offers serenity and gracious hospitality in settings akin to a private mansion. Adorned with exquisite mother-of-pearl furniture, silk Tabriz carpets, original artwork, unique marble work, hand-painted ceilings and specially commissioned tiles throughout its 61 rooms, suites and public areas, the hotel embraces all aspects of luxury hospitality with a halal approach. Smoking and use of all tobacco products is prohibited in guest rooms and all public areas with the exception of designated area for smokers. The hotel is alcohol-free. In keeping with the significance of the word \\u201cAJWA\\u201d, a type of date associated with health and well-being which emanates from the holy city of Madinah, AJWA Hotels too offers a secure and welcoming environment to all of its guests, local and international alike.\",\n          \"The building named after Kumbarac\\u0131 Ramp, one of the most well-known streets of Beyo\\u011flu consists of 24 rooms with a surface area of approximately 23-61 sq. meters and bar with a fireplace, restaurant and bistro.This building that attracts the attention of people walking by in Istiklal Street with its historical exteriors is located in Asmal\\u0131 Mescit that became the center of not only our cultural heritage but also the entertainment with lively caf\\u00e9s and restaurants.Asmal\\u0131 Mescit, the most well-known area of Beyo\\u011flu and the most popular district of historical Pera resisting to being forgotten and defeated by time is the meeting point of entertainment lovers thanks to its night clubs and bars. Current historic fabric was restored with modern lines and it is surrounded by boutique hotels, restaurants and entertainment facilities. Thus Asmal\\u0131mescit, the center of night life in Istanbul and the mirror of Beyo\\u011flu not only entertains but also displays the finest details of cultural heritage. The building of The Story Hotel Pera dating back to early 1900s and matching with this location elegantly features the typical characteristics of French architecture that forms the architectural style of Beyo\\u011flu predominantly. It was intended to create large suit rooms in this building which was decorated successfully to maximize the functionality. The Story Hotel Pera combines the modernism and history with its high ceilings, large passageways, marble spiral staircase and bar in the ground floor.\",\n          \"La Maison Favart opened on April, 13th 2012 after 1 year and a half of renovation. 31 Bedrooms, 5 suites, 1 Duplex and La Petite Maison are proposed to you. It is a 4 star hotel, serving a very nice buffet breakfast. A honesty bar, a sauna, a relaxing pool, a fitness room are at the disposal of our guests. In every room, you can find air conditionning, king size bed, minibar, safety box, TV with free moovies, coffee and tea facilities.\"\n        ],\n        \"semantic_type\": \"\",\n        \"description\": \"\"\n      }\n    },\n    {\n      \"column\": \"review_title\",\n      \"properties\": {\n        \"dtype\": \"category\",\n        \"num_unique_values\": 5314,\n        \"samples\": [\n          \"not 5 star as claimed\",\n          \"Stayed in the most centric place in NY\",\n          \"NOT a 5 star hotel ! \"\n        ],\n        \"semantic_type\": \"\",\n        \"description\": \"\"\n      }\n    },\n    {\n      \"column\": \"review_text\",\n      \"properties\": {\n        \"dtype\": \"category\",\n        \"num_unique_values\": 4867,\n        \"samples\": [\n          \"it was good. you have potential to do better. loved the breakfast. great location. good service from staff. great lounges and heating. interior was really nice and well thought for the value. not sure why windows dont open? thats it.\",\n          \"The Hotel is very centric and with good connections to move around. The people was very nice and the breakfast really good.  The only issue was the size of the room, a bit small. But for the rest was a very pleasant experience. \",\n          \"The service was excellent on all levels.  The rooms were clean and nice and new.  No carpet on the floor which I liked.  Go see Anson at the bar.  He makes amazing craft cocktails that will keep you coming back.  The food was excellent as well.\"\n        ],\n        \"semantic_type\": \"\",\n        \"description\": \"\"\n      }\n    },\n    {\n      \"column\": \"rate\",\n      \"properties\": {\n        \"dtype\": \"number\",\n        \"std\": 1.1723689936413626,\n        \"min\": 1.0,\n        \"max\": 5.0,\n        \"num_unique_values\": 5,\n        \"samples\": [\n          4.0,\n          3.0,\n          5.0\n        ],\n        \"semantic_type\": \"\",\n        \"description\": \"\"\n      }\n    },\n    {\n      \"column\": \"tripdate\",\n      \"properties\": {\n        \"dtype\": \"category\",\n        \"num_unique_values\": 76,\n        \"samples\": [\n          \" January 2023\",\n          \" November 2018\",\n          \" September 2022\"\n        ],\n        \"semantic_type\": \"\",\n        \"description\": \"\"\n      }\n    },\n    {\n      \"column\": \"hotel_url\",\n      \"properties\": {\n        \"dtype\": \"category\",\n        \"num_unique_values\": 600,\n        \"samples\": [\n          \"https://www.tripadvisor.com/Hotel_Review-g187147-d266280-Reviews-or20-Cler_Hotel-Paris_Ile_de_France.html\",\n          \"https://www.tripadvisor.com/Hotel_Review-g60763-d25364031-Reviews-or30-Tempo_by_Hilton_New_York_Times_Square-New_York_City_New_York.html\",\n          \"https://www.tripadvisor.com/Hotel_Review-g186338-d3530264-Reviews-or10-Novotel_London_Blackfriars-London_England.html\"\n        ],\n        \"semantic_type\": \"\",\n        \"description\": \"\"\n      }\n    },\n    {\n      \"column\": \"hotel_image\",\n      \"properties\": {\n        \"dtype\": \"category\",\n        \"num_unique_values\": 150,\n        \"samples\": [\n          \"https://media-cdn.tripadvisor.com/media/photo-s/2a/fd/2b/82/exterior.jpg\",\n          \"https://media-cdn.tripadvisor.com/media/photo-s/29/a5/00/77/family-privilege.jpg\",\n          \"https://media-cdn.tripadvisor.com/media/photo-s/2a/d3/d1/a6/exterior.jpg\"\n        ],\n        \"semantic_type\": \"\",\n        \"description\": \"\"\n      }\n    },\n    {\n      \"column\": \"price_range\",\n      \"properties\": {\n        \"dtype\": \"category\",\n        \"num_unique_values\": 3,\n        \"samples\": [\n          \"$$ (Based on Average Nightly Rates for a Standard Room from our Partners)\",\n          \"$ (Based on Average Nightly Rates for a Standard Room from our Partners)\",\n          \"$$$ (Based on Average Nightly Rates for a Standard Room from our Partners)\"\n        ],\n        \"semantic_type\": \"\",\n        \"description\": \"\"\n      }\n    },\n    {\n      \"column\": \"rating_value\",\n      \"properties\": {\n        \"dtype\": \"number\",\n        \"std\": 0.4327333647128675,\n        \"min\": 3.0,\n        \"max\": 5.0,\n        \"num_unique_values\": 5,\n        \"samples\": [\n          4.5,\n          3.5,\n          5.0\n        ],\n        \"semantic_type\": \"\",\n        \"description\": \"\"\n      }\n    },\n    {\n      \"column\": \"review_count\",\n      \"properties\": {\n        \"dtype\": \"Int64\",\n        \"num_unique_values\": 147,\n        \"samples\": [\n          2133,\n          2412,\n          3515\n        ],\n        \"semantic_type\": \"\",\n        \"description\": \"\"\n      }\n    },\n    {\n      \"column\": \"street_address\",\n      \"properties\": {\n        \"dtype\": \"category\",\n        \"num_unique_values\": 150,\n        \"samples\": [\n          \"780 Mission Street\",\n          \"66 avenue de la Motte Picquet\",\n          \"113 West 24th Street\"\n        ],\n        \"semantic_type\": \"\",\n        \"description\": \"\"\n      }\n    },\n    {\n      \"column\": \"locality\",\n      \"properties\": {\n        \"dtype\": \"category\",\n        \"num_unique_values\": 5,\n        \"samples\": [\n          \"Istanbul\",\n          \"London\",\n          \"San Francisco\"\n        ],\n        \"semantic_type\": \"\",\n        \"description\": \"\"\n      }\n    },\n    {\n      \"column\": \"country\",\n      \"properties\": {\n        \"dtype\": \"category\",\n        \"num_unique_values\": 5,\n        \"samples\": [\n          \"Turkiye\",\n          \"United Kingdom\",\n          \"T\\u00fcrkiye\"\n        ],\n        \"semantic_type\": \"\",\n        \"description\": \"\"\n      }\n    },\n    {\n      \"column\": \"id\",\n      \"properties\": {\n        \"dtype\": \"Int64\",\n        \"num_unique_values\": 5997,\n        \"samples\": [\n          5722,\n          2879,\n          5785\n        ],\n        \"semantic_type\": \"\",\n        \"description\": \"\"\n      }\n    }\n  ]\n}"
            }
          },
          "metadata": {},
          "execution_count": 28
        }
      ]
    },
    {
      "cell_type": "code",
      "source": [
        "# prompt: distinct values from country in results df - had some issues in testing cache hence the distinct countries.\n",
        "\n",
        "distinct_countries = results['country'].unique()\n",
        "print(distinct_countries)"
      ],
      "metadata": {
        "colab": {
          "base_uri": "https://localhost:8080/"
        },
        "id": "bGjxkEgLSg_I",
        "outputId": "2c51b53a-b363-4b76-b82e-9c65f03a5435"
      },
      "execution_count": 29,
      "outputs": [
        {
          "output_type": "stream",
          "name": "stdout",
          "text": [
            "['France' 'Turkiye' 'Türkiye' 'United States' 'United Kingdom']\n"
          ]
        }
      ]
    },
    {
      "cell_type": "markdown",
      "metadata": {
        "id": "9vDGqjHmVgjB"
      },
      "source": [
        "## 3. Generate Embeddings"
      ]
    },
    {
      "cell_type": "markdown",
      "metadata": {
        "id": "0Kh0ObD4xZtK"
      },
      "source": [
        "### Create text embeddings with Vertex AI embedding model\n",
        "Use the [Vertex AI API for text embeddings](https://cloud.google.com/vertex-ai/docs/generative-ai/embeddings/get-text-embeddings), developed by Google.\n",
        "\n",
        "> Text embeddings are a dense vector representation of a piece of content such that, if two pieces of content are semantically similar, their respective embeddings are located near each other in the embedding vector space. This representation can be used to solve common NLP tasks, such as:\n",
        "> - **Semantic search**: Search text ranked by semantic similarity.\n",
        "> - **Recommendation**: Return items with text attributes similar to the given text.\n",
        "> - **Classification**: Return the class of items whose text attributes are similar to the given text.\n",
        "> - **Clustering**: Cluster items whose text attributes are similar to the given text.\n",
        "> - **Outlier Detection**: Return items where text attributes are least related to the given text.\n",
        "\n",
        "The `textembedding-gecko` model accepts a maximum of 3,072 input tokens (i.e. words) and outputs 768-dimensional vector embeddings."
      ]
    },
    {
      "cell_type": "markdown",
      "metadata": {
        "id": "x3o_9ehYuEpA"
      },
      "source": [
        "### Define embedding helper function\n",
        "We define a helper function, `embedding_model_with_backoff`, to create embeddings from a list of texts while making it resilient to [Vertex AI API quotas](https://cloud.google.com/vertex-ai/docs/quotas) via [exponential backoff](https://en.wikipedia.org/wiki/Exponential_backoff).\n",
        "\n",
        "We also define a method to convert an array of floats to a byte string for efficient storage in Redis (later on).\n",
        "\n"
      ]
    },
    {
      "cell_type": "code",
      "source": [
        "vertexai.init()"
      ],
      "metadata": {
        "id": "dJWwVD8FUVA9"
      },
      "execution_count": 30,
      "outputs": []
    },
    {
      "cell_type": "code",
      "source": [
        "!pip install -U sentence-transformers"
      ],
      "metadata": {
        "colab": {
          "base_uri": "https://localhost:8080/"
        },
        "id": "gukIi4f1W2B3",
        "outputId": "e2acd2fb-dc79-460b-85db-22fc067792e8"
      },
      "execution_count": 31,
      "outputs": [
        {
          "output_type": "stream",
          "name": "stdout",
          "text": [
            "Requirement already satisfied: sentence-transformers in /usr/local/lib/python3.10/dist-packages (3.0.1)\n",
            "Requirement already satisfied: transformers<5.0.0,>=4.34.0 in /usr/local/lib/python3.10/dist-packages (from sentence-transformers) (4.41.2)\n",
            "Requirement already satisfied: tqdm in /usr/local/lib/python3.10/dist-packages (from sentence-transformers) (4.66.4)\n",
            "Requirement already satisfied: torch>=1.11.0 in /usr/local/lib/python3.10/dist-packages (from sentence-transformers) (2.3.0+cu121)\n",
            "Requirement already satisfied: numpy in /usr/local/lib/python3.10/dist-packages (from sentence-transformers) (1.25.2)\n",
            "Requirement already satisfied: scikit-learn in /usr/local/lib/python3.10/dist-packages (from sentence-transformers) (1.2.2)\n",
            "Requirement already satisfied: scipy in /usr/local/lib/python3.10/dist-packages (from sentence-transformers) (1.11.4)\n",
            "Requirement already satisfied: huggingface-hub>=0.15.1 in /usr/local/lib/python3.10/dist-packages (from sentence-transformers) (0.23.4)\n",
            "Requirement already satisfied: Pillow in /usr/local/lib/python3.10/dist-packages (from sentence-transformers) (9.4.0)\n",
            "Requirement already satisfied: filelock in /usr/local/lib/python3.10/dist-packages (from huggingface-hub>=0.15.1->sentence-transformers) (3.15.4)\n",
            "Requirement already satisfied: fsspec>=2023.5.0 in /usr/local/lib/python3.10/dist-packages (from huggingface-hub>=0.15.1->sentence-transformers) (2023.6.0)\n",
            "Requirement already satisfied: packaging>=20.9 in /usr/local/lib/python3.10/dist-packages (from huggingface-hub>=0.15.1->sentence-transformers) (24.1)\n",
            "Requirement already satisfied: pyyaml>=5.1 in /usr/local/lib/python3.10/dist-packages (from huggingface-hub>=0.15.1->sentence-transformers) (6.0.1)\n",
            "Requirement already satisfied: requests in /usr/local/lib/python3.10/dist-packages (from huggingface-hub>=0.15.1->sentence-transformers) (2.32.3)\n",
            "Requirement already satisfied: typing-extensions>=3.7.4.3 in /usr/local/lib/python3.10/dist-packages (from huggingface-hub>=0.15.1->sentence-transformers) (4.12.2)\n",
            "Requirement already satisfied: sympy in /usr/local/lib/python3.10/dist-packages (from torch>=1.11.0->sentence-transformers) (1.12.1)\n",
            "Requirement already satisfied: networkx in /usr/local/lib/python3.10/dist-packages (from torch>=1.11.0->sentence-transformers) (3.3)\n",
            "Requirement already satisfied: jinja2 in /usr/local/lib/python3.10/dist-packages (from torch>=1.11.0->sentence-transformers) (3.1.4)\n",
            "Requirement already satisfied: nvidia-cuda-nvrtc-cu12==12.1.105 in /usr/local/lib/python3.10/dist-packages (from torch>=1.11.0->sentence-transformers) (12.1.105)\n",
            "Requirement already satisfied: nvidia-cuda-runtime-cu12==12.1.105 in /usr/local/lib/python3.10/dist-packages (from torch>=1.11.0->sentence-transformers) (12.1.105)\n",
            "Requirement already satisfied: nvidia-cuda-cupti-cu12==12.1.105 in /usr/local/lib/python3.10/dist-packages (from torch>=1.11.0->sentence-transformers) (12.1.105)\n",
            "Requirement already satisfied: nvidia-cudnn-cu12==8.9.2.26 in /usr/local/lib/python3.10/dist-packages (from torch>=1.11.0->sentence-transformers) (8.9.2.26)\n",
            "Requirement already satisfied: nvidia-cublas-cu12==12.1.3.1 in /usr/local/lib/python3.10/dist-packages (from torch>=1.11.0->sentence-transformers) (12.1.3.1)\n",
            "Requirement already satisfied: nvidia-cufft-cu12==11.0.2.54 in /usr/local/lib/python3.10/dist-packages (from torch>=1.11.0->sentence-transformers) (11.0.2.54)\n",
            "Requirement already satisfied: nvidia-curand-cu12==10.3.2.106 in /usr/local/lib/python3.10/dist-packages (from torch>=1.11.0->sentence-transformers) (10.3.2.106)\n",
            "Requirement already satisfied: nvidia-cusolver-cu12==11.4.5.107 in /usr/local/lib/python3.10/dist-packages (from torch>=1.11.0->sentence-transformers) (11.4.5.107)\n",
            "Requirement already satisfied: nvidia-cusparse-cu12==12.1.0.106 in /usr/local/lib/python3.10/dist-packages (from torch>=1.11.0->sentence-transformers) (12.1.0.106)\n",
            "Requirement already satisfied: nvidia-nccl-cu12==2.20.5 in /usr/local/lib/python3.10/dist-packages (from torch>=1.11.0->sentence-transformers) (2.20.5)\n",
            "Requirement already satisfied: nvidia-nvtx-cu12==12.1.105 in /usr/local/lib/python3.10/dist-packages (from torch>=1.11.0->sentence-transformers) (12.1.105)\n",
            "Requirement already satisfied: triton==2.3.0 in /usr/local/lib/python3.10/dist-packages (from torch>=1.11.0->sentence-transformers) (2.3.0)\n",
            "Requirement already satisfied: nvidia-nvjitlink-cu12 in /usr/local/lib/python3.10/dist-packages (from nvidia-cusolver-cu12==11.4.5.107->torch>=1.11.0->sentence-transformers) (12.5.82)\n",
            "Requirement already satisfied: regex!=2019.12.17 in /usr/local/lib/python3.10/dist-packages (from transformers<5.0.0,>=4.34.0->sentence-transformers) (2024.5.15)\n",
            "Requirement already satisfied: tokenizers<0.20,>=0.19 in /usr/local/lib/python3.10/dist-packages (from transformers<5.0.0,>=4.34.0->sentence-transformers) (0.19.1)\n",
            "Requirement already satisfied: safetensors>=0.4.1 in /usr/local/lib/python3.10/dist-packages (from transformers<5.0.0,>=4.34.0->sentence-transformers) (0.4.3)\n",
            "Requirement already satisfied: joblib>=1.1.1 in /usr/local/lib/python3.10/dist-packages (from scikit-learn->sentence-transformers) (1.4.2)\n",
            "Requirement already satisfied: threadpoolctl>=2.0.0 in /usr/local/lib/python3.10/dist-packages (from scikit-learn->sentence-transformers) (3.5.0)\n",
            "Requirement already satisfied: MarkupSafe>=2.0 in /usr/local/lib/python3.10/dist-packages (from jinja2->torch>=1.11.0->sentence-transformers) (2.1.5)\n",
            "Requirement already satisfied: charset-normalizer<4,>=2 in /usr/local/lib/python3.10/dist-packages (from requests->huggingface-hub>=0.15.1->sentence-transformers) (3.3.2)\n",
            "Requirement already satisfied: idna<4,>=2.5 in /usr/local/lib/python3.10/dist-packages (from requests->huggingface-hub>=0.15.1->sentence-transformers) (3.7)\n",
            "Requirement already satisfied: urllib3<3,>=1.21.1 in /usr/local/lib/python3.10/dist-packages (from requests->huggingface-hub>=0.15.1->sentence-transformers) (2.0.7)\n",
            "Requirement already satisfied: certifi>=2017.4.17 in /usr/local/lib/python3.10/dist-packages (from requests->huggingface-hub>=0.15.1->sentence-transformers) (2024.6.2)\n",
            "Requirement already satisfied: mpmath<1.4.0,>=1.1.0 in /usr/local/lib/python3.10/dist-packages (from sympy->torch>=1.11.0->sentence-transformers) (1.3.0)\n"
          ]
        }
      ]
    },
    {
      "cell_type": "code",
      "execution_count": 39,
      "metadata": {
        "id": "zrpKY4W5yb0M"
      },
      "outputs": [],
      "source": [
        "from typing import Generator, List, Any\n",
        "\n",
        "from tenacity import retry, stop_after_attempt, wait_random_exponential\n",
        "from vertexai.preview.language_models import TextEmbeddingModel\n",
        "\n",
        "# Embedding model definition from VertexAI PaLM API - changed textembedding-gecko@003 to text-embedding-004 since it is the latest\n",
        "embedding_model = TextEmbeddingModel.from_pretrained(\"textembedding-gecko@003\")\n",
        "VECTOR_DIMENSIONS = 768\n",
        "@retry(wait=wait_random_exponential(min=1, max=20), stop=stop_after_attempt(3))\n",
        "def embed_text(text=[]):\n",
        "    embeddings = embedding_model.get_embeddings(text)\n",
        "    return [each.values for each in embeddings]\n",
        "\n",
        "# Convert embeddings to bytes for Redis storage\n",
        "def convert_embedding(emb: List[float]):\n",
        "  return np.array(emb).astype(np.float32).tobytes()"
      ]
    },
    {
      "cell_type": "markdown",
      "metadata": {
        "id": "peFHIY351eDc"
      },
      "source": [
        "### Embed text data\n",
        "At the moment, our table in BigQuery (created above), contains records of hotel review posts that we wish to embed and make available for LLMs.\n",
        "\n",
        "In order to conserve RAM usage of this machine, we will iterate over batches of posts from BigQuery, create embeddings, and write them to Redis, which is being used as a [vector database](https://redis.com/solutions/use-cases/vector-database)."
      ]
    },
    {
      "cell_type": "code",
      "execution_count": 40,
      "metadata": {
        "id": "tzkRiknVXOtc"
      },
      "outputs": [],
      "source": [
        "import pandas as pd\n",
        "import numpy as np\n",
        "\n",
        "QUERY_TEMPLATE = f\"\"\"\n",
        "SELECT id,review_title, review_text, hotel_name\n",
        "FROM `{PROJECT_ID}.google_redis_llms.{TABLE_NAME}`\n",
        "LIMIT {{limit}} OFFSET {{offset}};\n",
        "\"\"\"\n",
        "\n",
        "def query_bigquery_batches(\n",
        "    max_rows: int,\n",
        "    rows_per_batch: int,\n",
        "    start_batch: int = 0\n",
        ") -> Generator[pd.DataFrame, Any, None]:\n",
        "    # Generate batches from a table in big query\n",
        "    for offset in range(start_batch, max_rows, rows_per_batch):\n",
        "        query = QUERY_TEMPLATE.format(limit=rows_per_batch, offset=offset)\n",
        "        query_job = bq.query(query)\n",
        "        rows = query_job.result()\n",
        "        df = rows.to_dataframe()\n",
        "        # Join title and text fields\n",
        "        df[\"content\"] = df.apply(lambda r: \"Title: \" + r.review_title + \". Content: \" + r.review_text, axis=1)\n",
        "        yield df\n"
      ]
    },
    {
      "cell_type": "markdown",
      "metadata": {
        "id": "N9jxcBjvNxOt"
      },
      "source": [
        "Below we define a few helper functions for processing a single row of data, writing batches to **Redis**, querying source data from **BigQuery**, and creating text embeddings with **Vertex AI**."
      ]
    },
    {
      "cell_type": "code",
      "execution_count": 41,
      "metadata": {
        "id": "OETsrYvfuzmX"
      },
      "outputs": [],
      "source": [
        "import math\n",
        "from tqdm.auto import tqdm\n",
        "\n",
        "\n",
        "# Redis key helper function\n",
        "def redis_key(key_prefix: str, id: str) -> str:\n",
        "  return f\"{key_prefix}:{id}\"\n",
        "\n",
        "# Process a single dataset record\n",
        "def process_record(record: dict) -> dict:\n",
        "  return {\n",
        "      'id': record['id'],\n",
        "      'embedding': record['embedding'],\n",
        "      'text': record['review_text'],\n",
        "      'title': record['review_title']\n",
        "  }\n",
        "\n",
        "# Load batch of data into Redis as HASH objects\n",
        "def load_redis_batch(\n",
        "    redis_client: redis.Redis,\n",
        "    dataset: list,\n",
        "    key_prefix: str = \"doc\",\n",
        "    id_column: str = \"id\",\n",
        "):\n",
        "    pipe = redis_client.pipeline()\n",
        "    for i, record in enumerate(tqdm(dataset)):\n",
        "        record = process_record(record)\n",
        "        key = redis_key(key_prefix, record[id_column])\n",
        "        pipe.hset(key, mapping=record)\n",
        "    pipe.execute()\n",
        "\n",
        "# Run the entire process\n",
        "def create_embeddings_bigquery_redis(redis_client):\n",
        "    # Create generator from BigQuery\n",
        "    max_rows = 1000\n",
        "    rows_per_batch = 100\n",
        "    bq_content_query = query_bigquery_batches(max_rows, rows_per_batch)\n",
        "\n",
        "    for batch in tqdm(bq_content_query):\n",
        "      # Split batch into smaller chunks for embedding generation\n",
        "      batch_splits = np.array_split(batch, math.ceil(rows_per_batch/5))\n",
        "      # Create embeddings\n",
        "      batch[\"embedding\"] = [\n",
        "          convert_embedding(embedding)\n",
        "          for split in batch_splits\n",
        "          for embedding in embed_text(split.content)\n",
        "      ]\n",
        "      # Write batch to Redis\n",
        "      batch = batch.to_dict(\"records\")\n",
        "      load_redis_batch(redis_client, batch)\n"
      ]
    },
    {
      "cell_type": "markdown",
      "metadata": {
        "id": "ie02v3hfoApC"
      },
      "source": [
        "## 4. Load Embeddings\n",
        "Now that we have a function to generate BigQuery batches, create text embeddings, and write batches to Redis, we can run the single function to process our entire dataset:"
      ]
    },
    {
      "cell_type": "markdown",
      "source": [
        "Enable: https://console.cloud.google.com/apis/library/aiplatform.googleapis.com?project=acrobatllm"
      ],
      "metadata": {
        "id": "Uwq53nZunqcZ"
      }
    },
    {
      "cell_type": "code",
      "execution_count": 42,
      "metadata": {
        "colab": {
          "base_uri": "https://localhost:8080/",
          "height": 369,
          "referenced_widgets": [
            "c9e50aa3ef2e4246a1fa3406cf7546d0",
            "fdff8a81868a4c37a69e3b000802eb9c",
            "819d589065624ea39fc2e49940a5298c",
            "e1cd3241e4a7498fa0efa3d117e50c9d",
            "9c16b6834e5d46dc89c4f2d4c29bbfa4",
            "c1220bcd9e3a4bc3a98f175228d34258",
            "341653366f0841a98e60f3b49a05e351",
            "8b6f08eba38c4af087879a826b34c9bd",
            "c677ab207ed9435ca8f3c8dbd394b885",
            "20563140ce8a4d8d944d9cdd6cefc6b4",
            "8bc0e174a38f4fddacaacabc7101db92",
            "bf19be9557714c138c52f2d051f80316",
            "7a8dc41371fb496c92801d51b6c3d616",
            "e9dd7663aeec47939ed31965340351c8",
            "21516d9764394900afb33a3000999c6f",
            "77b4c60c76594c91a39b8e78758ca8cf",
            "5bbd28141f7f4472a3cc8de633c0c9a2",
            "c41d1f2acc4c45bfaf4b6e1de7620231",
            "6a117464973449f789f6291ebc8f2c6b",
            "b020a648885c428b979c56c4b7f70255",
            "08603252d33c4b6994bc313bb2e79b29",
            "4d5a6090fa284b0ca4499ed07f961411",
            "8c59beea406e470ba6cec822830c64e2",
            "a545b72993014947b66e6133d9555316",
            "f1da0ec3a17444e58e71f18772b3f84a",
            "93393e76e89b4a5493c9e8a7610113b7",
            "fe048382ea924fcdb4afedb61b235bdf",
            "cd2dd8b3d3ed4e74bc1e9b5ae7a3d1fc",
            "94664ebe383942ec9fa748930d8fe17d",
            "050ab8b90268438faf92ce462a10fbbc",
            "fe2dd6d7798e420b9d2f579a75198918",
            "9c9b7baff2d044f687f8e921e1bdb38a",
            "7ac428a4af754464afb43ab8d8a14f80",
            "aa3aafaeedba4473812734dec4b630a2",
            "ff65c1d572b64abeabe9398bff77ec2f",
            "bda00dc55c854401bf372f0bd78c2d36",
            "71ef61ddb89146079f2615b620ecc5c5",
            "eebb1b1bf79d4cb9b543d58708efb048",
            "4f118d3dcc79445d9f48e361f7adfeec",
            "9739c39a87914c34aef7b3cfd54ee822",
            "c8fbfe5cb54b4c3c86288adaca4ff898",
            "b40a3b0746f740419b01a0f99c587056",
            "36a08171d4d34fd1ac4b3419b4455768",
            "9a8bf267472f4dfb8c11dbd7c97e6f67",
            "a0fd48c6eee643bd8570c6dec2605219",
            "ca85dcf2d8a5400c815d304a8069e00b",
            "dc90ed2734194c23853e860fef6c2f3a",
            "03bf110f4ce44122a7fba56db9744095",
            "5452d79c83454c03a45ca2aa9f610841",
            "7acc91521dfa42418d5acabea25b2c0f",
            "12622e39b4d3418ab64cd1169c1a4b0a",
            "28f4b2dca2f94d6798bca7da405bbee9",
            "d42162c2ed3a4afeab1ab247ad6822ca",
            "347784ceb9ab4bec9d65744d5aec0f14",
            "e849630e1c1f49af844c2d2c600838b5",
            "c60068cb4d1b4dfc83a33c5562554890",
            "7469f95e2d8143e7ae67fa05a3344ebe",
            "30fdbd2b24f5487cb140c70ab15c8fe9",
            "4a929d7978ea4d84866a3e1da0264531",
            "9372aab8c1184e9497752d6a197c0cae",
            "b639425539af4a1494eeb21a1acdfb57",
            "4323983317ce4a53add59ecd64619234",
            "517f0c4025c84efeb3e4f9e86d53719e",
            "96112fd5d77a42d3ab590b78f07fe017",
            "d6f2ec797dfb43b8a723e1f3ce2725b6",
            "80e6ba644e6449bcba73fa0d07fd7464",
            "f864c803407f473394dfb3a50880954e",
            "cfa8f01542624b26aea7912a52fef00e",
            "83daba8c17e348bb99e29cd5d6651e18",
            "4d74d08932d846e4bc0a2286ffc685be",
            "04eb81e1a2c44542a26fff7ad7f67226",
            "99332598abb7439991cdce4e1a301c78",
            "b71c4634b3fb46ef99ff67b5fe2328dd",
            "d2002296327e4c568f2525bd8bc52401",
            "fb33bfc0495741c6aa8511d364755031",
            "32f67bef1e6f4cc597b46a5263c070d6",
            "f61583728a224fc9bb5a31787438d30e",
            "9229cbb6451d4bb2b0837f354b5d2081",
            "758597bd8a1647c4bd7592cac3bdad54",
            "b3ec7389505b4ff6bc3cf0a00f06d02d",
            "89ea815a43964f63981897defb0b0b0e",
            "132969327c264109a4df183895dc42af",
            "1d201c1a63cd4664b7c659ead304669c",
            "8d4b1fa3b4fd4490b2ad2caab0f8e8b5",
            "7cab7ddb9ea348598c720afd166fb47c",
            "d34f807f6234452aa5294b13c4e10009",
            "96192e95d03b4f04a6f44057b3a5cd9a",
            "2cca73a97b6c48f5ba9601e12a02ab0a",
            "45a128aab4454da8954555cdbf8b9e7e",
            "61a5ca49d5984ed5aaf3a9f9c2dd4e3a",
            "b0ecad4dc77c4bcc90d6f5ad39788a8a",
            "e3cdfd2e356a4d67aa7b9be8bb32f95f",
            "f25e9f79842e4eb7a46e8d4375fa2e22",
            "1b1be4d979b94917ad27aa9cf9eb8f5e",
            "c9286b114e4b4bc9be117dba9bb76667",
            "d91210ff3c0e4642b9330b132b327e91",
            "8826d88a78a448c78192e6063e41462f",
            "33f178a4fed144dc88701a8cac32dd5f",
            "76510cb20fbc497ca92c81e14f812b59",
            "e7a12bd2d77e49a1aff14ce09eb0c95a",
            "53e94d82e7354f9c96a479e7fe620209",
            "e6b0e6a7ca534992b1dc112cfaefc516",
            "b9be636dee7c4edba0e1b7b60fcf2677",
            "90b9523691f34b5d97e2ec0592995687",
            "d1277da794d84e639b73c9ede27fa20a",
            "ac7d79399b41447cbfc7e773efd20e13",
            "3843a35c484d4519978c370654873892",
            "9987094293af4dc98160132cda33130f",
            "a96fc3bde63444c5845c2887f4995b60",
            "0a45432dbaa0451d9db52923619a3b86",
            "efd7a7375aa14036b7a5f387c82ae55c",
            "e2c739b039044c0882902e1a3d8611bb",
            "4af43dae8b2f48d0a9e0e52d509210c7",
            "5ac0da5bee1b4cdfb6e66d5de42fd743",
            "777bf41159374353b17661c543bf63c7",
            "98a5e896988840c8bd6df03af8360556",
            "1819321d98994ed981b32cdaee57e74a",
            "e380f91032f448d1b779154449a0e90a",
            "a940a14265a54fbb842bad5ed40f0769",
            "8ca1dfa6421e447db482f9bb0ceba9c0",
            "d2b2f0db87c44d919e4b658d65414837"
          ]
        },
        "id": "V9KdsiG_pd3U",
        "outputId": "0474cf43-84c7-4c40-8b63-a7c3f4817adf"
      },
      "outputs": [
        {
          "output_type": "display_data",
          "data": {
            "text/plain": [
              "0it [00:00, ?it/s]"
            ],
            "application/vnd.jupyter.widget-view+json": {
              "version_major": 2,
              "version_minor": 0,
              "model_id": "c9e50aa3ef2e4246a1fa3406cf7546d0"
            }
          },
          "metadata": {}
        },
        {
          "output_type": "display_data",
          "data": {
            "text/plain": [
              "  0%|          | 0/100 [00:00<?, ?it/s]"
            ],
            "application/vnd.jupyter.widget-view+json": {
              "version_major": 2,
              "version_minor": 0,
              "model_id": "bf19be9557714c138c52f2d051f80316"
            }
          },
          "metadata": {}
        },
        {
          "output_type": "display_data",
          "data": {
            "text/plain": [
              "  0%|          | 0/100 [00:00<?, ?it/s]"
            ],
            "application/vnd.jupyter.widget-view+json": {
              "version_major": 2,
              "version_minor": 0,
              "model_id": "8c59beea406e470ba6cec822830c64e2"
            }
          },
          "metadata": {}
        },
        {
          "output_type": "display_data",
          "data": {
            "text/plain": [
              "  0%|          | 0/100 [00:00<?, ?it/s]"
            ],
            "application/vnd.jupyter.widget-view+json": {
              "version_major": 2,
              "version_minor": 0,
              "model_id": "aa3aafaeedba4473812734dec4b630a2"
            }
          },
          "metadata": {}
        },
        {
          "output_type": "display_data",
          "data": {
            "text/plain": [
              "  0%|          | 0/100 [00:00<?, ?it/s]"
            ],
            "application/vnd.jupyter.widget-view+json": {
              "version_major": 2,
              "version_minor": 0,
              "model_id": "a0fd48c6eee643bd8570c6dec2605219"
            }
          },
          "metadata": {}
        },
        {
          "output_type": "display_data",
          "data": {
            "text/plain": [
              "  0%|          | 0/100 [00:00<?, ?it/s]"
            ],
            "application/vnd.jupyter.widget-view+json": {
              "version_major": 2,
              "version_minor": 0,
              "model_id": "c60068cb4d1b4dfc83a33c5562554890"
            }
          },
          "metadata": {}
        },
        {
          "output_type": "display_data",
          "data": {
            "text/plain": [
              "  0%|          | 0/100 [00:00<?, ?it/s]"
            ],
            "application/vnd.jupyter.widget-view+json": {
              "version_major": 2,
              "version_minor": 0,
              "model_id": "f864c803407f473394dfb3a50880954e"
            }
          },
          "metadata": {}
        },
        {
          "output_type": "display_data",
          "data": {
            "text/plain": [
              "  0%|          | 0/100 [00:00<?, ?it/s]"
            ],
            "application/vnd.jupyter.widget-view+json": {
              "version_major": 2,
              "version_minor": 0,
              "model_id": "9229cbb6451d4bb2b0837f354b5d2081"
            }
          },
          "metadata": {}
        },
        {
          "output_type": "display_data",
          "data": {
            "text/plain": [
              "  0%|          | 0/100 [00:00<?, ?it/s]"
            ],
            "application/vnd.jupyter.widget-view+json": {
              "version_major": 2,
              "version_minor": 0,
              "model_id": "45a128aab4454da8954555cdbf8b9e7e"
            }
          },
          "metadata": {}
        },
        {
          "output_type": "display_data",
          "data": {
            "text/plain": [
              "  0%|          | 0/100 [00:00<?, ?it/s]"
            ],
            "application/vnd.jupyter.widget-view+json": {
              "version_major": 2,
              "version_minor": 0,
              "model_id": "e7a12bd2d77e49a1aff14ce09eb0c95a"
            }
          },
          "metadata": {}
        },
        {
          "output_type": "display_data",
          "data": {
            "text/plain": [
              "  0%|          | 0/100 [00:00<?, ?it/s]"
            ],
            "application/vnd.jupyter.widget-view+json": {
              "version_major": 2,
              "version_minor": 0,
              "model_id": "efd7a7375aa14036b7a5f387c82ae55c"
            }
          },
          "metadata": {}
        }
      ],
      "source": [
        "create_embeddings_bigquery_redis(redis_client)"
      ]
    },
    {
      "cell_type": "code",
      "execution_count": 43,
      "metadata": {
        "colab": {
          "base_uri": "https://localhost:8080/"
        },
        "id": "HvsGxsOvrz5J",
        "outputId": "4566417e-b416-41a6-9541-66b85d0bd555"
      },
      "outputs": [
        {
          "output_type": "execute_result",
          "data": {
            "text/plain": [
              "1000"
            ]
          },
          "metadata": {},
          "execution_count": 43
        }
      ],
      "source": [
        "# Validate how many records are stored in Redis\n",
        "redis_client.dbsize()"
      ]
    },
    {
      "cell_type": "code",
      "source": [
        "current_db_index = redis_client.connection_pool.connection_kwargs.get('db', 0)\n",
        "print(current_db_index)"
      ],
      "metadata": {
        "colab": {
          "base_uri": "https://localhost:8080/"
        },
        "id": "nzvlXaYG_J9I",
        "outputId": "f52e60d9-72eb-47c3-e69d-3da52bd797f3"
      },
      "execution_count": 48,
      "outputs": [
        {
          "output_type": "stream",
          "name": "stdout",
          "text": [
            "0\n"
          ]
        }
      ]
    },
    {
      "cell_type": "code",
      "source": [
        "num_records = redis_client.dbsize()\n",
        "print(num_records)"
      ],
      "metadata": {
        "colab": {
          "base_uri": "https://localhost:8080/"
        },
        "id": "mtmyrmUe_Vcx",
        "outputId": "4d86dbb5-ad67-4f2c-fb87-df7dab406ede"
      },
      "execution_count": 49,
      "outputs": [
        {
          "output_type": "stream",
          "name": "stdout",
          "text": [
            "1000\n"
          ]
        }
      ]
    },
    {
      "cell_type": "code",
      "source": [
        "for db_number in range(16):  # Check databases 0 to 15\n",
        "    redis_client.select(db_number)\n",
        "    num_records = redis_client.dbsize()\n",
        "    print(f\"Database {db_number}: {num_records} records\")\n",
        "    if num_records == 1000:  # Replace 1000 with the expected number of documents\n",
        "        print(f\"Found the database! It's number {db_number}\")\n",
        "        break"
      ],
      "metadata": {
        "colab": {
          "base_uri": "https://localhost:8080/"
        },
        "id": "8P-ZepuYA1Gm",
        "outputId": "633cb2ad-4113-4e6c-fef7-0671eb216bce"
      },
      "execution_count": 50,
      "outputs": [
        {
          "output_type": "stream",
          "name": "stdout",
          "text": [
            "Database 0: 1000 records\n",
            "Found the database! It's number 0\n"
          ]
        }
      ]
    },
    {
      "cell_type": "code",
      "source": [
        "# Select the correct database (replace 'your_db_number' with the actual number)\n",
        "redis_client.select(0)\n",
        "\n",
        "# Validate how many records are stored in Redis\n",
        "num_records = redis_client.dbsize()\n",
        "print(num_records)"
      ],
      "metadata": {
        "colab": {
          "base_uri": "https://localhost:8080/"
        },
        "id": "dI6Jt6kTBHW_",
        "outputId": "0ff0793a-5876-4b00-9790-97a4734cb38b"
      },
      "execution_count": 52,
      "outputs": [
        {
          "output_type": "execute_result",
          "data": {
            "text/plain": [
              "True"
            ]
          },
          "metadata": {},
          "execution_count": 52
        }
      ]
    },
    {
      "cell_type": "markdown",
      "metadata": {
        "id": "WGVt7-DNr80e"
      },
      "source": [
        "## 5. Create Vector Index\n",
        "\n",
        "Now that we have created embeddings that represent the text in our dataset and stored them in Redis, we will create a secondary index that enables efficient search over the embeddings. To learn more about the vector similarity features in Redis, [check out these docs](https://redis.io/docs/interact/search-and-query/search/vectors/) and [these Redis AI resources](https://github.com/RedisVentures/redis-ai-resources).\n",
        "\n",
        "**Why do we need to enable search???**\n",
        "Using Redis for vector similarity search allows us to retrieve chunks of text data that are **similar** or **relevant** to an input question or query. This will be extremely helpful for our sample generative ai / LLM application."
      ]
    },
    {
      "cell_type": "code",
      "execution_count": 53,
      "metadata": {
        "id": "9mNa5LNn4XpX"
      },
      "outputs": [],
      "source": [
        "from redis.commands.search.field import (\n",
        "    NumericField,\n",
        "    TagField,\n",
        "    TextField,\n",
        "    VectorField,\n",
        ")\n",
        "from redis.commands.search.indexDefinition import IndexDefinition, IndexType\n",
        "from redis.commands.search.query import Query\n",
        "\n",
        "\n",
        "INDEX_NAME = \"google:idx\"\n",
        "PREFIX = \"doc:\"\n",
        "VECTOR_FIELD_NAME = \"embedding\"\n",
        "\n",
        "# Store vectors in redis and create index\n",
        "def create_redis_index(\n",
        "    redis_client: redis.Redis,\n",
        "    vector_field_name: str = VECTOR_FIELD_NAME,\n",
        "    index_name: str = INDEX_NAME,\n",
        "    prefix: list = [PREFIX],\n",
        "    dim: int = VECTOR_DIMENSIONS\n",
        "  ):\n",
        "\n",
        "    # Construct index\n",
        "    try:\n",
        "        redis_client.ft(index_name).info()\n",
        "        print(\"Existing index found. Dropping and recreating the index\", flush=True)\n",
        "        redis_client.ft(index_name).dropindex(delete_documents=False)\n",
        "    except:\n",
        "        print(\"Creating new index\", flush=True)\n",
        "\n",
        "    # Create new index\n",
        "    redis_client.ft(index_name).create_index(\n",
        "        (\n",
        "            VectorField(\n",
        "                vector_field_name, \"FLAT\",\n",
        "                {\n",
        "                    \"TYPE\": \"FLOAT32\",\n",
        "                    \"DIM\": dim,\n",
        "                    \"DISTANCE_METRIC\": \"COSINE\",\n",
        "                }\n",
        "            )\n",
        "        ),\n",
        "        definition=IndexDefinition(prefix=prefix, index_type=IndexType.HASH)\n",
        "    )"
      ]
    },
    {
      "cell_type": "code",
      "execution_count": 54,
      "metadata": {
        "colab": {
          "base_uri": "https://localhost:8080/"
        },
        "id": "n32J2XikuzpA",
        "outputId": "013a0f1f-b794-4871-d62a-2e9a49522164"
      },
      "outputs": [
        {
          "output_type": "stream",
          "name": "stdout",
          "text": [
            "Creating new index\n"
          ]
        }
      ],
      "source": [
        "# Create index\n",
        "create_redis_index(redis_client)"
      ]
    },
    {
      "cell_type": "code",
      "execution_count": 55,
      "metadata": {
        "colab": {
          "base_uri": "https://localhost:8080/"
        },
        "id": "VOzL5qB-uzrE",
        "outputId": "e67a95d8-03ca-440b-b2d2-bed34b9bd854"
      },
      "outputs": [
        {
          "output_type": "execute_result",
          "data": {
            "text/plain": [
              "{'index_name': 'google:idx',\n",
              " 'index_options': [],\n",
              " 'index_definition': [b'key_type',\n",
              "  b'HASH',\n",
              "  b'prefixes',\n",
              "  [b'doc:'],\n",
              "  b'default_score',\n",
              "  b'1'],\n",
              " 'attributes': [[b'identifier',\n",
              "   b'embedding',\n",
              "   b'attribute',\n",
              "   b'embedding',\n",
              "   b'type',\n",
              "   b'VECTOR',\n",
              "   b'algorithm',\n",
              "   b'FLAT',\n",
              "   b'data_type',\n",
              "   b'FLOAT32',\n",
              "   b'dim',\n",
              "   768,\n",
              "   b'distance_metric',\n",
              "   b'COSINE']],\n",
              " 'num_docs': '1000',\n",
              " 'max_doc_id': '1000',\n",
              " 'num_terms': '0',\n",
              " 'num_records': '1000',\n",
              " 'inverted_sz_mb': '0',\n",
              " 'vector_index_sz_mb': '3.0295867919921875',\n",
              " 'total_inverted_index_blocks': '0',\n",
              " 'offset_vectors_sz_mb': '0',\n",
              " 'doc_table_size_mb': '0.0705718994140625',\n",
              " 'sortable_values_size_mb': '0',\n",
              " 'key_table_size_mb': '0.03100299835205078',\n",
              " 'geoshapes_sz_mb': '0',\n",
              " 'records_per_doc_avg': '1',\n",
              " 'bytes_per_record_avg': '0',\n",
              " 'offsets_per_term_avg': '0',\n",
              " 'offset_bits_per_record_avg': 'nan',\n",
              " 'hash_indexing_failures': '0',\n",
              " 'total_indexing_time': '19.18600082397461',\n",
              " 'indexing': '0',\n",
              " 'percent_indexed': '1',\n",
              " 'number_of_uses': 1,\n",
              " 'cleaning': 0,\n",
              " 'gc_stats': [b'bytes_collected',\n",
              "  b'0',\n",
              "  b'total_ms_run',\n",
              "  b'0',\n",
              "  b'total_cycles',\n",
              "  b'0',\n",
              "  b'average_cycle_time_ms',\n",
              "  b'nan',\n",
              "  b'last_run_time_ms',\n",
              "  b'0',\n",
              "  b'gc_numeric_trees_missed',\n",
              "  b'0',\n",
              "  b'gc_blocks_denied',\n",
              "  b'0'],\n",
              " 'cursor_stats': [b'global_idle',\n",
              "  0,\n",
              "  b'global_total',\n",
              "  0,\n",
              "  b'index_capacity',\n",
              "  128,\n",
              "  b'index_total',\n",
              "  0],\n",
              " 'dialect_stats': [b'dialect_1',\n",
              "  0,\n",
              "  b'dialect_2',\n",
              "  0,\n",
              "  b'dialect_3',\n",
              "  0,\n",
              "  b'dialect_4',\n",
              "  0],\n",
              " 'Index Errors': [b'indexing failures',\n",
              "  0,\n",
              "  b'last indexing error',\n",
              "  b'N/A',\n",
              "  b'last indexing error key',\n",
              "  b'N/A'],\n",
              " 'field statistics': [[b'identifier',\n",
              "   b'embedding',\n",
              "   b'attribute',\n",
              "   b'embedding',\n",
              "   b'Index Errors',\n",
              "   [b'indexing failures',\n",
              "    0,\n",
              "    b'last indexing error',\n",
              "    b'N/A',\n",
              "    b'last indexing error key',\n",
              "    b'N/A']]]}"
            ]
          },
          "metadata": {},
          "execution_count": 55
        }
      ],
      "source": [
        "# Inspect index attributes\n",
        "\n",
        "#INDEX_NAME = \"google:idx\"\n",
        "redis_client.ft(INDEX_NAME).info()"
      ]
    },
    {
      "cell_type": "code",
      "execution_count": 56,
      "metadata": {
        "colab": {
          "base_uri": "https://localhost:8080/"
        },
        "id": "4sPe1ZgQkTbX",
        "outputId": "837963f7-1bdb-4c17-9ff4-4e1db2d3b7f2"
      },
      "outputs": [
        {
          "output_type": "execute_result",
          "data": {
            "text/plain": [
              "{b'text': b'After paying in full at check in I was told the room would be ready \\xe2\\x80\\x9cin 20 minutes\\xe2\\x80\\x9d. Rather than standing in a cramped reception we went across the road for a coffee (husband and 2 small Kids). On our return we were given our keys.. go to our 1 bed apartment to find dirty towels on floor of bathroom and a suitcase and food wrappers in bedroom !!! We go back to reception and complete chaos. No one knew what was going on or who was in our room. 4 ladies in reception making many phone calls and looking intently at computers and refusing to give me any information, apologies or assurances. My 2 children extremely tired and becoming increasingly upset. After 2 hours from (from start of check in) manager finally appears and confirms no hotel room available for us. I had to frantically',\n",
              " b'embedding': b'W\\xfe[=:\\xacf\\xbd\\xc2\\xee{\\xbd*\\x83\\x90\\xbc\\xb7\\xe1\\x8f=\\xfb\\nn<\\xa9\\x83\\xc4<^Y#\\xbb{\\xad\\xdd<\\xf0g*=W,V\\xbcr\\xc8#<\\xb5\\xb7\\xeb<O\\xbc\\xd5\\xbcv\\xbf\\xc9\\xbc\\x05m\\x0c\\xbdy\\xa9\\xf1<\\x8aQ\\xd5<\\xcb\\xc4\\x83\\xbc\\xca\\xa3\\x1c=\\x8e\\x15a<\\xc6U\\xd9<\\xad\\x8ep<)\\xb0\\xb4<\\xb8@R<\\x07\\xeei\\xbd(xb=%[\\x8b\\xbd\\xc5\\xf0\\xe3\\xbcq4\\xbf<\\x1d\\xfd\\x04\\xbddp\\x9e={\\xad\\x92\\xbd\\xf1 \\xab:XZ[\\xbca\\xc2\\xcb\\xbd\\xf9\\x1b\\xd4<du\\xa7=\\x004\\xad\\xbb\\x80\\xae2<\\xeb5\\x1d=\\xec\\x0b^\\xbd\\x17\\x19\\x99\\xbc-L\"<\\xab\\xaf#=\\xc0vs<\\xd7``\\xbc\\'1\\x1b\\xbc\\x8a\\xd4\\x05\\xbd\\xc2\\xddB9\\xd9\\xea\\xb5\\xbb\\xdd\\xbds\\xbc\\x8b(\\xb0\\xbc\\xf5\\xe1J\\xbd\\xb5\\xf4\\xd7\\xbb\\x11\\xa9\\x90\\xbd\\x85\\x87E=\\xf3\\xad\\x18=6\\xb5r\\xbc\\x03\\\\\\n<?\\xdb,<\\x8fz\\xe5<1np\\xbc\\x9c/==\\x1e\\x87a\\xbd6\\xb2.\\xbd\\xc5\\xc3d\\xbdT\\xd4O\\xbc\\x8b\\xed\\x7f=\\xbe\\x1f\"\\xbdD\\x12\\xd1<\\x9f\\xb5\\xf9\\xbcI\\xf8\\x83=Z\\xbb\\x14\\xbcra\"\\xbdB\\xd3\\xb4\\xbd\\x0c$\\xcf\\xbc\\xc1c\\xba<\\x81\\x8f\\xad=\\xd2!_=N\\xff\\xe1\\xbc\\xe6\\x19t\\xbc\\x11\\xf6\"\\xbdy\\xe3\\xa6\\xbc\\xf4}B\\xbd\\xaefk\\xbbR\\x91d\\xbc\\xca9@\\xbd\\x94S\"\\xbd\\xa1\\xcd(<O\\x94\\x05\\xbd\\xf8e<=\\xd3\\xbfs=w\\xad\\x8a\\xbdI\\xd17<\\x07\\\\\\xf5;\\x1f<\\xc5\\xbc9\\xe5X\\xbc\\x06\\xc4\\x12=\\xcfA8\\xbc\\xb6\\x99\\xf5\\xbb-\\x1cj\\xbb\\x90\\x8d\\x92\\xbd\\x07\\xd9\\xf1<lB_<3j6=\\xf5\\xf5\\xf9\\xbc \\xacu=G\\xee\\xac<Z2Z\\xbc\\xb4\\x13\\x9b\\xbd\\xd9\\xd9\\xd0;V\\xa3M=\\xcc\\xa3\\x97\\xbcv5\\x8c=J\\xd74\\xbc\\xa3\\xd7\\x14=\\xa0\\xc9\\xf1=\\xa3\\x1fn<Q\\x83;\\xbb\\xf5\\xe2\\x90<\\\\\\xe1\\xcd;\\x8cz%=\\x95\\xc3\\x02=\\x18\\x1cV\\xbd\\xf7\\xd4\\xfd<\\x1b\\xbc\\x10\\xbc\\xab\\x1a)=\\x87\\x86A=u)\\xea<Y\\xee\\x9c\\xbcC\\xd8\\xc7\\xbb\\xdaj\\x81;\\x9a$\\x0f=\\xe4U\\xe0<FR\\xa7<k\\x881=\\'\\xc7\\xfd\\xbc\\x04\\xfb\\x8b\\xbc\\xcd>\\xe3\\xbaX\\x82Q=YY\\xf5<\\xa0\\xf1t<>]\\x89=\\xc5\\x97J<\\x97\\x85)<l\\xc4\\xb1\\xbcP\\xc7\\x08<T\\xf2.=\\x07\\xa5\\x7f\\xbd\\x8c\\x06\\xc5\\xbc\\tL\\xb6<\\x99\\xb4}\\xbc\\x916\\x17=9r\\xa4=\\x97]\\x9c< e\\xb1\\xbcG_\\xd2;?\\xc2\\xca\\xb9\\xeb3\\xb2\\xbc?\\xe8\\x17=[U\\x0f=O>\\x16\\xbcz\\x9a\\x19=P\\x1dm\\xbdRIV\\xbc\\x8f\\xecM<z\\\\l<\\x82\\xe4\\x0c\\xbdT9&<\\x04\\x1cH\\xbd\\x0el\\xda<\\x15G\\x9b\\xbd\\xe8\\xd5\\xa0\\xbcAc\\xba;\\xcf\\xf27\\xbd\\xe2\\xc8\\x95\\xbcp\\x9aZ\\xbc={\\xf8\\xbc\\xb2Z\\xbd<$R\\x13\\xbd\\x0eT\\xf5\\xbcS\\x81\\x99\\xbc\\x94\\x8f\\xb4\\xbc\\x0c+l=9\\xb9\\xf2\\xbc\\x9bz\\x9a<g&o<\\xd5\\xbeN\\xbd@\\no=\\xf9R\\x0e\\xbd\\x1a\\xda<\\xbd\\xa2D\\xfe;\\r:\\x96<\\x13\\xec/\\xbd\\xfa\\xe9D=]\\xde0\\xbd?\\x9a\\xc5\\xbc\\x0e\\xc1\\x10\\xbcL\\xf4\\x19\\xbdDS\\x95<;u\\x0f=U\\xdc\\x01=j\\xcd\\xef<\\xf7\\x06\\x12=\\xa8\"<\\xbd\\xdc\\x1f\\xc6<\\x12\\x0eE\\xbd\\xc6\\xf0$=Ix\\x82\\xbaW\\x10\\x8c\\xbc\\xc2\\xe2\\x0e<<\\xd9\\xd9\\xbd\\xa0\\xfa!<+\\xfe\\x80;\\xc5\\xb22\\xbd\\xeau\\xf0<]\\xca/\\xb9\\x93\\xfd\\'<5\\xa8\\x18\\xbda\\xd6\\xab\\xbc\\x1f\\xcc\\xce\\xbc/\\xb1\\xf3\\xbco\\x9dZ<95\\xda\\xbcR\\xb0,<\\xdc\\x93\\x99\\xbb \\xaa:=s\\x8f\\x8d\\xbc%\\xa0\\x05\\xbdj\\xf9\\xad\\xbc\\x1f\\xff\\xda<\\xfa\\xa3/=?%\\xb4\\xbc\\xfc,\\xd0=\\xf2\\x18R<\\x96\\xf8\\x84<\\xceX\\xf1\\xb9$\\xa4\\xda\\xbc\\xca\\xcd7=1CQ\\xbd\\xac\\xf3\\xb6==f4=\\xda\\x91\\xb1<\\xbcV\\x89\\xbdW\\xaf\\x8f\\xbd\\x1e\\xff\\xe2;\\xe4\\x1c\\r=O\\xd8_=Y@\\xfc;jw\\x0f;\\xb9\\xe0\\x9d\\xbd\\xeb6\\x83=\\x14\\xa09\\xbb[\\x13q\\xbd\\xfdA\\x04=\\xa1T\\x89\\xbdh\\x8b\\x92\\xbcl\\x08\\x14\\xbck\\x18~\\xbd\\xdd\\x91\\xd8<\\xec\\xf4V\\xbd@\\x96\\xa5\\xbc?\\xd4J\\xbb|\\x1dC<\\x1e\\x19c<\\x1f\\x1e\\xac\\xbbV/+\\xbdL\\xa7\\xa0\\xbb\\x87D\\xf8\\xbc\\x99i\\x1e=FU\\x01\\xbd\\x82\\xfe\\xaf=\\x84\\x88:\\xbc\\x89\\xed\\x96\\xbb\\x1e\\x9d\\xec<\\x89J\\xe6\\xbc*\\xe7Q=%\\x8b\\x9f\\xbb\\xe5r\\x9b\\xbc\\x03\\x9e\\x00\\xbc\\xbf\\xda=<t2\\xaa<\\xbb\\x04\\x0b\\xbd\\x14\\xe1\\xed\\xbc\\xeb\\xec\\x80\\xbd\\xc1\\xc6;<\\x0c\\xc1\\x06=T\\xfc\\x96\\xbc#\\xc7Q\\xbd\\x13%\\xbf\\xbcO\\xe6\\xb3\\xbcB7\\x0b\\xbc1\\xc8s\\xbde\\'\\x9c\\xbc%\\x8c\\x16;\\xd2\\xe8\\x84\\xbd\\xfa,\\x00\\xbc\\x85\\xe1J=\\xf9\\x08\\xc1\\xbc)\\n\\xe7;K )=>\\x97Z=\\'a\\x80\\xbd\\xa84\\xc6\\xbcbL\\x1e\\xbd\\x12+\\xba<~\\xde\\x9e\\xbd\\xc8\\xb5\\xb5<\\xf9\\x86T\\xbc\\xf3l\\x00;\\x8f:\\xc0\\xbc\\x85^\\xa2\\xbcK\\xa4\\x86<\\xeb\\xdb\\x80=\\xa1 \\xb1<\\x7f\\x826\\xbddJF=Xq\\x11\\xbc\\\\\\x97\\x17=v\\xe8\\xa0<\\xa2\\x17\\x90=}\\x83&=`\\x0fQ\\xbc\\xf5/\\xb6<\\x8b\\x8e*<\\xf2\\xb8}\\xbc\\xfeEg=\\n\\xb0\\x96;\\xe1\\x1a\\xe69\\xb6\\xf7\\x0e\\xbd\\xa8TZ\\xbd\\xac@\\x0c:\\xb1\\x83p<\\xd1\\xe8v\\xbc\\xfc\\xd0\\x08=j\\x1bG\\xbc\\x81Y]\\xbc\\xa7\\xe5\\xe5\\xbc\\xcf<\\xed<\\xc1I0<\\x14\\x91Q\\xbb\\x8dO\\x03=y\\xb7\\xa1\\xbd\\xc1\\x98\\xc5\\xbb\\xdcE.=\\x08\\xd0Y:E\\xa1\\xfc\\xba\\xd4`\\xe9=\\xd1-\\x97<\\xdfw\\x8b\\xbcUl\\x94=H\\xff\\x84\\xbb\\r\\x07\\xb1\\xbcg\\xd5\\x9e;\\xec\\x80\\x1e<l*f=\\xd2:x\\xbc\\x11\\x1c:=a\\xb1\\'\\xbd\\xfd\\xf4\\x02\\xbd\\xc2\\x1d\\xc3\\xba={\\xbf<\\xbda\\xb8<Kt&=\\xec\\x8a\\x7f=\\xc6\\x00\\x91<\\xb7\\x16\\x8b<E!\\x7f\\xbd5\\x89~=k\\x9a\\xc7\\xbb\\t\\x9b\\xd4\\xb9\\xfa.P\\xbc\\xd6\\xc7\\xed\\xbb*h\\xc3\\xbcwg\\xf3\\xbc\\xd9\\xf8D\\xbd\\x8e\\xfb\\x92;\\xa6,\\xb4\\xbc\\xc7\\xeaz\\xbbtkM\\xbc\\n\\x97\\x97\\xba\\xbc\\x1d\\x86\\xbb,\\xc4\\xc9<\\x99\\xe3C<\\xca\\x83\\x05<\\xfbC\\x9a\\xbb\\xace\\xc4=#\\x93\\xbc9\\xa1\\xc6\\x04\\xbc\\xe0\\xa17\\xbc\\xad\\xec\\xb1;\\xdf\\xb7\\x8b=u5\\x8d\\xbb\\xc2|\\xa08T\\xb4\\x9f\\xbc\\xc8\\x83\\x16\\xbd\\xf8\\xa1\\x99\\xbd\\xc3\\xb15=\\x187L\\xbd>\\x9bq\\xbbe\\x8db\\xbdVh=\\xbd\\xd2R\\x03<F\\x91(\\xbdi^\\xee\\xb9\\xcf\\x912\\xbd\\x85\\xab\\xa9<\\xe3K\\xba\\xbc1\\xa2f\\xbd\\t\\xe5O=Ny\\xec\\xba+\\xc5T=\\xa2\\xf1\\xa3\\xbdsf\\x1e\\xbd\\xb4\\xc2B\\xbc\\xb0*O=\\xb5}S\\xbd\\x9c\\xcf\\xb4<y\\x93\\x80<\\x8f,\\xaa\\xbc\\x83\\xf9\\xdb<\\x9e\\x0by\\xbcL\\xfe\\xa5<\\x04\\xed\\x1c\\xbd\\xf7\\x1a\\x9c\\xbc\\x00\\x9f\\x01\\xbdvZ\\xdf\\xbb\\xe0\\x94Q\\xbdJ\\x88\\xa2;\\xcfD,;\\xc62\\x18=\\x83\\'\\xf3\\xbcjAc\\xbc&~\\x04=\\xb1\\xb9Z\\xbc\\xf8\\xe5\\x06=\\x00\\x13K=\\x8f\\x06M<E\\xc21<.\\xe8Q=\\xa4\"\\x0e\\xbdM\\xf3\\xe7<Z\\xcfD<\\xcb\\xc8\\x85\\xbcMl7<&\\xf3\\xec\\xbc\\x0f\\xcf\\x9c<+\\x86\\x17\\xbb\\xa6f\\x8e\\xbd\\xed\\x99\\xc3:\\xe6\\x92\\x95\\xbd\\xe4D\\x1e\\xbd\\xe3\\x17\\xb7\\xbc\\x03\\xe5\\x83\\xbc\\x0fd\\xa8\\xbc\\xb8>,<\\x9a\\xc3T=\\x89o\\x99\\xbb\\x02\\x16\\x0b\\xbc\\x9a\\'\\x16\\xbc\\xd8\\x8a\\x84\\xba\\xf5b\\x93\\xbc~hV\\xbc\\x98\\x04\\xd8<K\\xa6\\x0f\\xbc\\x1d\\x1e\\xa1<<\\xf5R=\\xe2\\xc7s;\\xc5C\\x9f<\\x9a\\xf5\\xae;\\x1d\\x93\\xd3\\xbb\\xb3\\x99\\xb4<\\xdf\\x05\\x10=8\\xe1Z\\xba\\t\\xcf\\xdc\\xba\\x88\\x88\\xb6\\xbd\\xddM\\x8e:\\xb1\\x94\\xd1;v\\xc8?\\xbc\\xfanF\\xbdW\\xca\\xe5\\xb9,\\x84\\x80\\xbc\\x83\\xe7\\xa3<\\nK\\x14\\xbcY\\xe6\\xd4<\\x0eg\\r\\xbd\\xb3\\xac2\\xbb4l\\x11<~\\x13\\x80=\\xf8\\xac\\x93\\xbdaE\\xed\\xbc?-\\x14<{\\xed+\\xbd\\xa4\\xf9\\xd8\\xbc\\xf2=\\x9b;L\\xb3u\\xbd\\xb5\\x9c\\xa9<\\xb5\\xc7\\xa8<\\x81\\xd8\\xba\\xbb\\x1c\\xab\\x88\\xbc\\xa7\\x10\\xb0\\xbb\\x08\\xce\\xce\\xbcf\\x0eo\\xbc\\xd9B\\x18=\\xd6\\x165\\xbd\\x02/\\xc8\\xbc$\\x1d\\xf2<K\\xf4\\x9b:\"\\xed\\x07=\\x05\\xc5r<\\xfa\\xcf\\xb3<\\xad\\xedT=\\xfa\\x91=\\xbc\\'\\x1a\\xb3;\\xbaW\\xf4<\\xb3\\x9d\\x11=\\xa0:^<\\x9f\\xd9@=\\n|\\xb8\\xbc\\x9b\\xfb\\x1d\\xbc\\x02\\xec\\x11\\xbd\\xe3\\x9d\\x8a\\xbdg?|\\xbc\\xaba\\\\=\\xe8^\\xf5\\xbc\\x91\\xacZ=\\xd0.z=\\xbc^\\xca\\xbd\\xbe\\x86!=\\xcbwa\\xbd\\xa6\\x88\\x8d=\\x17[3\\xbd\\x91\\x89\\xb7<B\\xbd\\\\\\xbcOh\\x96<_N\\xad<&\\x83$=y\\xad\\xb0<\\xe1\\xb3\\x16\\xbd#\\xa3\\x0b=j.\\x89<\\x00n\\xe3<\\xca\\x8a\"\\xbb\\x0c\\xe2\\x88\\xbb\\xae`H=c>E=`~\\x03\\xbd\\x08C\\xb9\\xbcP\\xb4\\x1b\\xbc\\xf0\\xe0j\\xbcn\\xc9n\\xbc\\xcf\\xfc3<\\xbb\\xc9\\x91<\\xbb\\x8c1\\xbb\\xc6\\xe9\\x0b\\xbdd6\\x16\\xbdW\\xb6\\x02\\xbc\\x87L\\x12<[\\xa0\\xd8<\\xf6Xa\\xbb\\xee\\x9a%\\xbd\\x18\\x95/=M^\\x8a\\xbd\\xb6\\xd7\\x93=\\xed\\xdc\\x82=\\xe9\\xc5\\xd9\\xbc\\xedU\\x12\\xbdtq/=\\xc9L\\xb1\\xbcp\\x8f@=P\\xd4\\xd2\\xbb\\x17\\t\\x14<{\\xb70\\xbc|dC=\\xb4\\xda\\xf9;\\x84z\\x83\\xbcC\\xc7\\xb9:\\xbf\\xf2\\xbc<t\\x1e\\x0c=\\x05\\xc8\\xfc<\\xc3\\x8f\\xc3<J|\\x91\\xbc\\xa8e\\x0c=cq\\xf7:\\xe0\\xc0C=\\xeaRt<+\\x931\\xbc\\xd9\"\\xb2<\\x16RW=0\\xa3[;\\xd4\\x8d\\x01=\\x87 \\xef\\xbcWjU<Qn\\x9e<T\\xe4\\x12=\\xb2\\x08\\x18\\xbc\\xcf\\x9b\\x15\\xbb\\x15D\\xc6:m\\xfd\\xba\\xbd+i\\xbd\\xbc\\x88[8\\xbd$-a=\\xd7\\xff\\x89;\\xf0^\\xd1<\\x92\\x0f\\x14<\\xff$\\xb5<a\\xb5(<\\xb7\\xa3\\x99\\xbc\\xed\\x1d\\x19=\\xda\\xd8\\x86\\xbd\\xcc\\x97\\xd6;\\x15\\xd3W\\xbc\\x1a[+\\xbd\\x07;a;)k+\\xbd\\xba\\xfe6<Q\\xbd\\xe9\\xbb^p\\x1f\\xbd\\xe3q\\xc5\\xbc\\xb2z\\xbb;\\xa4\\x1c\\x15;\\x11\\xc2s<\\xd9\\x8c-\\xbc\\xa2U\\xc8;0\\'\\xd1\\xba|\\xff\\n=\\xa4\\xcc)\\xbd\\x91aT=\\x8b\\xd0$\\xbcKV\\x92=\\xa5|\\xa4=\\xcbBk\\xbd\\xd2\\xf3\\x14=\\x84\\x87\\x89\\xbdz\\xdf\\x9b;[X_<\\x80Hc\\xbc\\x19q\\x9f=u\\x1a\\xb9\\xbc\\xac\\xbfK\\xbd\\xdd\\x16\\x17=\\x89|\\x85<^V\\x87;\\xa5\\xf2\\xdc<R\\xa0\\x04=\\x976\\x94\\xbc2\\x1c\\x93\\xbd\\x1c\\x17\\xe2\\xbc\\xba\\xd3\\xec<\\xae\\x00\\xbf\\xbc/\\xb5{=\\x12/\\x91:\\x88\\x98A;\\xdf+\\x16=\\x88m\\r\\xbb;\\xb6\\x84\\xbbA\\x93.\\xbd\\xa1\\x86\\xc1<};\\xba\\xbc!\\x9f\\x08;\\xadu\\x0c\\xbdQ0\\xf2\\xbcN:\\x9a\\xbb\\xb2\\xf6\\x9c\\xbc\\xd7a\\xbd\\xbb\\x12s\\x08\\xbd7FF\\xbdj\\x1aV\\xbd%\\xa3t=\\xf1G\\x80\\xbd*\\x89\\x0b=\\xee\"w=\\x97;\\t\\xbdI\\xddE\\xbc_G\\x84\\xbc\\x9d\\xd7\\x81\\xbc\\x93\\xea?\\xbb\\xdf1W=\\xc9\\xbf&=y\\r\\n\\xbc\\x91\\xc84\\xbd\\x06\\xc8\\xc2\\xbc-\"U\\xbdQ\\x9a\\xc1<\\xf1\\xc8#=\\x18\\x11M\\xbc\\x15q\\xf08\\xa8\\x83;\\xb8\\x94W$\\xbd\\x19\\x87\\xb3\\xbc,\\x05\\xac\\xbc%\\r\\x8a\\xbc\\xb80\\xc0\\xbc9b\\x89=\\x84\\x13I\\xbc\\xfa\\x8f\\\\=\\xa6&\\x11<\\xbe\\x9f\\xce\\xbcN\\xfce=\\t;]\\xbc\\xb0{:\\xbd#\\x0fl;<\\xd4W\\xbd\\x00\\xbfU\\xbc$4\\x9c\\xbbU\\xfd9\\xbcIG <\\xe3\\xaf\\x81<\\xfa\\xd9\\x14=\\xdfE\\x89=ZoM\\xbd:\\x03\\x8a\\xbd\\x82\\x134<O|\\xd6:a\\xffa\\xbc\\xd5v\\xb3\\xbc\\xb7x\\x94\\xbb\\xc8o\\x8e\\xbc\\x9b\\xaa\\x93=n\\xe4\\xe0\\xbb\\xc7#\\x12\\xbd\\x08\\x8dx=\\x9do0\\xbdl\\xb0\\x80\\xbcd\\xa6M=\\xc2\\xc1\\x9c;%\\xe4\\xd3<\\xbb\\x14\\xab<9\\x15\\x00\\xbcF\\xda\\xa2= \\x8bL\\xbd]\\xe5\\x81\\xbd\\x99\\x95\\x98\\xbcl+\\xc6<S(\\x0c=\\x80\\xdc\\xd3\\xba\\x89>\\x01=Zg\\x00\\xbb7k\\xff\\xbc\\r\\xfa=\\xbd>\\xa2\\x01=\\xe1\\xaf\\xf6\\xbb\\x13e\\xb0<P\\xcd]=+\\x12\\x94\\xbc\\xed\\x13\\x86;\\xcf\\xf1\\x81\\xbd\\xc0(\\x94\\xbb\\xfd4\\x18\\xbd\\xc1Cw\\xbcK\\x8c\\x01=O\\xf5\\xc0;`;h=3\\xe4\\xdb<\\x82\\t[\\xbd\\x95\\x89\\x18\\xbb\\x99\\xe4\\xf8<\\x87\\xcf\\x1f=\\xd6\\x0b\\xe5<=\\x05`\\xba\\x83\\xd8<\\xbba\\xdb.\\xbd\\xd2\\xd1,<\\x11\\xd8\\x16=3\\x9c\\xea:\\x01Q\\x1d\\xbdX\\xefq=',\n",
              " b'title': b'Awful!! Avoid!',\n",
              " b'id': b'5632'}"
            ]
          },
          "metadata": {},
          "execution_count": 56
        }
      ],
      "source": [
        "# Retreive single HASH from Redis\n",
        "key = redis_client.keys()[1]\n",
        "redis_client.hgetall(key)"
      ]
    },
    {
      "cell_type": "markdown",
      "metadata": {
        "id": "G6CmHY3-6wB1"
      },
      "source": [
        "At this point, our **Redis** datastore is completely loaded with a subset of data from **BigQuery** including text embeddings created with **Vertex AI** PaLM APIs."
      ]
    },
    {
      "cell_type": "markdown",
      "metadata": {
        "id": "82-AbKHxItif"
      },
      "source": [
        "# Build LLM applications\n",
        "With Redis fully loaded as a vector database and powerful PaLM APIs at our disposal, we can build a number of AI applications on this stack. Below we will briefly describe each of these applications and use cases\n",
        "\n",
        "- **Document Retrieval** - search through documents to return only the most relevant to a given query.\n",
        "- **Product Recommendations** - recommend products with similar attributes and descriptions to a product the shopper likes.\n",
        "- **Chatbots** - provide a conversational interface for information retrieval or customer service.\n",
        "- **Text Summarization & Generation** - Generate new copy from sources of relevant information to accelerate team output.\n",
        "- **Fraud/Anomaly Detection** - identify anomalous and potentially fraudulent events, transactions, or items based on attribute similarity of other known entities."
      ]
    },
    {
      "cell_type": "markdown",
      "metadata": {
        "id": "Hey_tOYhMByl"
      },
      "source": [
        "# LLM Design Patterns\n",
        "\n",
        "In order to build these kinds of apps, below we highlight 4 technical design patterns and techniques where Redis Enterprise comes in handy to boost LLM performance:\n",
        "\n",
        "- **Semantic Search**\n",
        "- **Retrieval Augmented Generation (RAG)**\n",
        "- **Caching**\n",
        "- **Memory**\n",
        "\n",
        "Leveraging some combination of these patterns is recommended best practice, derived from enterprise use cases and open source users all over the world."
      ]
    },
    {
      "cell_type": "markdown",
      "metadata": {
        "id": "Tm0c981Q7e5k"
      },
      "source": [
        "### Simple Semantic Search\n",
        "\n",
        "\n",
        "**Semantic Search**, in the context of Large Language Models (LLMs), is a sophisticated search technique that goes beyond *literal* keyword matching to understand the contextual meaning and intent behind user queries. Leveraging the power of Google's Vertex AI platform and Redis' vector database capabilities, semantic search can map and extract deep-level knowledge from vast text datasets, including nuanced relationships and hidden patterns.\n",
        "\n",
        "This allows applications to return search results that are contextually relevant, enhancing user experience by offering meaningful responses, even to complex or ambiguous search terms. Thus, semantic search not only boosts the accuracy and relevancy of search results but also empowers applications to interact with users in a more human-like, intuitive manner.\n",
        "\n",
        "The general process of semantic search includes 3 steps:\n",
        "1. Create query vector\n",
        "2. Perform vector search\n",
        "3. Review and return results"
      ]
    },
    {
      "cell_type": "code",
      "execution_count": 57,
      "metadata": {
        "colab": {
          "base_uri": "https://localhost:8080/"
        },
        "id": "a6BsbxUG7kVc",
        "outputId": "30ea0f36-b1ef-49ab-d7d9-fb38622e2a5e"
      },
      "outputs": [
        {
          "output_type": "execute_result",
          "data": {
            "text/plain": [
              "[0.08164466172456741,\n",
              " -0.05301200598478317,\n",
              " -0.01196212973445654,\n",
              " -0.05362908914685249,\n",
              " 0.0456140898168087,\n",
              " -0.020608795806765556,\n",
              " 0.003969392739236355,\n",
              " 0.038530223071575165,\n",
              " 4.5475069782696664e-05,\n",
              " 0.06444840133190155]"
            ]
          },
          "metadata": {},
          "execution_count": 57
        }
      ],
      "source": [
        "# 1. Create query vector\n",
        "query = \"What is the best hotel close to the Louvre?\"\n",
        "query_vector = embed_text([query])[0]\n",
        "\n",
        "# Our query has been converted to a list of floats (this is a truncated view)\n",
        "query_vector[:10]"
      ]
    },
    {
      "cell_type": "code",
      "execution_count": 58,
      "metadata": {
        "id": "zmma7Cjd7kZ9"
      },
      "outputs": [],
      "source": [
        "# Helper method to perform KNN similarity search in Redis # KNN will diplay top 5 closest embeddings\n",
        "def similarity_search(query: str, k: int, return_fields: tuple, index_name: str = INDEX_NAME) -> list:\n",
        "    # create embedding from query text\n",
        "    query_vector = embed_text([query])[0]\n",
        "    # create redis query object\n",
        "    redis_query = (\n",
        "        Query(f\"*=>[KNN {k} @{VECTOR_FIELD_NAME} $embedding AS score]\")\n",
        "            .sort_by(\"score\")\n",
        "            .return_fields(*return_fields)\n",
        "            .paging(0, k)\n",
        "            .dialect(2)\n",
        "    )\n",
        "    # execute the search\n",
        "    results = redis_client.ft(index_name).search(\n",
        "        redis_query, query_params={\"embedding\": convert_embedding(query_vector)}\n",
        "    )\n",
        "    return pd.DataFrame([t.__dict__ for t in results.docs ]).drop(columns=[\"payload\"])\n"
      ]
    },
    {
      "cell_type": "code",
      "execution_count": 59,
      "metadata": {
        "id": "wIaYNgNxA4D1"
      },
      "outputs": [],
      "source": [
        "# 2. Perform vector similarity search with given query\n",
        "results = similarity_search(query, k=5, return_fields=(\"score\", \"title\", \"text\"))"
      ]
    },
    {
      "cell_type": "code",
      "execution_count": 60,
      "metadata": {
        "colab": {
          "base_uri": "https://localhost:8080/",
          "height": 206
        },
        "id": "uy7rh-stIIii",
        "outputId": "18c999a7-9fa7-40c3-b2b9-b2c197e125fb"
      },
      "outputs": [
        {
          "output_type": "display_data",
          "data": {
            "text/plain": [
              "         id           score                            title  \\\n",
              "0  doc:4923  0.165503203869  Wonderful hotel near the Louvre   \n",
              "1  doc:4810   0.17958265543                          5 stars   \n",
              "2  doc:4940  0.187327742577                 Weekend in Paris   \n",
              "3  doc:4926  0.190664052963              Fantastic location    \n",
              "4  doc:5498  0.191933095455   Great location near The Louvre   \n",
              "\n",
              "                                                text  \n",
              "0  We stayed at the Maison Favart for three days....  \n",
              "1  Super helpful staff. Nice lobby. Super helpful...  \n",
              "2  Great location - peaceful and very central - o...  \n",
              "3  We stayed for a short break for 3 nights . Fan...  \n",
              "4  Upon arrival, the staff at the hotel were very...  "
            ],
            "text/html": [
              "\n",
              "  <div id=\"df-5e398938-8631-4b32-ad06-148103c6e3d7\" class=\"colab-df-container\">\n",
              "    <div>\n",
              "<style scoped>\n",
              "    .dataframe tbody tr th:only-of-type {\n",
              "        vertical-align: middle;\n",
              "    }\n",
              "\n",
              "    .dataframe tbody tr th {\n",
              "        vertical-align: top;\n",
              "    }\n",
              "\n",
              "    .dataframe thead th {\n",
              "        text-align: right;\n",
              "    }\n",
              "</style>\n",
              "<table border=\"1\" class=\"dataframe\">\n",
              "  <thead>\n",
              "    <tr style=\"text-align: right;\">\n",
              "      <th></th>\n",
              "      <th>id</th>\n",
              "      <th>score</th>\n",
              "      <th>title</th>\n",
              "      <th>text</th>\n",
              "    </tr>\n",
              "  </thead>\n",
              "  <tbody>\n",
              "    <tr>\n",
              "      <th>0</th>\n",
              "      <td>doc:4923</td>\n",
              "      <td>0.165503203869</td>\n",
              "      <td>Wonderful hotel near the Louvre</td>\n",
              "      <td>We stayed at the Maison Favart for three days....</td>\n",
              "    </tr>\n",
              "    <tr>\n",
              "      <th>1</th>\n",
              "      <td>doc:4810</td>\n",
              "      <td>0.17958265543</td>\n",
              "      <td>5 stars</td>\n",
              "      <td>Super helpful staff. Nice lobby. Super helpful...</td>\n",
              "    </tr>\n",
              "    <tr>\n",
              "      <th>2</th>\n",
              "      <td>doc:4940</td>\n",
              "      <td>0.187327742577</td>\n",
              "      <td>Weekend in Paris</td>\n",
              "      <td>Great location - peaceful and very central - o...</td>\n",
              "    </tr>\n",
              "    <tr>\n",
              "      <th>3</th>\n",
              "      <td>doc:4926</td>\n",
              "      <td>0.190664052963</td>\n",
              "      <td>Fantastic location</td>\n",
              "      <td>We stayed for a short break for 3 nights . Fan...</td>\n",
              "    </tr>\n",
              "    <tr>\n",
              "      <th>4</th>\n",
              "      <td>doc:5498</td>\n",
              "      <td>0.191933095455</td>\n",
              "      <td>Great location near The Louvre</td>\n",
              "      <td>Upon arrival, the staff at the hotel were very...</td>\n",
              "    </tr>\n",
              "  </tbody>\n",
              "</table>\n",
              "</div>\n",
              "    <div class=\"colab-df-buttons\">\n",
              "\n",
              "  <div class=\"colab-df-container\">\n",
              "    <button class=\"colab-df-convert\" onclick=\"convertToInteractive('df-5e398938-8631-4b32-ad06-148103c6e3d7')\"\n",
              "            title=\"Convert this dataframe to an interactive table.\"\n",
              "            style=\"display:none;\">\n",
              "\n",
              "  <svg xmlns=\"http://www.w3.org/2000/svg\" height=\"24px\" viewBox=\"0 -960 960 960\">\n",
              "    <path d=\"M120-120v-720h720v720H120Zm60-500h600v-160H180v160Zm220 220h160v-160H400v160Zm0 220h160v-160H400v160ZM180-400h160v-160H180v160Zm440 0h160v-160H620v160ZM180-180h160v-160H180v160Zm440 0h160v-160H620v160Z\"/>\n",
              "  </svg>\n",
              "    </button>\n",
              "\n",
              "  <style>\n",
              "    .colab-df-container {\n",
              "      display:flex;\n",
              "      gap: 12px;\n",
              "    }\n",
              "\n",
              "    .colab-df-convert {\n",
              "      background-color: #E8F0FE;\n",
              "      border: none;\n",
              "      border-radius: 50%;\n",
              "      cursor: pointer;\n",
              "      display: none;\n",
              "      fill: #1967D2;\n",
              "      height: 32px;\n",
              "      padding: 0 0 0 0;\n",
              "      width: 32px;\n",
              "    }\n",
              "\n",
              "    .colab-df-convert:hover {\n",
              "      background-color: #E2EBFA;\n",
              "      box-shadow: 0px 1px 2px rgba(60, 64, 67, 0.3), 0px 1px 3px 1px rgba(60, 64, 67, 0.15);\n",
              "      fill: #174EA6;\n",
              "    }\n",
              "\n",
              "    .colab-df-buttons div {\n",
              "      margin-bottom: 4px;\n",
              "    }\n",
              "\n",
              "    [theme=dark] .colab-df-convert {\n",
              "      background-color: #3B4455;\n",
              "      fill: #D2E3FC;\n",
              "    }\n",
              "\n",
              "    [theme=dark] .colab-df-convert:hover {\n",
              "      background-color: #434B5C;\n",
              "      box-shadow: 0px 1px 3px 1px rgba(0, 0, 0, 0.15);\n",
              "      filter: drop-shadow(0px 1px 2px rgba(0, 0, 0, 0.3));\n",
              "      fill: #FFFFFF;\n",
              "    }\n",
              "  </style>\n",
              "\n",
              "    <script>\n",
              "      const buttonEl =\n",
              "        document.querySelector('#df-5e398938-8631-4b32-ad06-148103c6e3d7 button.colab-df-convert');\n",
              "      buttonEl.style.display =\n",
              "        google.colab.kernel.accessAllowed ? 'block' : 'none';\n",
              "\n",
              "      async function convertToInteractive(key) {\n",
              "        const element = document.querySelector('#df-5e398938-8631-4b32-ad06-148103c6e3d7');\n",
              "        const dataTable =\n",
              "          await google.colab.kernel.invokeFunction('convertToInteractive',\n",
              "                                                    [key], {});\n",
              "        if (!dataTable) return;\n",
              "\n",
              "        const docLinkHtml = 'Like what you see? Visit the ' +\n",
              "          '<a target=\"_blank\" href=https://colab.research.google.com/notebooks/data_table.ipynb>data table notebook</a>'\n",
              "          + ' to learn more about interactive tables.';\n",
              "        element.innerHTML = '';\n",
              "        dataTable['output_type'] = 'display_data';\n",
              "        await google.colab.output.renderOutput(dataTable, element);\n",
              "        const docLink = document.createElement('div');\n",
              "        docLink.innerHTML = docLinkHtml;\n",
              "        element.appendChild(docLink);\n",
              "      }\n",
              "    </script>\n",
              "  </div>\n",
              "\n",
              "\n",
              "<div id=\"df-138eeb29-cfda-4e9d-99fd-47eec3aed775\">\n",
              "  <button class=\"colab-df-quickchart\" onclick=\"quickchart('df-138eeb29-cfda-4e9d-99fd-47eec3aed775')\"\n",
              "            title=\"Suggest charts\"\n",
              "            style=\"display:none;\">\n",
              "\n",
              "<svg xmlns=\"http://www.w3.org/2000/svg\" height=\"24px\"viewBox=\"0 0 24 24\"\n",
              "     width=\"24px\">\n",
              "    <g>\n",
              "        <path d=\"M19 3H5c-1.1 0-2 .9-2 2v14c0 1.1.9 2 2 2h14c1.1 0 2-.9 2-2V5c0-1.1-.9-2-2-2zM9 17H7v-7h2v7zm4 0h-2V7h2v10zm4 0h-2v-4h2v4z\"/>\n",
              "    </g>\n",
              "</svg>\n",
              "  </button>\n",
              "\n",
              "<style>\n",
              "  .colab-df-quickchart {\n",
              "      --bg-color: #E8F0FE;\n",
              "      --fill-color: #1967D2;\n",
              "      --hover-bg-color: #E2EBFA;\n",
              "      --hover-fill-color: #174EA6;\n",
              "      --disabled-fill-color: #AAA;\n",
              "      --disabled-bg-color: #DDD;\n",
              "  }\n",
              "\n",
              "  [theme=dark] .colab-df-quickchart {\n",
              "      --bg-color: #3B4455;\n",
              "      --fill-color: #D2E3FC;\n",
              "      --hover-bg-color: #434B5C;\n",
              "      --hover-fill-color: #FFFFFF;\n",
              "      --disabled-bg-color: #3B4455;\n",
              "      --disabled-fill-color: #666;\n",
              "  }\n",
              "\n",
              "  .colab-df-quickchart {\n",
              "    background-color: var(--bg-color);\n",
              "    border: none;\n",
              "    border-radius: 50%;\n",
              "    cursor: pointer;\n",
              "    display: none;\n",
              "    fill: var(--fill-color);\n",
              "    height: 32px;\n",
              "    padding: 0;\n",
              "    width: 32px;\n",
              "  }\n",
              "\n",
              "  .colab-df-quickchart:hover {\n",
              "    background-color: var(--hover-bg-color);\n",
              "    box-shadow: 0 1px 2px rgba(60, 64, 67, 0.3), 0 1px 3px 1px rgba(60, 64, 67, 0.15);\n",
              "    fill: var(--button-hover-fill-color);\n",
              "  }\n",
              "\n",
              "  .colab-df-quickchart-complete:disabled,\n",
              "  .colab-df-quickchart-complete:disabled:hover {\n",
              "    background-color: var(--disabled-bg-color);\n",
              "    fill: var(--disabled-fill-color);\n",
              "    box-shadow: none;\n",
              "  }\n",
              "\n",
              "  .colab-df-spinner {\n",
              "    border: 2px solid var(--fill-color);\n",
              "    border-color: transparent;\n",
              "    border-bottom-color: var(--fill-color);\n",
              "    animation:\n",
              "      spin 1s steps(1) infinite;\n",
              "  }\n",
              "\n",
              "  @keyframes spin {\n",
              "    0% {\n",
              "      border-color: transparent;\n",
              "      border-bottom-color: var(--fill-color);\n",
              "      border-left-color: var(--fill-color);\n",
              "    }\n",
              "    20% {\n",
              "      border-color: transparent;\n",
              "      border-left-color: var(--fill-color);\n",
              "      border-top-color: var(--fill-color);\n",
              "    }\n",
              "    30% {\n",
              "      border-color: transparent;\n",
              "      border-left-color: var(--fill-color);\n",
              "      border-top-color: var(--fill-color);\n",
              "      border-right-color: var(--fill-color);\n",
              "    }\n",
              "    40% {\n",
              "      border-color: transparent;\n",
              "      border-right-color: var(--fill-color);\n",
              "      border-top-color: var(--fill-color);\n",
              "    }\n",
              "    60% {\n",
              "      border-color: transparent;\n",
              "      border-right-color: var(--fill-color);\n",
              "    }\n",
              "    80% {\n",
              "      border-color: transparent;\n",
              "      border-right-color: var(--fill-color);\n",
              "      border-bottom-color: var(--fill-color);\n",
              "    }\n",
              "    90% {\n",
              "      border-color: transparent;\n",
              "      border-bottom-color: var(--fill-color);\n",
              "    }\n",
              "  }\n",
              "</style>\n",
              "\n",
              "  <script>\n",
              "    async function quickchart(key) {\n",
              "      const quickchartButtonEl =\n",
              "        document.querySelector('#' + key + ' button');\n",
              "      quickchartButtonEl.disabled = true;  // To prevent multiple clicks.\n",
              "      quickchartButtonEl.classList.add('colab-df-spinner');\n",
              "      try {\n",
              "        const charts = await google.colab.kernel.invokeFunction(\n",
              "            'suggestCharts', [key], {});\n",
              "      } catch (error) {\n",
              "        console.error('Error during call to suggestCharts:', error);\n",
              "      }\n",
              "      quickchartButtonEl.classList.remove('colab-df-spinner');\n",
              "      quickchartButtonEl.classList.add('colab-df-quickchart-complete');\n",
              "    }\n",
              "    (() => {\n",
              "      let quickchartButtonEl =\n",
              "        document.querySelector('#df-138eeb29-cfda-4e9d-99fd-47eec3aed775 button');\n",
              "      quickchartButtonEl.style.display =\n",
              "        google.colab.kernel.accessAllowed ? 'block' : 'none';\n",
              "    })();\n",
              "  </script>\n",
              "</div>\n",
              "\n",
              "  <div id=\"id_e435d9b3-6768-4fe2-8c8c-6018afaacd31\">\n",
              "    <style>\n",
              "      .colab-df-generate {\n",
              "        background-color: #E8F0FE;\n",
              "        border: none;\n",
              "        border-radius: 50%;\n",
              "        cursor: pointer;\n",
              "        display: none;\n",
              "        fill: #1967D2;\n",
              "        height: 32px;\n",
              "        padding: 0 0 0 0;\n",
              "        width: 32px;\n",
              "      }\n",
              "\n",
              "      .colab-df-generate:hover {\n",
              "        background-color: #E2EBFA;\n",
              "        box-shadow: 0px 1px 2px rgba(60, 64, 67, 0.3), 0px 1px 3px 1px rgba(60, 64, 67, 0.15);\n",
              "        fill: #174EA6;\n",
              "      }\n",
              "\n",
              "      [theme=dark] .colab-df-generate {\n",
              "        background-color: #3B4455;\n",
              "        fill: #D2E3FC;\n",
              "      }\n",
              "\n",
              "      [theme=dark] .colab-df-generate:hover {\n",
              "        background-color: #434B5C;\n",
              "        box-shadow: 0px 1px 3px 1px rgba(0, 0, 0, 0.15);\n",
              "        filter: drop-shadow(0px 1px 2px rgba(0, 0, 0, 0.3));\n",
              "        fill: #FFFFFF;\n",
              "      }\n",
              "    </style>\n",
              "    <button class=\"colab-df-generate\" onclick=\"generateWithVariable('results')\"\n",
              "            title=\"Generate code using this dataframe.\"\n",
              "            style=\"display:none;\">\n",
              "\n",
              "  <svg xmlns=\"http://www.w3.org/2000/svg\" height=\"24px\"viewBox=\"0 0 24 24\"\n",
              "       width=\"24px\">\n",
              "    <path d=\"M7,19H8.4L18.45,9,17,7.55,7,17.6ZM5,21V16.75L18.45,3.32a2,2,0,0,1,2.83,0l1.4,1.43a1.91,1.91,0,0,1,.58,1.4,1.91,1.91,0,0,1-.58,1.4L9.25,21ZM18.45,9,17,7.55Zm-12,3A5.31,5.31,0,0,0,4.9,8.1,5.31,5.31,0,0,0,1,6.5,5.31,5.31,0,0,0,4.9,4.9,5.31,5.31,0,0,0,6.5,1,5.31,5.31,0,0,0,8.1,4.9,5.31,5.31,0,0,0,12,6.5,5.46,5.46,0,0,0,6.5,12Z\"/>\n",
              "  </svg>\n",
              "    </button>\n",
              "    <script>\n",
              "      (() => {\n",
              "      const buttonEl =\n",
              "        document.querySelector('#id_e435d9b3-6768-4fe2-8c8c-6018afaacd31 button.colab-df-generate');\n",
              "      buttonEl.style.display =\n",
              "        google.colab.kernel.accessAllowed ? 'block' : 'none';\n",
              "\n",
              "      buttonEl.onclick = () => {\n",
              "        google.colab.notebook.generateWithVariable('results');\n",
              "      }\n",
              "      })();\n",
              "    </script>\n",
              "  </div>\n",
              "\n",
              "    </div>\n",
              "  </div>\n"
            ],
            "application/vnd.google.colaboratory.intrinsic+json": {
              "type": "dataframe",
              "variable_name": "results",
              "summary": "{\n  \"name\": \"results\",\n  \"rows\": 5,\n  \"fields\": [\n    {\n      \"column\": \"id\",\n      \"properties\": {\n        \"dtype\": \"string\",\n        \"num_unique_values\": 5,\n        \"samples\": [\n          \"doc:4810\",\n          \"doc:5498\",\n          \"doc:4940\"\n        ],\n        \"semantic_type\": \"\",\n        \"description\": \"\"\n      }\n    },\n    {\n      \"column\": \"score\",\n      \"properties\": {\n        \"dtype\": \"string\",\n        \"num_unique_values\": 5,\n        \"samples\": [\n          \"0.17958265543\",\n          \"0.191933095455\",\n          \"0.187327742577\"\n        ],\n        \"semantic_type\": \"\",\n        \"description\": \"\"\n      }\n    },\n    {\n      \"column\": \"title\",\n      \"properties\": {\n        \"dtype\": \"string\",\n        \"num_unique_values\": 5,\n        \"samples\": [\n          \"5 stars\",\n          \"Great location near The Louvre\",\n          \"Weekend in Paris\"\n        ],\n        \"semantic_type\": \"\",\n        \"description\": \"\"\n      }\n    },\n    {\n      \"column\": \"text\",\n      \"properties\": {\n        \"dtype\": \"string\",\n        \"num_unique_values\": 5,\n        \"samples\": [\n          \"Super helpful staff. Nice lobby. Super helpful staff. Would definitely stay here again. Super close to the louvre as well as a short walk to the arc de triomphe. Coffee available 24/7 in the lobby. Snacks, water, soda available in the afternoons.\",\n          \"Upon arrival, the staff at the hotel were very friendly and accommodating. They stored our luggage until we returned later. Upon returning the luggage was already brought to our room.  Our room was very nice with a comfortable bed. It was larger than many others. We stayed in during this trip and even had to Juliet balconies.\",\n          \"Great location - peaceful and very central - opposite the Opera House.  Fifteen minutes walk down to the Louvre and many good restaurants close by.  Very comfortable beds and pretty breakfast room.  Front of House staff couldn't be more helpful especially with directions and great restaurants ! \"\n        ],\n        \"semantic_type\": \"\",\n        \"description\": \"\"\n      }\n    }\n  ]\n}"
            }
          },
          "metadata": {}
        }
      ],
      "source": [
        "# 3. Review and return the results. Score is the similarity score.\n",
        "display(results)"
      ]
    },
    {
      "cell_type": "markdown",
      "metadata": {
        "id": "IH04U3ls9Pes"
      },
      "source": [
        "Results above indicate that our search for recommended operating systems for software devs yielded some posts from Hacker News that might be helpful in answering this question.\n",
        "\n",
        "**Interested in tuning the search results?**\n",
        "- Try using a different [Distance Metric](https://redis.io/docs/interact/search-and-query/search/vectors/#creation-attributes-per-algorithm)\n",
        "- Try using a different [Index Type](https://redis.io/docs/interact/search-and-query/search/vectors/#flat)"
      ]
    },
    {
      "cell_type": "markdown",
      "metadata": {
        "id": "OKFktSvG9sgN"
      },
      "source": [
        "### Retrieval Augmented Generation (RAG)\n",
        "\n",
        "**Retrieval Augmented Generation** (RAG), within the scope of Large Language Models (LLMs), is a technique that combines the knowledge of domain-specific data and generative models to enhance the production of contextually-rich question responses. In essence, *RAG* functions by retrieving relevant information from a knowledge base of documents or data before proceeding to generate a response. This allows generalized foundation models to gain access to these datasources at runtime, and is NOT the same thing as fine-tuning.\n",
        "\n",
        "RAG exploits the strengths of Redis as a low-latency vector database for efficient retrieval operations and Google's Vertex AI to generate a coherent text response. In LLM applications, RAG enables a deeper comprehension of context, returning highly nuanced responses, even to intricate queries. This pattern enhances the interactive capability of applications, delivering more precise and informative responses, thereby significantly enriching the user experience.\n"
      ]
    },
    {
      "cell_type": "markdown",
      "metadata": {
        "id": "DoZpAD8mFQjW"
      },
      "source": [
        "In order to build a RAG pipeline for question answering, we need to use Vertex PaLM API for text generation (`text-bison@001`)."
      ]
    },
    {
      "cell_type": "code",
      "execution_count": 61,
      "metadata": {
        "colab": {
          "base_uri": "https://localhost:8080/"
        },
        "id": "EVwj7o5lFKy2",
        "outputId": "bcef5592-8592-4c3b-ec03-cd8d83036433"
      },
      "outputs": [
        {
          "output_type": "stream",
          "name": "stdout",
          "text": [
            "Example response:\n",
            " Embrace I don't know means to accept that there are things that you don't know and that you may never know. This can be difficult, but it is important to remember that everyone is in the same boat. No one knows everything, and that's okay. The important thing is to keep learning and growing, and to never stop asking questions.\n",
            "\n",
            "Eliminate hallucinations means to get rid of the false or distorted perceptions that you may have about yourself or the world around you. This can be difficult, but it is important to remember that you are in control of your own thoughts and feelings. You can choose to\n"
          ]
        }
      ],
      "source": [
        "#Text Generation Model:Uses the Vertex AI PaLM API with the \"text-bison@001\" model.\n",
        "from vertexai.preview.language_models import TextGenerationModel\n",
        "\n",
        "# Define generation model\n",
        "generation_model = TextGenerationModel.from_pretrained(\"text-bison@001\")\n",
        "\n",
        "response = generation_model.predict(prompt=\"What is embrace I dont know and eliminate hallucinations mean in LLM context?\") # generic query\n",
        "\n",
        "print(\"Example response:\\n\", response.text)\n"
      ]
    },
    {
      "cell_type": "markdown",
      "metadata": {
        "id": "-YqvgImdFiAz"
      },
      "source": [
        "In order to be able to answer questions **while referencing domain-specific sources** (like our sample google reviews dataset), we must build a RAG pipeline:\n",
        "\n",
        "1. First perform **Semantic Search** with the user query on the knowledge base (stored in Redis) to find relevant sources that will help the language model answer and respond intelligently.\n",
        "\n",
        "2. The sources (called context) are \"stuffed\" into the prompt (input).\n",
        "\n",
        "3. Lastly, the full prompt is passed on to the language model for text generation."
      ]
    },
    {
      "cell_type": "code",
      "execution_count": 62,
      "metadata": {
        "id": "NbMbVRgLGJbt"
      },
      "outputs": [],
      "source": [
        "\"\"\"\n",
        "RAG Function:\n",
        "\n",
        "Performs vector similarity search in Redis.\n",
        "Combines relevant sources into a prompt.\n",
        "Generates a response using the PaLM API.\n",
        "\"\"\"\n",
        "\n",
        "def create_prompt(prompt_template: str, **kwargs) -> str:\n",
        "  return prompt_template.format(**kwargs)\n",
        "\n",
        "def rag(query: str, prompt: str, verbose: bool = True) -> str:\n",
        "    \"\"\"\n",
        "    Simple pipeline for performing retrieval augmented generation with\n",
        "    Google Vertex PaLM API and Redis Enterprise.\n",
        "    \"\"\"\n",
        "    # Perform a vector similarity search in Redis\n",
        "    if verbose:\n",
        "        print(\"Pulling relevant data sources from Redis\", flush=True)\n",
        "    relevant_sources = similarity_search(query, k=3, return_fields=(\"text\",))\n",
        "    if verbose:\n",
        "        print(\"Relevant sources found!\", flush=True)\n",
        "    # Combine the relevant sources and inject into the prompt\n",
        "    sources_text = \"-\" + \"\\n-\".join([source for source in relevant_sources.text.values])\n",
        "    full_prompt = create_prompt(\n",
        "        prompt_template=prompt,\n",
        "        sources=sources_text,\n",
        "        query=query\n",
        "      )\n",
        "    if verbose:\n",
        "        print(\"\\nFull prompt:\\n\\n\", full_prompt, flush=True)\n",
        "    # Perform text generation to get a response from PaLM API\n",
        "    response = generation_model.predict(prompt=full_prompt)\n",
        "    return response.text\n",
        "\n"
      ]
    },
    {
      "cell_type": "markdown",
      "metadata": {
        "id": "rHrLLAQcH5_e"
      },
      "source": [
        "Below is an example prompt template. Feel free to edit and tweak the initial sentence that sets the context for the language model to perform the action we are anticipating. The process of tuning and iterating on prompt design is widely refered to as \"*prompt engineering*\"."
      ]
    },
    {
      "cell_type": "code",
      "execution_count": 63,
      "metadata": {
        "id": "dXP_pzQ0BJl_"
      },
      "outputs": [],
      "source": [
        "PROMPT = \"\"\"You are a helpful virtual technology and IT assistant. Use the hotel reviews below as relevant context and sources to help answer the user question. Don't blindly make things up.\n",
        "\n",
        "SOURCES:\n",
        "{sources}\n",
        "\n",
        "QUESTION:\n",
        "{query}?\n",
        "\n",
        "ANSWER:\"\"\"\n",
        "\n"
      ]
    },
    {
      "cell_type": "code",
      "execution_count": 64,
      "metadata": {
        "colab": {
          "base_uri": "https://localhost:8080/"
        },
        "id": "g3iuL5eb9Wsm",
        "outputId": "7d344b4b-ea15-48c0-df42-d5cbab04d500"
      },
      "outputs": [
        {
          "output_type": "stream",
          "name": "stdout",
          "text": [
            "Pulling relevant data sources from Redis\n",
            "Relevant sources found!\n",
            "\n",
            "Full prompt:\n",
            "\n",
            " You are a helpful virtual technology and IT assistant. Use the hotel reviews below as relevant context and sources to help answer the user question. Don't blindly make things up.\n",
            "\n",
            "SOURCES:\n",
            "-We stayed at the Maison Favart for three days. First of all, the hotel is close to the Louvre, so it is perfect for a visit there. The rooms and lobby of the hotel are very nicely decorated. The staff were very friendly and catered for all our needs. Would definitely come back next time!\n",
            "-Great location - peaceful and very central - opposite the Opera House.  Fifteen minutes walk down to the Louvre and many good restaurants close by.  Very comfortable beds and pretty breakfast room.  Front of House staff couldn't be more helpful especially with directions and great restaurants ! \n",
            "-We stayed for a short break for 3 nights . Fantastic little boutique French hotel with a great location, Louve museum 15 mins, ritz 18 mins and Eiffel Tower 45 mins all by foot plenty of restaurants around the hotel for food also \n",
            "\n",
            "QUESTION:\n",
            "Best hotel near the Louvre in Paris??\n",
            "\n",
            "ANSWER:\n",
            "The Maison Favart is a great hotel near the Louvre in Paris. It is located close to the museum, so it is perfect for a visit there. The rooms and lobby of the hotel are very nicely decorated. The staff are very friendly and catered for all our needs. We would definitely come back next time!\n"
          ]
        }
      ],
      "source": [
        "query = \"Best hotel near the Louvre in Paris?\"\n",
        "response = rag(query=query, prompt=PROMPT)\n",
        "print(response)"
      ]
    },
    {
      "cell_type": "code",
      "execution_count": 65,
      "metadata": {
        "colab": {
          "base_uri": "https://localhost:8080/"
        },
        "id": "GkTUofBRSOCy",
        "outputId": "50fd7437-30b2-4e5d-ed1f-eb5b3a2e42dd"
      },
      "outputs": [
        {
          "output_type": "stream",
          "name": "stdout",
          "text": [
            "Pulling relevant data sources from Redis\n",
            "Relevant sources found!\n",
            "\n",
            "Full prompt:\n",
            "\n",
            " You are a helpful virtual technology and IT assistant. Use the hotel reviews below as relevant context and sources to help answer the user question. Don't blindly make things up.\n",
            "\n",
            "SOURCES:\n",
            "-We had a fantastic stay! This was our second time in this wonderful hotel where everything has this extra something. From the beds , the food and the friendly people at work. We really enjoyed ourselves! \n",
            "-Excellent hotel, beds were so comfortable and rooms were clean and of a good size. My daughter and I also loved the free hot chocolate which we enjoyed in the outdoor patio area every evening. Very quiet peaceful hotel, and would highly recommend.\n",
            "-We had a really wonderful stay the Grand Hotel.  The staff was always friendly and they went out of their way to make our experience lovely and memorable.  Our room was spacious and well-appointed.  The hotel was perfectly located for all the sights and easy access to the metro.  I would definitely stay here again.\n",
            "\n",
            "QUESTION:\n",
            "What are some amazing hotels near Big ben??\n",
            "\n",
            "ANSWER:\n",
            "The Grand Hotel is a great option for those looking for a hotel near Big Ben. The hotel is located just a short walk from the iconic landmark, and offers a variety of amenities, including a free breakfast buffet, a fitness center, and a rooftop terrace with views of the city. The rooms are spacious and well-appointed, and the staff is friendly and helpful.\n"
          ]
        }
      ],
      "source": [
        "query = \"What are some amazing hotels near Big ben?\"\n",
        "response = rag(query=query, prompt=PROMPT)\n",
        "print(response)"
      ]
    },
    {
      "cell_type": "markdown",
      "metadata": {
        "id": "Rs-PweeYTjuE"
      },
      "source": [
        "Clearly this example dataset (hackernews) is not the only example we could work with and it 's certainly not \"production\" ready out of the gate. This is also only utilizing a subset (1000 records) of the actual data for teaching purposes.\n",
        "\n",
        "However, this example demonstrates how you can combine external sources of data and LLMs to surface more useful information."
      ]
    },
    {
      "cell_type": "markdown",
      "metadata": {
        "id": "FziAlkeg92U4"
      },
      "source": [
        "### LLM Caching\n",
        "\n",
        "**LLM Caching** is an advanced strategy used to optimize the performance of Large Language Model (LLM) applications. Utilizing the ultra-fast, in-memory data store of Redis, LLM Caching enables the storage and quick retrieval of pre-computed responses generated by Google's Vertex AI (PaLM). This means the computationally expensive process of response generation, especially for repetitive queries, is significantly reduced, resulting in faster response times and efficient resource utilization. This pairing of Google's powerful generative AI capabilities with Redis' high-performance caching system thus facilitates a more scalable and performant architecture for LLM applications, improving overall user experience and application reliability.\n",
        "\n",
        "There are primarily two modes of caching for LLMs:\n",
        "- Standard Caching\n",
        "- Semantic Caching"
      ]
    },
    {
      "cell_type": "markdown",
      "metadata": {
        "id": "r6YK-Y_hT4OD"
      },
      "source": [
        "#### Standard Caching\n",
        "\n",
        "Standard caching for LLMs involves simply matching an exact phrase or prompt that has been provided before. We can return the previously used response from the LLM in order to speed up the throughput of the system overall and reduce redundant computation."
      ]
    },
    {
      "cell_type": "code",
      "execution_count": 66,
      "metadata": {
        "id": "FjOvOhJ2T3Wr"
      },
      "outputs": [],
      "source": [
        "# Some boiler plate helper methods for caching mechanism\n",
        "\n",
        "import hashlib\n",
        "\n",
        "def hash_input(prefix: str, _input: str):\n",
        "    # Creates a hash for cache key\n",
        "    return prefix + hashlib.sha256(_input.encode(\"utf-8\")).hexdigest()\n",
        "\n",
        "def standard_check(key: str):\n",
        "  # function to perform a standard cache check. Checks if an identical query exists in the cache\n",
        "    res = redis_client.hgetall(key)\n",
        "    if res:\n",
        "      return res[b'response'].decode('utf-8')\n",
        "\n",
        "def cache_response(query: str, response: str):\n",
        "    # Stores responses in the cache\n",
        "    key = hash_input(\"llmcache:\", query)\n",
        "    redis_client.hset(key, mapping={\"prompt\": query, \"response\": response})\n",
        "\n",
        "# LLM Cache wrapper / decorator function - implements the cache logic\n",
        "def standard_llmcache(llm_callable):\n",
        "    def wrapper(*args, **kwargs):\n",
        "        # Check LLM Cache first\n",
        "        key = hash_input(\"llmcache:\", *args, **kwargs)\n",
        "        response = standard_check(key)\n",
        "        # Check if we have a cached response we can use\n",
        "        if response:\n",
        "            return response\n",
        "        # Otherwise execute the llm callable here\n",
        "        response = llm_callable(*args, **kwargs)\n",
        "        cache_response(query, response)\n",
        "        return response\n",
        "\n",
        "    return wrapper"
      ]
    },
    {
      "cell_type": "code",
      "execution_count": 67,
      "metadata": {
        "id": "gmjOXe66T_nx"
      },
      "outputs": [],
      "source": [
        "# Define a function that invokes the PaLM API wrapped with a cache check\n",
        "\n",
        "@standard_llmcache\n",
        "def ask_palm(query: str):\n",
        "  prompt = PROMPT\n",
        "  response = rag(query, prompt, verbose=False)\n",
        "  return response"
      ]
    },
    {
      "cell_type": "code",
      "execution_count": 68,
      "metadata": {
        "colab": {
          "base_uri": "https://localhost:8080/",
          "height": 87
        },
        "id": "L2enaTNcXCoM",
        "outputId": "6205ecf3-53d3-465c-ad8f-1a3d0e9e3595"
      },
      "outputs": [
        {
          "output_type": "stream",
          "name": "stdout",
          "text": [
            "CPU times: user 23.6 ms, sys: 2 ms, total: 25.6 ms\n",
            "Wall time: 870 ms\n"
          ]
        },
        {
          "output_type": "execute_result",
          "data": {
            "text/plain": [
              "'The number one hotel to stay in Istanbul is the Hotel Istanbul. The hotel is located in the heart of the city, close to all the major attractions. The rooms are spacious and well-appointed, and the staff is friendly and helpful. The hotel also has a number of amenities, including a rooftop pool, a fitness center, and a spa.'"
            ],
            "application/vnd.google.colaboratory.intrinsic+json": {
              "type": "string"
            }
          },
          "metadata": {},
          "execution_count": 68
        }
      ],
      "source": [
        "%%time\n",
        "\n",
        "#query = \"What are some amazing hotels near Big ben?\"\n",
        "query = \"What is the number one hotel to stay in Istanbul?\"\n",
        "\n",
        "ask_palm(query)"
      ]
    },
    {
      "cell_type": "markdown",
      "metadata": {
        "id": "hGE852RfXutZ"
      },
      "source": [
        "Now if we ask the same question again -- we should get the same response in near real-time."
      ]
    },
    {
      "cell_type": "code",
      "execution_count": 69,
      "metadata": {
        "colab": {
          "base_uri": "https://localhost:8080/",
          "height": 87
        },
        "id": "ThheflkTXCzk",
        "outputId": "4b941f50-0abd-4714-83c2-544bcdbd27c6"
      },
      "outputs": [
        {
          "output_type": "stream",
          "name": "stdout",
          "text": [
            "CPU times: user 19.2 ms, sys: 2.96 ms, total: 22.1 ms\n",
            "Wall time: 802 ms\n"
          ]
        },
        {
          "output_type": "execute_result",
          "data": {
            "text/plain": [
              "'The top hotel to stay in Istanbul is the Hotel. It is a lovely hotel with excellent service and a great location. The staff is very friendly and helpful, and the rooms are clean and comfortable. The hotel is also located in a great area, close to restaurants, shopping, and cultural sites.'"
            ],
            "application/vnd.google.colaboratory.intrinsic+json": {
              "type": "string"
            }
          },
          "metadata": {},
          "execution_count": 69
        }
      ],
      "source": [
        "%%time\n",
        "query = \"What is the top hotel to stay in Istanbul?\"\n",
        "\n",
        "ask_palm(query)"
      ]
    },
    {
      "cell_type": "markdown",
      "metadata": {
        "id": "SZVIhYqNXDAH"
      },
      "source": [
        "#### Semantic Caching - Assignment\n",
        "Implement Semantic Caching and try to write data to GCP big query and retrieve from it - you can also use json locally\n"
      ]
    },
    {
      "cell_type": "code",
      "source": [
        "!pip install -U faiss-cpu #sentence_transformers transformers - already installed"
      ],
      "metadata": {
        "colab": {
          "base_uri": "https://localhost:8080/"
        },
        "id": "mgN-fzeLM_Jq",
        "outputId": "d656477c-f98e-4607-8f50-2843ef08a7a9"
      },
      "execution_count": 71,
      "outputs": [
        {
          "output_type": "stream",
          "name": "stdout",
          "text": [
            "Requirement already satisfied: faiss-cpu in /usr/local/lib/python3.10/dist-packages (1.8.0.post1)\n",
            "Requirement already satisfied: numpy<2.0,>=1.0 in /usr/local/lib/python3.10/dist-packages (from faiss-cpu) (1.25.2)\n",
            "Requirement already satisfied: packaging in /usr/local/lib/python3.10/dist-packages (from faiss-cpu) (24.1)\n"
          ]
        }
      ]
    },
    {
      "cell_type": "markdown",
      "source": [
        "# Semantic cache and LLM\n",
        "\n",
        "Jay: Below is semantic cache but is there any value to check standard cahe and then check semantic cache?\n",
        "Also moved to cosine similarity. Faiss doc mentions it is more suited for text analysis and recommendation systems. Confirmed, I am getting better results."
      ],
      "metadata": {
        "id": "h_7o0Xp7JPCP"
      }
    },
    {
      "cell_type": "code",
      "source": [
        "import json\n",
        "import time\n",
        "from sentence_transformers import SentenceTransformer # embeddings\n",
        "import faiss\n",
        "\n",
        "# Initialize Semantic Caching components\n",
        "class SemanticCaching:\n",
        "    def __init__(self, json_file='cache.json'):\n",
        "        self.index = faiss.IndexFlatL2(768)\n",
        "        self.encoder = SentenceTransformer('all-mpnet-base-v2')\n",
        "        #self.euclidean_threshold = 0.3\n",
        "        self.cosine_threshold = 0.3 #translates to 0.7. Cosine similarity metric is useful when prioritizing directional similarity over magnitude, such as in text analysis or recommendation systems.\n",
        "        self.json_file = json_file\n",
        "        self.load_cache()\n",
        "\n",
        "    def load_cache(self):\n",
        "        try:\n",
        "            with open(self.json_file, 'r') as file:\n",
        "                self.cache = json.load(file)\n",
        "            for embedding in self.cache['embeddings']:\n",
        "                self.index.add(np.array([embedding], dtype=np.float32))\n",
        "        except FileNotFoundError:\n",
        "            self.cache = {'questions': [], 'embeddings': [], 'answers': [], 'response_text': []}\n",
        "\n",
        "    def save_cache(self):\n",
        "        with open(self.json_file, 'w') as file:\n",
        "            json.dump(self.cache, file)\n",
        "\n",
        "    def ask(self, question: str):\n",
        "        embedding = self.encoder.encode([question])\n",
        "        D, I = self.index.search(embedding, 1)\n",
        "\n",
        "        # print(f\"Embedding: {embedding}\")\n",
        "        # print(f\"D: {D}, I: {I}\")\n",
        "\n",
        "        #if D[0][0] <= self.euclidean_threshold:\n",
        "        if D[0][0] <= self.cosine_threshold:\n",
        "            row_id = int(I[0][0])\n",
        "            similarity_score = 1 - D[0][0]\n",
        "            print(f\"Semantic cache hit with similarity score: {similarity_score}\")\n",
        "            return self.cache['response_text'][row_id], similarity_score\n",
        "\n",
        "        return None, None\n",
        "\n",
        "    def cache_response(self, question: str, response: str):\n",
        "        embedding = self.encoder.encode([question])\n",
        "        self.cache['questions'].append(question)\n",
        "        self.cache['embeddings'].append(embedding[0].tolist())\n",
        "        self.cache['answers'].append(response)\n",
        "        self.cache['response_text'].append(response)\n",
        "        self.index.add(embedding)\n",
        "        self.save_cache()\n",
        "\n",
        "# Instantiate Semantic Caching\n",
        "semantic_cache = SemanticCaching()\n",
        "\n",
        "# LLM Cache wrapper / decorator function\n",
        "def llm_cache(llm_callable):\n",
        "    def wrapper(*args, **kwargs):\n",
        "        query = args[0]\n",
        "        start_time = time.time()\n",
        "\n",
        "        # Check semantic cache\n",
        "        semantic_response, similarity_score = semantic_cache.ask(query)\n",
        "        if semantic_response:\n",
        "            elapsed_time = time.time() - start_time\n",
        "            print(f\"Semantic cache hit: {semantic_response}\")\n",
        "            return semantic_response, elapsed_time, similarity_score\n",
        "\n",
        "        # If not in semantic cache, call the LLM\n",
        "        response = llm_callable(*args, **kwargs)\n",
        "        semantic_cache.cache_response(query, response)\n",
        "        elapsed_time = time.time() - start_time\n",
        "        print(f\"LLM response: {response}\")\n",
        "        return response, elapsed_time, None\n",
        "\n",
        "    return wrapper\n"
      ],
      "metadata": {
        "id": "8Syan2LcJOs1"
      },
      "execution_count": 75,
      "outputs": []
    },
    {
      "cell_type": "code",
      "source": [
        "# Define a function that invokes the PaLM API wrapped with a cache check\n",
        "@llm_cache\n",
        "def ask_palm(query: str):\n",
        "    prompt = PROMPT\n",
        "    response = rag(query, prompt, verbose=False)\n",
        "    return response\n"
      ],
      "metadata": {
        "id": "CoNOyP8MJnlF"
      },
      "execution_count": 76,
      "outputs": []
    },
    {
      "cell_type": "code",
      "source": [
        "# Example usage\n",
        "query1 = \"What is the top hotel to stay in Istanbul?\"\n",
        "response1, time_spent1, similarity_score1 = ask_palm(query1)\n",
        "print(f\"Response: {response1}\")\n",
        "print(f\"Time spent: {time_spent1} seconds\")\n",
        "if similarity_score1 is not None:\n",
        "    print(f\"Semantic similarity score: {similarity_score1}\")"
      ],
      "metadata": {
        "colab": {
          "base_uri": "https://localhost:8080/"
        },
        "id": "Q2YZCWFE9qzN",
        "outputId": "abf77460-6739-4581-e89f-57426f1f6703"
      },
      "execution_count": 77,
      "outputs": [
        {
          "output_type": "stream",
          "name": "stdout",
          "text": [
            "LLM response: The top hotel to stay in Istanbul is the Hotel. It is a lovely hotel with excellent service and a great location. The staff is very friendly and helpful, and the rooms are clean and comfortable. The hotel is also located in a great area, close to restaurants, shopping, and cultural sites.\n",
            "Response: The top hotel to stay in Istanbul is the Hotel. It is a lovely hotel with excellent service and a great location. The staff is very friendly and helpful, and the rooms are clean and comfortable. The hotel is also located in a great area, close to restaurants, shopping, and cultural sites.\n",
            "Time spent: 2.224571466445923 seconds\n"
          ]
        }
      ]
    },
    {
      "cell_type": "code",
      "source": [
        "query2 = \"What is the number one hotel to stay in Istanbul?\"\n",
        "response2, time_spent2, similarity_score2 = ask_palm(query2)\n",
        "print(f\"Response: {response2}\")\n",
        "print(f\"Time spent: {time_spent2} seconds\")\n",
        "if similarity_score2 is not None:\n",
        "    print(f\"Semantic similarity score: {similarity_score2}\")"
      ],
      "metadata": {
        "colab": {
          "base_uri": "https://localhost:8080/"
        },
        "id": "UGBwCGqGsFWm",
        "outputId": "42594f95-9c51-4ac4-d70a-368876594cd3"
      },
      "execution_count": 78,
      "outputs": [
        {
          "output_type": "stream",
          "name": "stdout",
          "text": [
            "Semantic cache hit with similarity score: 0.9239330738782883\n",
            "Semantic cache hit: The top hotel to stay in Istanbul is the Hotel. It is a lovely hotel with excellent service and a great location. The staff is very friendly and helpful, and the rooms are clean and comfortable. The hotel is also located in a great area, close to restaurants, shopping, and cultural sites.\n",
            "Response: The top hotel to stay in Istanbul is the Hotel. It is a lovely hotel with excellent service and a great location. The staff is very friendly and helpful, and the rooms are clean and comfortable. The hotel is also located in a great area, close to restaurants, shopping, and cultural sites.\n",
            "Time spent: 0.12269973754882812 seconds\n",
            "Semantic similarity score: 0.9239330738782883\n"
          ]
        }
      ]
    },
    {
      "cell_type": "code",
      "source": [
        "query3 = \"What is the name of the top hotel to stay in Istanbul\"\n",
        "response3, time_spent3, similarity_score3 = ask_palm(query3)\n",
        "print(f\"Response: {response3}\")\n",
        "print(f\"Time spent: {time_spent3} seconds\")\n",
        "if similarity_score3 is not None:\n",
        "    print(f\"Semantic similarity score: {similarity_score3}\")"
      ],
      "metadata": {
        "colab": {
          "base_uri": "https://localhost:8080/"
        },
        "id": "YRN-JY8-9ZbS",
        "outputId": "2ddf19d2-3fb4-42df-c5a9-f706a7a86e4d"
      },
      "execution_count": 79,
      "outputs": [
        {
          "output_type": "stream",
          "name": "stdout",
          "text": [
            "Semantic cache hit with similarity score: 0.7140820026397705\n",
            "Semantic cache hit: The top hotel to stay in Istanbul is the Hotel. It is a lovely hotel with excellent service and a great location. The staff is very friendly and helpful, and the rooms are clean and comfortable. The hotel is also located in a great area, close to restaurants, shopping, and cultural sites.\n",
            "Response: The top hotel to stay in Istanbul is the Hotel. It is a lovely hotel with excellent service and a great location. The staff is very friendly and helpful, and the rooms are clean and comfortable. The hotel is also located in a great area, close to restaurants, shopping, and cultural sites.\n",
            "Time spent: 0.14393353462219238 seconds\n",
            "Semantic similarity score: 0.7140820026397705\n"
          ]
        }
      ]
    },
    {
      "cell_type": "code",
      "source": [
        "query4 = \"Give me the top hotel name in Istanbul\"\n",
        "response4, time_spent4, similarity_score4 = ask_palm(query4)\n",
        "print(f\"Response: {response4}\")\n",
        "print(f\"Time spent: {time_spent4} seconds\")\n",
        "if similarity_score4 is not None:\n",
        "    print(f\"Semantic similarity score: {similarity_score4}\")"
      ],
      "metadata": {
        "colab": {
          "base_uri": "https://localhost:8080/"
        },
        "id": "JAzrhueqAThU",
        "outputId": "277555bd-3545-4322-d3b6-fae4de5ae142"
      },
      "execution_count": 80,
      "outputs": [
        {
          "output_type": "stream",
          "name": "stdout",
          "text": [
            "Semantic cache hit with similarity score: 0.8263893723487854\n",
            "Semantic cache hit: The top hotel to stay in Istanbul is the Hotel. It is a lovely hotel with excellent service and a great location. The staff is very friendly and helpful, and the rooms are clean and comfortable. The hotel is also located in a great area, close to restaurants, shopping, and cultural sites.\n",
            "Response: The top hotel to stay in Istanbul is the Hotel. It is a lovely hotel with excellent service and a great location. The staff is very friendly and helpful, and the rooms are clean and comfortable. The hotel is also located in a great area, close to restaurants, shopping, and cultural sites.\n",
            "Time spent: 0.15808749198913574 seconds\n",
            "Semantic similarity score: 0.8263893723487854\n"
          ]
        }
      ]
    },
    {
      "cell_type": "markdown",
      "metadata": {
        "id": "P4Hl5U9O94ad"
      },
      "source": [
        "### Memory\n",
        "\n",
        "Giving your application access to \"memory\" for chat history is a common technique to improve the models ability to reason through recent or past conversations, gain context from previous answers, and thus provide a more accurate and acceptable response."
      ]
    },
    {
      "cell_type": "markdown",
      "metadata": {
        "id": "ud63DzBtfzUX"
      },
      "source": [
        "Below we setup simple helper functions to persist and load conversation history in a Redis List data structure."
      ]
    },
    {
      "cell_type": "code",
      "execution_count": 81,
      "metadata": {
        "id": "1ph-e7eZcFsR"
      },
      "outputs": [],
      "source": [
        "import json\n",
        "\n",
        "def add_message(prompt: str, response: str):\n",
        "    msg = {\n",
        "        \"prompt\": prompt,\n",
        "        \"response\": response\n",
        "    }\n",
        "    redis_client.lpush(\"chat-history\", json.dumps(msg))\n",
        "\n",
        "def get_messages(k: int = 5):\n",
        "    return [json.loads(msg) for msg in redis_client.lrange(\"chat-history\", 0, k)]"
      ]
    },
    {
      "cell_type": "code",
      "execution_count": 82,
      "metadata": {
        "id": "rYhrwdeWcFtz",
        "colab": {
          "base_uri": "https://localhost:8080/"
        },
        "outputId": "fa2956a3-06f2-4bc5-87ab-02ac881215a6"
      },
      "outputs": [
        {
          "output_type": "stream",
          "name": "stdout",
          "text": [
            "There are a few things you can do to get started in the tech field as a software developer. First, you need to have a strong foundation in computer science. This includes knowledge of data structures, algorithms, and operating systems. You can learn these concepts by taking courses at a university or online.\n",
            "\n",
            "Once you have a strong foundation in computer science, you need to start building your skills as a software developer. You can do this by working on personal projects, contributing to open source projects, or interning at a tech company.\n",
            "\n",
            "It is also important to keep up with the latest trends in the tech industry. You can\n"
          ]
        }
      ],
      "source": [
        "\n",
        "query = \"Do you have any advice for getting started in the tech field as a software dev?\"\n",
        "response = rag(query, PROMPT, verbose=False)\n",
        "\n",
        "print(response)\n",
        "\n",
        "add_message(query, response)"
      ]
    },
    {
      "cell_type": "code",
      "execution_count": 83,
      "metadata": {
        "colab": {
          "base_uri": "https://localhost:8080/"
        },
        "id": "VGS8YktgcFwg",
        "outputId": "6420d234-b2eb-49ae-9ca4-d2e7c0bec478"
      },
      "outputs": [
        {
          "output_type": "stream",
          "name": "stdout",
          "text": [
            "If you are still in college, you may want to consider staying in a hostel. Hostels are typically more affordable than hotels, and they are a great way to meet other travelers. However, it is important to do your research before booking a hostel, as some hostels are better than others.\n"
          ]
        }
      ],
      "source": [
        "query = \"What if I am still in college, any tips there?\"\n",
        "response = rag(query, PROMPT, verbose=False)\n",
        "\n",
        "print(response)\n",
        "\n",
        "add_message(query, response)"
      ]
    },
    {
      "cell_type": "code",
      "execution_count": 84,
      "metadata": {
        "colab": {
          "base_uri": "https://localhost:8080/"
        },
        "id": "BaHZR5htgwTZ",
        "outputId": "94a61399-ffd8-495d-898a-66a5d66d94d3"
      },
      "outputs": [
        {
          "output_type": "execute_result",
          "data": {
            "text/plain": [
              "[{'prompt': 'What if I am still in college, any tips there?',\n",
              "  'response': 'If you are still in college, you may want to consider staying in a hostel. Hostels are typically more affordable than hotels, and they are a great way to meet other travelers. However, it is important to do your research before booking a hostel, as some hostels are better than others.'},\n",
              " {'prompt': 'Do you have any advice for getting started in the tech field as a software dev?',\n",
              "  'response': 'There are a few things you can do to get started in the tech field as a software developer. First, you need to have a strong foundation in computer science. This includes knowledge of data structures, algorithms, and operating systems. You can learn these concepts by taking courses at a university or online.\\n\\nOnce you have a strong foundation in computer science, you need to start building your skills as a software developer. You can do this by working on personal projects, contributing to open source projects, or interning at a tech company.\\n\\nIt is also important to keep up with the latest trends in the tech industry. You can'}]"
            ]
          },
          "metadata": {},
          "execution_count": 84
        }
      ],
      "source": [
        "get_messages()"
      ]
    },
    {
      "cell_type": "markdown",
      "metadata": {
        "id": "27gJ9J4Gg6R9"
      },
      "source": [
        "# Clean up"
      ]
    },
    {
      "cell_type": "code",
      "execution_count": null,
      "metadata": {
        "id": "IEFG_p2wibLm"
      },
      "outputs": [],
      "source": [
        "# Clean up bigquery\n",
        "bq.delete_table(TABLE_ID, not_found_ok=True)\n",
        "\n",
        "bq.delete_dataset(\n",
        "    DATASET_ID, delete_contents=True, not_found_ok=True\n",
        ")\n"
      ]
    },
    {
      "cell_type": "code",
      "execution_count": null,
      "metadata": {
        "colab": {
          "base_uri": "https://localhost:8080/"
        },
        "id": "MZ7MxqmViQTF",
        "outputId": "c1dc6d5e-88d0-4d6e-b70a-e9379f9c85f2"
      },
      "outputs": [
        {
          "output_type": "stream",
          "name": "stdout",
          "text": [
            "/bin/bash: line 1: redis-stack-server: command not found\n"
          ]
        }
      ],
      "source": [
        "# Clean up redis\n",
        "!redis-stack-server stop"
      ]
    }
  ],
  "metadata": {
    "colab": {
      "provenance": [],
      "include_colab_link": true
    },
    "kernelspec": {
      "display_name": "Python 3",
      "name": "python3"
    },
    "language_info": {
      "name": "python"
    },
    "widgets": {
      "application/vnd.jupyter.widget-state+json": {
        "c9e50aa3ef2e4246a1fa3406cf7546d0": {
          "model_module": "@jupyter-widgets/controls",
          "model_name": "HBoxModel",
          "model_module_version": "1.5.0",
          "state": {
            "_dom_classes": [],
            "_model_module": "@jupyter-widgets/controls",
            "_model_module_version": "1.5.0",
            "_model_name": "HBoxModel",
            "_view_count": null,
            "_view_module": "@jupyter-widgets/controls",
            "_view_module_version": "1.5.0",
            "_view_name": "HBoxView",
            "box_style": "",
            "children": [
              "IPY_MODEL_fdff8a81868a4c37a69e3b000802eb9c",
              "IPY_MODEL_819d589065624ea39fc2e49940a5298c",
              "IPY_MODEL_e1cd3241e4a7498fa0efa3d117e50c9d"
            ],
            "layout": "IPY_MODEL_9c16b6834e5d46dc89c4f2d4c29bbfa4"
          }
        },
        "fdff8a81868a4c37a69e3b000802eb9c": {
          "model_module": "@jupyter-widgets/controls",
          "model_name": "HTMLModel",
          "model_module_version": "1.5.0",
          "state": {
            "_dom_classes": [],
            "_model_module": "@jupyter-widgets/controls",
            "_model_module_version": "1.5.0",
            "_model_name": "HTMLModel",
            "_view_count": null,
            "_view_module": "@jupyter-widgets/controls",
            "_view_module_version": "1.5.0",
            "_view_name": "HTMLView",
            "description": "",
            "description_tooltip": null,
            "layout": "IPY_MODEL_c1220bcd9e3a4bc3a98f175228d34258",
            "placeholder": "​",
            "style": "IPY_MODEL_341653366f0841a98e60f3b49a05e351",
            "value": ""
          }
        },
        "819d589065624ea39fc2e49940a5298c": {
          "model_module": "@jupyter-widgets/controls",
          "model_name": "FloatProgressModel",
          "model_module_version": "1.5.0",
          "state": {
            "_dom_classes": [],
            "_model_module": "@jupyter-widgets/controls",
            "_model_module_version": "1.5.0",
            "_model_name": "FloatProgressModel",
            "_view_count": null,
            "_view_module": "@jupyter-widgets/controls",
            "_view_module_version": "1.5.0",
            "_view_name": "ProgressView",
            "bar_style": "success",
            "description": "",
            "description_tooltip": null,
            "layout": "IPY_MODEL_8b6f08eba38c4af087879a826b34c9bd",
            "max": 1,
            "min": 0,
            "orientation": "horizontal",
            "style": "IPY_MODEL_c677ab207ed9435ca8f3c8dbd394b885",
            "value": 1
          }
        },
        "e1cd3241e4a7498fa0efa3d117e50c9d": {
          "model_module": "@jupyter-widgets/controls",
          "model_name": "HTMLModel",
          "model_module_version": "1.5.0",
          "state": {
            "_dom_classes": [],
            "_model_module": "@jupyter-widgets/controls",
            "_model_module_version": "1.5.0",
            "_model_name": "HTMLModel",
            "_view_count": null,
            "_view_module": "@jupyter-widgets/controls",
            "_view_module_version": "1.5.0",
            "_view_name": "HTMLView",
            "description": "",
            "description_tooltip": null,
            "layout": "IPY_MODEL_20563140ce8a4d8d944d9cdd6cefc6b4",
            "placeholder": "​",
            "style": "IPY_MODEL_8bc0e174a38f4fddacaacabc7101db92",
            "value": " 10/? [00:59&lt;00:00,  5.69s/it]"
          }
        },
        "9c16b6834e5d46dc89c4f2d4c29bbfa4": {
          "model_module": "@jupyter-widgets/base",
          "model_name": "LayoutModel",
          "model_module_version": "1.2.0",
          "state": {
            "_model_module": "@jupyter-widgets/base",
            "_model_module_version": "1.2.0",
            "_model_name": "LayoutModel",
            "_view_count": null,
            "_view_module": "@jupyter-widgets/base",
            "_view_module_version": "1.2.0",
            "_view_name": "LayoutView",
            "align_content": null,
            "align_items": null,
            "align_self": null,
            "border": null,
            "bottom": null,
            "display": null,
            "flex": null,
            "flex_flow": null,
            "grid_area": null,
            "grid_auto_columns": null,
            "grid_auto_flow": null,
            "grid_auto_rows": null,
            "grid_column": null,
            "grid_gap": null,
            "grid_row": null,
            "grid_template_areas": null,
            "grid_template_columns": null,
            "grid_template_rows": null,
            "height": null,
            "justify_content": null,
            "justify_items": null,
            "left": null,
            "margin": null,
            "max_height": null,
            "max_width": null,
            "min_height": null,
            "min_width": null,
            "object_fit": null,
            "object_position": null,
            "order": null,
            "overflow": null,
            "overflow_x": null,
            "overflow_y": null,
            "padding": null,
            "right": null,
            "top": null,
            "visibility": null,
            "width": null
          }
        },
        "c1220bcd9e3a4bc3a98f175228d34258": {
          "model_module": "@jupyter-widgets/base",
          "model_name": "LayoutModel",
          "model_module_version": "1.2.0",
          "state": {
            "_model_module": "@jupyter-widgets/base",
            "_model_module_version": "1.2.0",
            "_model_name": "LayoutModel",
            "_view_count": null,
            "_view_module": "@jupyter-widgets/base",
            "_view_module_version": "1.2.0",
            "_view_name": "LayoutView",
            "align_content": null,
            "align_items": null,
            "align_self": null,
            "border": null,
            "bottom": null,
            "display": null,
            "flex": null,
            "flex_flow": null,
            "grid_area": null,
            "grid_auto_columns": null,
            "grid_auto_flow": null,
            "grid_auto_rows": null,
            "grid_column": null,
            "grid_gap": null,
            "grid_row": null,
            "grid_template_areas": null,
            "grid_template_columns": null,
            "grid_template_rows": null,
            "height": null,
            "justify_content": null,
            "justify_items": null,
            "left": null,
            "margin": null,
            "max_height": null,
            "max_width": null,
            "min_height": null,
            "min_width": null,
            "object_fit": null,
            "object_position": null,
            "order": null,
            "overflow": null,
            "overflow_x": null,
            "overflow_y": null,
            "padding": null,
            "right": null,
            "top": null,
            "visibility": null,
            "width": null
          }
        },
        "341653366f0841a98e60f3b49a05e351": {
          "model_module": "@jupyter-widgets/controls",
          "model_name": "DescriptionStyleModel",
          "model_module_version": "1.5.0",
          "state": {
            "_model_module": "@jupyter-widgets/controls",
            "_model_module_version": "1.5.0",
            "_model_name": "DescriptionStyleModel",
            "_view_count": null,
            "_view_module": "@jupyter-widgets/base",
            "_view_module_version": "1.2.0",
            "_view_name": "StyleView",
            "description_width": ""
          }
        },
        "8b6f08eba38c4af087879a826b34c9bd": {
          "model_module": "@jupyter-widgets/base",
          "model_name": "LayoutModel",
          "model_module_version": "1.2.0",
          "state": {
            "_model_module": "@jupyter-widgets/base",
            "_model_module_version": "1.2.0",
            "_model_name": "LayoutModel",
            "_view_count": null,
            "_view_module": "@jupyter-widgets/base",
            "_view_module_version": "1.2.0",
            "_view_name": "LayoutView",
            "align_content": null,
            "align_items": null,
            "align_self": null,
            "border": null,
            "bottom": null,
            "display": null,
            "flex": null,
            "flex_flow": null,
            "grid_area": null,
            "grid_auto_columns": null,
            "grid_auto_flow": null,
            "grid_auto_rows": null,
            "grid_column": null,
            "grid_gap": null,
            "grid_row": null,
            "grid_template_areas": null,
            "grid_template_columns": null,
            "grid_template_rows": null,
            "height": null,
            "justify_content": null,
            "justify_items": null,
            "left": null,
            "margin": null,
            "max_height": null,
            "max_width": null,
            "min_height": null,
            "min_width": null,
            "object_fit": null,
            "object_position": null,
            "order": null,
            "overflow": null,
            "overflow_x": null,
            "overflow_y": null,
            "padding": null,
            "right": null,
            "top": null,
            "visibility": null,
            "width": "20px"
          }
        },
        "c677ab207ed9435ca8f3c8dbd394b885": {
          "model_module": "@jupyter-widgets/controls",
          "model_name": "ProgressStyleModel",
          "model_module_version": "1.5.0",
          "state": {
            "_model_module": "@jupyter-widgets/controls",
            "_model_module_version": "1.5.0",
            "_model_name": "ProgressStyleModel",
            "_view_count": null,
            "_view_module": "@jupyter-widgets/base",
            "_view_module_version": "1.2.0",
            "_view_name": "StyleView",
            "bar_color": null,
            "description_width": ""
          }
        },
        "20563140ce8a4d8d944d9cdd6cefc6b4": {
          "model_module": "@jupyter-widgets/base",
          "model_name": "LayoutModel",
          "model_module_version": "1.2.0",
          "state": {
            "_model_module": "@jupyter-widgets/base",
            "_model_module_version": "1.2.0",
            "_model_name": "LayoutModel",
            "_view_count": null,
            "_view_module": "@jupyter-widgets/base",
            "_view_module_version": "1.2.0",
            "_view_name": "LayoutView",
            "align_content": null,
            "align_items": null,
            "align_self": null,
            "border": null,
            "bottom": null,
            "display": null,
            "flex": null,
            "flex_flow": null,
            "grid_area": null,
            "grid_auto_columns": null,
            "grid_auto_flow": null,
            "grid_auto_rows": null,
            "grid_column": null,
            "grid_gap": null,
            "grid_row": null,
            "grid_template_areas": null,
            "grid_template_columns": null,
            "grid_template_rows": null,
            "height": null,
            "justify_content": null,
            "justify_items": null,
            "left": null,
            "margin": null,
            "max_height": null,
            "max_width": null,
            "min_height": null,
            "min_width": null,
            "object_fit": null,
            "object_position": null,
            "order": null,
            "overflow": null,
            "overflow_x": null,
            "overflow_y": null,
            "padding": null,
            "right": null,
            "top": null,
            "visibility": null,
            "width": null
          }
        },
        "8bc0e174a38f4fddacaacabc7101db92": {
          "model_module": "@jupyter-widgets/controls",
          "model_name": "DescriptionStyleModel",
          "model_module_version": "1.5.0",
          "state": {
            "_model_module": "@jupyter-widgets/controls",
            "_model_module_version": "1.5.0",
            "_model_name": "DescriptionStyleModel",
            "_view_count": null,
            "_view_module": "@jupyter-widgets/base",
            "_view_module_version": "1.2.0",
            "_view_name": "StyleView",
            "description_width": ""
          }
        },
        "bf19be9557714c138c52f2d051f80316": {
          "model_module": "@jupyter-widgets/controls",
          "model_name": "HBoxModel",
          "model_module_version": "1.5.0",
          "state": {
            "_dom_classes": [],
            "_model_module": "@jupyter-widgets/controls",
            "_model_module_version": "1.5.0",
            "_model_name": "HBoxModel",
            "_view_count": null,
            "_view_module": "@jupyter-widgets/controls",
            "_view_module_version": "1.5.0",
            "_view_name": "HBoxView",
            "box_style": "",
            "children": [
              "IPY_MODEL_7a8dc41371fb496c92801d51b6c3d616",
              "IPY_MODEL_e9dd7663aeec47939ed31965340351c8",
              "IPY_MODEL_21516d9764394900afb33a3000999c6f"
            ],
            "layout": "IPY_MODEL_77b4c60c76594c91a39b8e78758ca8cf"
          }
        },
        "7a8dc41371fb496c92801d51b6c3d616": {
          "model_module": "@jupyter-widgets/controls",
          "model_name": "HTMLModel",
          "model_module_version": "1.5.0",
          "state": {
            "_dom_classes": [],
            "_model_module": "@jupyter-widgets/controls",
            "_model_module_version": "1.5.0",
            "_model_name": "HTMLModel",
            "_view_count": null,
            "_view_module": "@jupyter-widgets/controls",
            "_view_module_version": "1.5.0",
            "_view_name": "HTMLView",
            "description": "",
            "description_tooltip": null,
            "layout": "IPY_MODEL_5bbd28141f7f4472a3cc8de633c0c9a2",
            "placeholder": "​",
            "style": "IPY_MODEL_c41d1f2acc4c45bfaf4b6e1de7620231",
            "value": "100%"
          }
        },
        "e9dd7663aeec47939ed31965340351c8": {
          "model_module": "@jupyter-widgets/controls",
          "model_name": "FloatProgressModel",
          "model_module_version": "1.5.0",
          "state": {
            "_dom_classes": [],
            "_model_module": "@jupyter-widgets/controls",
            "_model_module_version": "1.5.0",
            "_model_name": "FloatProgressModel",
            "_view_count": null,
            "_view_module": "@jupyter-widgets/controls",
            "_view_module_version": "1.5.0",
            "_view_name": "ProgressView",
            "bar_style": "success",
            "description": "",
            "description_tooltip": null,
            "layout": "IPY_MODEL_6a117464973449f789f6291ebc8f2c6b",
            "max": 100,
            "min": 0,
            "orientation": "horizontal",
            "style": "IPY_MODEL_b020a648885c428b979c56c4b7f70255",
            "value": 100
          }
        },
        "21516d9764394900afb33a3000999c6f": {
          "model_module": "@jupyter-widgets/controls",
          "model_name": "HTMLModel",
          "model_module_version": "1.5.0",
          "state": {
            "_dom_classes": [],
            "_model_module": "@jupyter-widgets/controls",
            "_model_module_version": "1.5.0",
            "_model_name": "HTMLModel",
            "_view_count": null,
            "_view_module": "@jupyter-widgets/controls",
            "_view_module_version": "1.5.0",
            "_view_name": "HTMLView",
            "description": "",
            "description_tooltip": null,
            "layout": "IPY_MODEL_08603252d33c4b6994bc313bb2e79b29",
            "placeholder": "​",
            "style": "IPY_MODEL_4d5a6090fa284b0ca4499ed07f961411",
            "value": " 100/100 [00:00&lt;00:00, 2726.09it/s]"
          }
        },
        "77b4c60c76594c91a39b8e78758ca8cf": {
          "model_module": "@jupyter-widgets/base",
          "model_name": "LayoutModel",
          "model_module_version": "1.2.0",
          "state": {
            "_model_module": "@jupyter-widgets/base",
            "_model_module_version": "1.2.0",
            "_model_name": "LayoutModel",
            "_view_count": null,
            "_view_module": "@jupyter-widgets/base",
            "_view_module_version": "1.2.0",
            "_view_name": "LayoutView",
            "align_content": null,
            "align_items": null,
            "align_self": null,
            "border": null,
            "bottom": null,
            "display": null,
            "flex": null,
            "flex_flow": null,
            "grid_area": null,
            "grid_auto_columns": null,
            "grid_auto_flow": null,
            "grid_auto_rows": null,
            "grid_column": null,
            "grid_gap": null,
            "grid_row": null,
            "grid_template_areas": null,
            "grid_template_columns": null,
            "grid_template_rows": null,
            "height": null,
            "justify_content": null,
            "justify_items": null,
            "left": null,
            "margin": null,
            "max_height": null,
            "max_width": null,
            "min_height": null,
            "min_width": null,
            "object_fit": null,
            "object_position": null,
            "order": null,
            "overflow": null,
            "overflow_x": null,
            "overflow_y": null,
            "padding": null,
            "right": null,
            "top": null,
            "visibility": null,
            "width": null
          }
        },
        "5bbd28141f7f4472a3cc8de633c0c9a2": {
          "model_module": "@jupyter-widgets/base",
          "model_name": "LayoutModel",
          "model_module_version": "1.2.0",
          "state": {
            "_model_module": "@jupyter-widgets/base",
            "_model_module_version": "1.2.0",
            "_model_name": "LayoutModel",
            "_view_count": null,
            "_view_module": "@jupyter-widgets/base",
            "_view_module_version": "1.2.0",
            "_view_name": "LayoutView",
            "align_content": null,
            "align_items": null,
            "align_self": null,
            "border": null,
            "bottom": null,
            "display": null,
            "flex": null,
            "flex_flow": null,
            "grid_area": null,
            "grid_auto_columns": null,
            "grid_auto_flow": null,
            "grid_auto_rows": null,
            "grid_column": null,
            "grid_gap": null,
            "grid_row": null,
            "grid_template_areas": null,
            "grid_template_columns": null,
            "grid_template_rows": null,
            "height": null,
            "justify_content": null,
            "justify_items": null,
            "left": null,
            "margin": null,
            "max_height": null,
            "max_width": null,
            "min_height": null,
            "min_width": null,
            "object_fit": null,
            "object_position": null,
            "order": null,
            "overflow": null,
            "overflow_x": null,
            "overflow_y": null,
            "padding": null,
            "right": null,
            "top": null,
            "visibility": null,
            "width": null
          }
        },
        "c41d1f2acc4c45bfaf4b6e1de7620231": {
          "model_module": "@jupyter-widgets/controls",
          "model_name": "DescriptionStyleModel",
          "model_module_version": "1.5.0",
          "state": {
            "_model_module": "@jupyter-widgets/controls",
            "_model_module_version": "1.5.0",
            "_model_name": "DescriptionStyleModel",
            "_view_count": null,
            "_view_module": "@jupyter-widgets/base",
            "_view_module_version": "1.2.0",
            "_view_name": "StyleView",
            "description_width": ""
          }
        },
        "6a117464973449f789f6291ebc8f2c6b": {
          "model_module": "@jupyter-widgets/base",
          "model_name": "LayoutModel",
          "model_module_version": "1.2.0",
          "state": {
            "_model_module": "@jupyter-widgets/base",
            "_model_module_version": "1.2.0",
            "_model_name": "LayoutModel",
            "_view_count": null,
            "_view_module": "@jupyter-widgets/base",
            "_view_module_version": "1.2.0",
            "_view_name": "LayoutView",
            "align_content": null,
            "align_items": null,
            "align_self": null,
            "border": null,
            "bottom": null,
            "display": null,
            "flex": null,
            "flex_flow": null,
            "grid_area": null,
            "grid_auto_columns": null,
            "grid_auto_flow": null,
            "grid_auto_rows": null,
            "grid_column": null,
            "grid_gap": null,
            "grid_row": null,
            "grid_template_areas": null,
            "grid_template_columns": null,
            "grid_template_rows": null,
            "height": null,
            "justify_content": null,
            "justify_items": null,
            "left": null,
            "margin": null,
            "max_height": null,
            "max_width": null,
            "min_height": null,
            "min_width": null,
            "object_fit": null,
            "object_position": null,
            "order": null,
            "overflow": null,
            "overflow_x": null,
            "overflow_y": null,
            "padding": null,
            "right": null,
            "top": null,
            "visibility": null,
            "width": null
          }
        },
        "b020a648885c428b979c56c4b7f70255": {
          "model_module": "@jupyter-widgets/controls",
          "model_name": "ProgressStyleModel",
          "model_module_version": "1.5.0",
          "state": {
            "_model_module": "@jupyter-widgets/controls",
            "_model_module_version": "1.5.0",
            "_model_name": "ProgressStyleModel",
            "_view_count": null,
            "_view_module": "@jupyter-widgets/base",
            "_view_module_version": "1.2.0",
            "_view_name": "StyleView",
            "bar_color": null,
            "description_width": ""
          }
        },
        "08603252d33c4b6994bc313bb2e79b29": {
          "model_module": "@jupyter-widgets/base",
          "model_name": "LayoutModel",
          "model_module_version": "1.2.0",
          "state": {
            "_model_module": "@jupyter-widgets/base",
            "_model_module_version": "1.2.0",
            "_model_name": "LayoutModel",
            "_view_count": null,
            "_view_module": "@jupyter-widgets/base",
            "_view_module_version": "1.2.0",
            "_view_name": "LayoutView",
            "align_content": null,
            "align_items": null,
            "align_self": null,
            "border": null,
            "bottom": null,
            "display": null,
            "flex": null,
            "flex_flow": null,
            "grid_area": null,
            "grid_auto_columns": null,
            "grid_auto_flow": null,
            "grid_auto_rows": null,
            "grid_column": null,
            "grid_gap": null,
            "grid_row": null,
            "grid_template_areas": null,
            "grid_template_columns": null,
            "grid_template_rows": null,
            "height": null,
            "justify_content": null,
            "justify_items": null,
            "left": null,
            "margin": null,
            "max_height": null,
            "max_width": null,
            "min_height": null,
            "min_width": null,
            "object_fit": null,
            "object_position": null,
            "order": null,
            "overflow": null,
            "overflow_x": null,
            "overflow_y": null,
            "padding": null,
            "right": null,
            "top": null,
            "visibility": null,
            "width": null
          }
        },
        "4d5a6090fa284b0ca4499ed07f961411": {
          "model_module": "@jupyter-widgets/controls",
          "model_name": "DescriptionStyleModel",
          "model_module_version": "1.5.0",
          "state": {
            "_model_module": "@jupyter-widgets/controls",
            "_model_module_version": "1.5.0",
            "_model_name": "DescriptionStyleModel",
            "_view_count": null,
            "_view_module": "@jupyter-widgets/base",
            "_view_module_version": "1.2.0",
            "_view_name": "StyleView",
            "description_width": ""
          }
        },
        "8c59beea406e470ba6cec822830c64e2": {
          "model_module": "@jupyter-widgets/controls",
          "model_name": "HBoxModel",
          "model_module_version": "1.5.0",
          "state": {
            "_dom_classes": [],
            "_model_module": "@jupyter-widgets/controls",
            "_model_module_version": "1.5.0",
            "_model_name": "HBoxModel",
            "_view_count": null,
            "_view_module": "@jupyter-widgets/controls",
            "_view_module_version": "1.5.0",
            "_view_name": "HBoxView",
            "box_style": "",
            "children": [
              "IPY_MODEL_a545b72993014947b66e6133d9555316",
              "IPY_MODEL_f1da0ec3a17444e58e71f18772b3f84a",
              "IPY_MODEL_93393e76e89b4a5493c9e8a7610113b7"
            ],
            "layout": "IPY_MODEL_fe048382ea924fcdb4afedb61b235bdf"
          }
        },
        "a545b72993014947b66e6133d9555316": {
          "model_module": "@jupyter-widgets/controls",
          "model_name": "HTMLModel",
          "model_module_version": "1.5.0",
          "state": {
            "_dom_classes": [],
            "_model_module": "@jupyter-widgets/controls",
            "_model_module_version": "1.5.0",
            "_model_name": "HTMLModel",
            "_view_count": null,
            "_view_module": "@jupyter-widgets/controls",
            "_view_module_version": "1.5.0",
            "_view_name": "HTMLView",
            "description": "",
            "description_tooltip": null,
            "layout": "IPY_MODEL_cd2dd8b3d3ed4e74bc1e9b5ae7a3d1fc",
            "placeholder": "​",
            "style": "IPY_MODEL_94664ebe383942ec9fa748930d8fe17d",
            "value": "100%"
          }
        },
        "f1da0ec3a17444e58e71f18772b3f84a": {
          "model_module": "@jupyter-widgets/controls",
          "model_name": "FloatProgressModel",
          "model_module_version": "1.5.0",
          "state": {
            "_dom_classes": [],
            "_model_module": "@jupyter-widgets/controls",
            "_model_module_version": "1.5.0",
            "_model_name": "FloatProgressModel",
            "_view_count": null,
            "_view_module": "@jupyter-widgets/controls",
            "_view_module_version": "1.5.0",
            "_view_name": "ProgressView",
            "bar_style": "success",
            "description": "",
            "description_tooltip": null,
            "layout": "IPY_MODEL_050ab8b90268438faf92ce462a10fbbc",
            "max": 100,
            "min": 0,
            "orientation": "horizontal",
            "style": "IPY_MODEL_fe2dd6d7798e420b9d2f579a75198918",
            "value": 100
          }
        },
        "93393e76e89b4a5493c9e8a7610113b7": {
          "model_module": "@jupyter-widgets/controls",
          "model_name": "HTMLModel",
          "model_module_version": "1.5.0",
          "state": {
            "_dom_classes": [],
            "_model_module": "@jupyter-widgets/controls",
            "_model_module_version": "1.5.0",
            "_model_name": "HTMLModel",
            "_view_count": null,
            "_view_module": "@jupyter-widgets/controls",
            "_view_module_version": "1.5.0",
            "_view_name": "HTMLView",
            "description": "",
            "description_tooltip": null,
            "layout": "IPY_MODEL_9c9b7baff2d044f687f8e921e1bdb38a",
            "placeholder": "​",
            "style": "IPY_MODEL_7ac428a4af754464afb43ab8d8a14f80",
            "value": " 100/100 [00:00&lt;00:00, 4880.79it/s]"
          }
        },
        "fe048382ea924fcdb4afedb61b235bdf": {
          "model_module": "@jupyter-widgets/base",
          "model_name": "LayoutModel",
          "model_module_version": "1.2.0",
          "state": {
            "_model_module": "@jupyter-widgets/base",
            "_model_module_version": "1.2.0",
            "_model_name": "LayoutModel",
            "_view_count": null,
            "_view_module": "@jupyter-widgets/base",
            "_view_module_version": "1.2.0",
            "_view_name": "LayoutView",
            "align_content": null,
            "align_items": null,
            "align_self": null,
            "border": null,
            "bottom": null,
            "display": null,
            "flex": null,
            "flex_flow": null,
            "grid_area": null,
            "grid_auto_columns": null,
            "grid_auto_flow": null,
            "grid_auto_rows": null,
            "grid_column": null,
            "grid_gap": null,
            "grid_row": null,
            "grid_template_areas": null,
            "grid_template_columns": null,
            "grid_template_rows": null,
            "height": null,
            "justify_content": null,
            "justify_items": null,
            "left": null,
            "margin": null,
            "max_height": null,
            "max_width": null,
            "min_height": null,
            "min_width": null,
            "object_fit": null,
            "object_position": null,
            "order": null,
            "overflow": null,
            "overflow_x": null,
            "overflow_y": null,
            "padding": null,
            "right": null,
            "top": null,
            "visibility": null,
            "width": null
          }
        },
        "cd2dd8b3d3ed4e74bc1e9b5ae7a3d1fc": {
          "model_module": "@jupyter-widgets/base",
          "model_name": "LayoutModel",
          "model_module_version": "1.2.0",
          "state": {
            "_model_module": "@jupyter-widgets/base",
            "_model_module_version": "1.2.0",
            "_model_name": "LayoutModel",
            "_view_count": null,
            "_view_module": "@jupyter-widgets/base",
            "_view_module_version": "1.2.0",
            "_view_name": "LayoutView",
            "align_content": null,
            "align_items": null,
            "align_self": null,
            "border": null,
            "bottom": null,
            "display": null,
            "flex": null,
            "flex_flow": null,
            "grid_area": null,
            "grid_auto_columns": null,
            "grid_auto_flow": null,
            "grid_auto_rows": null,
            "grid_column": null,
            "grid_gap": null,
            "grid_row": null,
            "grid_template_areas": null,
            "grid_template_columns": null,
            "grid_template_rows": null,
            "height": null,
            "justify_content": null,
            "justify_items": null,
            "left": null,
            "margin": null,
            "max_height": null,
            "max_width": null,
            "min_height": null,
            "min_width": null,
            "object_fit": null,
            "object_position": null,
            "order": null,
            "overflow": null,
            "overflow_x": null,
            "overflow_y": null,
            "padding": null,
            "right": null,
            "top": null,
            "visibility": null,
            "width": null
          }
        },
        "94664ebe383942ec9fa748930d8fe17d": {
          "model_module": "@jupyter-widgets/controls",
          "model_name": "DescriptionStyleModel",
          "model_module_version": "1.5.0",
          "state": {
            "_model_module": "@jupyter-widgets/controls",
            "_model_module_version": "1.5.0",
            "_model_name": "DescriptionStyleModel",
            "_view_count": null,
            "_view_module": "@jupyter-widgets/base",
            "_view_module_version": "1.2.0",
            "_view_name": "StyleView",
            "description_width": ""
          }
        },
        "050ab8b90268438faf92ce462a10fbbc": {
          "model_module": "@jupyter-widgets/base",
          "model_name": "LayoutModel",
          "model_module_version": "1.2.0",
          "state": {
            "_model_module": "@jupyter-widgets/base",
            "_model_module_version": "1.2.0",
            "_model_name": "LayoutModel",
            "_view_count": null,
            "_view_module": "@jupyter-widgets/base",
            "_view_module_version": "1.2.0",
            "_view_name": "LayoutView",
            "align_content": null,
            "align_items": null,
            "align_self": null,
            "border": null,
            "bottom": null,
            "display": null,
            "flex": null,
            "flex_flow": null,
            "grid_area": null,
            "grid_auto_columns": null,
            "grid_auto_flow": null,
            "grid_auto_rows": null,
            "grid_column": null,
            "grid_gap": null,
            "grid_row": null,
            "grid_template_areas": null,
            "grid_template_columns": null,
            "grid_template_rows": null,
            "height": null,
            "justify_content": null,
            "justify_items": null,
            "left": null,
            "margin": null,
            "max_height": null,
            "max_width": null,
            "min_height": null,
            "min_width": null,
            "object_fit": null,
            "object_position": null,
            "order": null,
            "overflow": null,
            "overflow_x": null,
            "overflow_y": null,
            "padding": null,
            "right": null,
            "top": null,
            "visibility": null,
            "width": null
          }
        },
        "fe2dd6d7798e420b9d2f579a75198918": {
          "model_module": "@jupyter-widgets/controls",
          "model_name": "ProgressStyleModel",
          "model_module_version": "1.5.0",
          "state": {
            "_model_module": "@jupyter-widgets/controls",
            "_model_module_version": "1.5.0",
            "_model_name": "ProgressStyleModel",
            "_view_count": null,
            "_view_module": "@jupyter-widgets/base",
            "_view_module_version": "1.2.0",
            "_view_name": "StyleView",
            "bar_color": null,
            "description_width": ""
          }
        },
        "9c9b7baff2d044f687f8e921e1bdb38a": {
          "model_module": "@jupyter-widgets/base",
          "model_name": "LayoutModel",
          "model_module_version": "1.2.0",
          "state": {
            "_model_module": "@jupyter-widgets/base",
            "_model_module_version": "1.2.0",
            "_model_name": "LayoutModel",
            "_view_count": null,
            "_view_module": "@jupyter-widgets/base",
            "_view_module_version": "1.2.0",
            "_view_name": "LayoutView",
            "align_content": null,
            "align_items": null,
            "align_self": null,
            "border": null,
            "bottom": null,
            "display": null,
            "flex": null,
            "flex_flow": null,
            "grid_area": null,
            "grid_auto_columns": null,
            "grid_auto_flow": null,
            "grid_auto_rows": null,
            "grid_column": null,
            "grid_gap": null,
            "grid_row": null,
            "grid_template_areas": null,
            "grid_template_columns": null,
            "grid_template_rows": null,
            "height": null,
            "justify_content": null,
            "justify_items": null,
            "left": null,
            "margin": null,
            "max_height": null,
            "max_width": null,
            "min_height": null,
            "min_width": null,
            "object_fit": null,
            "object_position": null,
            "order": null,
            "overflow": null,
            "overflow_x": null,
            "overflow_y": null,
            "padding": null,
            "right": null,
            "top": null,
            "visibility": null,
            "width": null
          }
        },
        "7ac428a4af754464afb43ab8d8a14f80": {
          "model_module": "@jupyter-widgets/controls",
          "model_name": "DescriptionStyleModel",
          "model_module_version": "1.5.0",
          "state": {
            "_model_module": "@jupyter-widgets/controls",
            "_model_module_version": "1.5.0",
            "_model_name": "DescriptionStyleModel",
            "_view_count": null,
            "_view_module": "@jupyter-widgets/base",
            "_view_module_version": "1.2.0",
            "_view_name": "StyleView",
            "description_width": ""
          }
        },
        "aa3aafaeedba4473812734dec4b630a2": {
          "model_module": "@jupyter-widgets/controls",
          "model_name": "HBoxModel",
          "model_module_version": "1.5.0",
          "state": {
            "_dom_classes": [],
            "_model_module": "@jupyter-widgets/controls",
            "_model_module_version": "1.5.0",
            "_model_name": "HBoxModel",
            "_view_count": null,
            "_view_module": "@jupyter-widgets/controls",
            "_view_module_version": "1.5.0",
            "_view_name": "HBoxView",
            "box_style": "",
            "children": [
              "IPY_MODEL_ff65c1d572b64abeabe9398bff77ec2f",
              "IPY_MODEL_bda00dc55c854401bf372f0bd78c2d36",
              "IPY_MODEL_71ef61ddb89146079f2615b620ecc5c5"
            ],
            "layout": "IPY_MODEL_eebb1b1bf79d4cb9b543d58708efb048"
          }
        },
        "ff65c1d572b64abeabe9398bff77ec2f": {
          "model_module": "@jupyter-widgets/controls",
          "model_name": "HTMLModel",
          "model_module_version": "1.5.0",
          "state": {
            "_dom_classes": [],
            "_model_module": "@jupyter-widgets/controls",
            "_model_module_version": "1.5.0",
            "_model_name": "HTMLModel",
            "_view_count": null,
            "_view_module": "@jupyter-widgets/controls",
            "_view_module_version": "1.5.0",
            "_view_name": "HTMLView",
            "description": "",
            "description_tooltip": null,
            "layout": "IPY_MODEL_4f118d3dcc79445d9f48e361f7adfeec",
            "placeholder": "​",
            "style": "IPY_MODEL_9739c39a87914c34aef7b3cfd54ee822",
            "value": "100%"
          }
        },
        "bda00dc55c854401bf372f0bd78c2d36": {
          "model_module": "@jupyter-widgets/controls",
          "model_name": "FloatProgressModel",
          "model_module_version": "1.5.0",
          "state": {
            "_dom_classes": [],
            "_model_module": "@jupyter-widgets/controls",
            "_model_module_version": "1.5.0",
            "_model_name": "FloatProgressModel",
            "_view_count": null,
            "_view_module": "@jupyter-widgets/controls",
            "_view_module_version": "1.5.0",
            "_view_name": "ProgressView",
            "bar_style": "success",
            "description": "",
            "description_tooltip": null,
            "layout": "IPY_MODEL_c8fbfe5cb54b4c3c86288adaca4ff898",
            "max": 100,
            "min": 0,
            "orientation": "horizontal",
            "style": "IPY_MODEL_b40a3b0746f740419b01a0f99c587056",
            "value": 100
          }
        },
        "71ef61ddb89146079f2615b620ecc5c5": {
          "model_module": "@jupyter-widgets/controls",
          "model_name": "HTMLModel",
          "model_module_version": "1.5.0",
          "state": {
            "_dom_classes": [],
            "_model_module": "@jupyter-widgets/controls",
            "_model_module_version": "1.5.0",
            "_model_name": "HTMLModel",
            "_view_count": null,
            "_view_module": "@jupyter-widgets/controls",
            "_view_module_version": "1.5.0",
            "_view_name": "HTMLView",
            "description": "",
            "description_tooltip": null,
            "layout": "IPY_MODEL_36a08171d4d34fd1ac4b3419b4455768",
            "placeholder": "​",
            "style": "IPY_MODEL_9a8bf267472f4dfb8c11dbd7c97e6f67",
            "value": " 100/100 [00:00&lt;00:00, 2353.38it/s]"
          }
        },
        "eebb1b1bf79d4cb9b543d58708efb048": {
          "model_module": "@jupyter-widgets/base",
          "model_name": "LayoutModel",
          "model_module_version": "1.2.0",
          "state": {
            "_model_module": "@jupyter-widgets/base",
            "_model_module_version": "1.2.0",
            "_model_name": "LayoutModel",
            "_view_count": null,
            "_view_module": "@jupyter-widgets/base",
            "_view_module_version": "1.2.0",
            "_view_name": "LayoutView",
            "align_content": null,
            "align_items": null,
            "align_self": null,
            "border": null,
            "bottom": null,
            "display": null,
            "flex": null,
            "flex_flow": null,
            "grid_area": null,
            "grid_auto_columns": null,
            "grid_auto_flow": null,
            "grid_auto_rows": null,
            "grid_column": null,
            "grid_gap": null,
            "grid_row": null,
            "grid_template_areas": null,
            "grid_template_columns": null,
            "grid_template_rows": null,
            "height": null,
            "justify_content": null,
            "justify_items": null,
            "left": null,
            "margin": null,
            "max_height": null,
            "max_width": null,
            "min_height": null,
            "min_width": null,
            "object_fit": null,
            "object_position": null,
            "order": null,
            "overflow": null,
            "overflow_x": null,
            "overflow_y": null,
            "padding": null,
            "right": null,
            "top": null,
            "visibility": null,
            "width": null
          }
        },
        "4f118d3dcc79445d9f48e361f7adfeec": {
          "model_module": "@jupyter-widgets/base",
          "model_name": "LayoutModel",
          "model_module_version": "1.2.0",
          "state": {
            "_model_module": "@jupyter-widgets/base",
            "_model_module_version": "1.2.0",
            "_model_name": "LayoutModel",
            "_view_count": null,
            "_view_module": "@jupyter-widgets/base",
            "_view_module_version": "1.2.0",
            "_view_name": "LayoutView",
            "align_content": null,
            "align_items": null,
            "align_self": null,
            "border": null,
            "bottom": null,
            "display": null,
            "flex": null,
            "flex_flow": null,
            "grid_area": null,
            "grid_auto_columns": null,
            "grid_auto_flow": null,
            "grid_auto_rows": null,
            "grid_column": null,
            "grid_gap": null,
            "grid_row": null,
            "grid_template_areas": null,
            "grid_template_columns": null,
            "grid_template_rows": null,
            "height": null,
            "justify_content": null,
            "justify_items": null,
            "left": null,
            "margin": null,
            "max_height": null,
            "max_width": null,
            "min_height": null,
            "min_width": null,
            "object_fit": null,
            "object_position": null,
            "order": null,
            "overflow": null,
            "overflow_x": null,
            "overflow_y": null,
            "padding": null,
            "right": null,
            "top": null,
            "visibility": null,
            "width": null
          }
        },
        "9739c39a87914c34aef7b3cfd54ee822": {
          "model_module": "@jupyter-widgets/controls",
          "model_name": "DescriptionStyleModel",
          "model_module_version": "1.5.0",
          "state": {
            "_model_module": "@jupyter-widgets/controls",
            "_model_module_version": "1.5.0",
            "_model_name": "DescriptionStyleModel",
            "_view_count": null,
            "_view_module": "@jupyter-widgets/base",
            "_view_module_version": "1.2.0",
            "_view_name": "StyleView",
            "description_width": ""
          }
        },
        "c8fbfe5cb54b4c3c86288adaca4ff898": {
          "model_module": "@jupyter-widgets/base",
          "model_name": "LayoutModel",
          "model_module_version": "1.2.0",
          "state": {
            "_model_module": "@jupyter-widgets/base",
            "_model_module_version": "1.2.0",
            "_model_name": "LayoutModel",
            "_view_count": null,
            "_view_module": "@jupyter-widgets/base",
            "_view_module_version": "1.2.0",
            "_view_name": "LayoutView",
            "align_content": null,
            "align_items": null,
            "align_self": null,
            "border": null,
            "bottom": null,
            "display": null,
            "flex": null,
            "flex_flow": null,
            "grid_area": null,
            "grid_auto_columns": null,
            "grid_auto_flow": null,
            "grid_auto_rows": null,
            "grid_column": null,
            "grid_gap": null,
            "grid_row": null,
            "grid_template_areas": null,
            "grid_template_columns": null,
            "grid_template_rows": null,
            "height": null,
            "justify_content": null,
            "justify_items": null,
            "left": null,
            "margin": null,
            "max_height": null,
            "max_width": null,
            "min_height": null,
            "min_width": null,
            "object_fit": null,
            "object_position": null,
            "order": null,
            "overflow": null,
            "overflow_x": null,
            "overflow_y": null,
            "padding": null,
            "right": null,
            "top": null,
            "visibility": null,
            "width": null
          }
        },
        "b40a3b0746f740419b01a0f99c587056": {
          "model_module": "@jupyter-widgets/controls",
          "model_name": "ProgressStyleModel",
          "model_module_version": "1.5.0",
          "state": {
            "_model_module": "@jupyter-widgets/controls",
            "_model_module_version": "1.5.0",
            "_model_name": "ProgressStyleModel",
            "_view_count": null,
            "_view_module": "@jupyter-widgets/base",
            "_view_module_version": "1.2.0",
            "_view_name": "StyleView",
            "bar_color": null,
            "description_width": ""
          }
        },
        "36a08171d4d34fd1ac4b3419b4455768": {
          "model_module": "@jupyter-widgets/base",
          "model_name": "LayoutModel",
          "model_module_version": "1.2.0",
          "state": {
            "_model_module": "@jupyter-widgets/base",
            "_model_module_version": "1.2.0",
            "_model_name": "LayoutModel",
            "_view_count": null,
            "_view_module": "@jupyter-widgets/base",
            "_view_module_version": "1.2.0",
            "_view_name": "LayoutView",
            "align_content": null,
            "align_items": null,
            "align_self": null,
            "border": null,
            "bottom": null,
            "display": null,
            "flex": null,
            "flex_flow": null,
            "grid_area": null,
            "grid_auto_columns": null,
            "grid_auto_flow": null,
            "grid_auto_rows": null,
            "grid_column": null,
            "grid_gap": null,
            "grid_row": null,
            "grid_template_areas": null,
            "grid_template_columns": null,
            "grid_template_rows": null,
            "height": null,
            "justify_content": null,
            "justify_items": null,
            "left": null,
            "margin": null,
            "max_height": null,
            "max_width": null,
            "min_height": null,
            "min_width": null,
            "object_fit": null,
            "object_position": null,
            "order": null,
            "overflow": null,
            "overflow_x": null,
            "overflow_y": null,
            "padding": null,
            "right": null,
            "top": null,
            "visibility": null,
            "width": null
          }
        },
        "9a8bf267472f4dfb8c11dbd7c97e6f67": {
          "model_module": "@jupyter-widgets/controls",
          "model_name": "DescriptionStyleModel",
          "model_module_version": "1.5.0",
          "state": {
            "_model_module": "@jupyter-widgets/controls",
            "_model_module_version": "1.5.0",
            "_model_name": "DescriptionStyleModel",
            "_view_count": null,
            "_view_module": "@jupyter-widgets/base",
            "_view_module_version": "1.2.0",
            "_view_name": "StyleView",
            "description_width": ""
          }
        },
        "a0fd48c6eee643bd8570c6dec2605219": {
          "model_module": "@jupyter-widgets/controls",
          "model_name": "HBoxModel",
          "model_module_version": "1.5.0",
          "state": {
            "_dom_classes": [],
            "_model_module": "@jupyter-widgets/controls",
            "_model_module_version": "1.5.0",
            "_model_name": "HBoxModel",
            "_view_count": null,
            "_view_module": "@jupyter-widgets/controls",
            "_view_module_version": "1.5.0",
            "_view_name": "HBoxView",
            "box_style": "",
            "children": [
              "IPY_MODEL_ca85dcf2d8a5400c815d304a8069e00b",
              "IPY_MODEL_dc90ed2734194c23853e860fef6c2f3a",
              "IPY_MODEL_03bf110f4ce44122a7fba56db9744095"
            ],
            "layout": "IPY_MODEL_5452d79c83454c03a45ca2aa9f610841"
          }
        },
        "ca85dcf2d8a5400c815d304a8069e00b": {
          "model_module": "@jupyter-widgets/controls",
          "model_name": "HTMLModel",
          "model_module_version": "1.5.0",
          "state": {
            "_dom_classes": [],
            "_model_module": "@jupyter-widgets/controls",
            "_model_module_version": "1.5.0",
            "_model_name": "HTMLModel",
            "_view_count": null,
            "_view_module": "@jupyter-widgets/controls",
            "_view_module_version": "1.5.0",
            "_view_name": "HTMLView",
            "description": "",
            "description_tooltip": null,
            "layout": "IPY_MODEL_7acc91521dfa42418d5acabea25b2c0f",
            "placeholder": "​",
            "style": "IPY_MODEL_12622e39b4d3418ab64cd1169c1a4b0a",
            "value": "100%"
          }
        },
        "dc90ed2734194c23853e860fef6c2f3a": {
          "model_module": "@jupyter-widgets/controls",
          "model_name": "FloatProgressModel",
          "model_module_version": "1.5.0",
          "state": {
            "_dom_classes": [],
            "_model_module": "@jupyter-widgets/controls",
            "_model_module_version": "1.5.0",
            "_model_name": "FloatProgressModel",
            "_view_count": null,
            "_view_module": "@jupyter-widgets/controls",
            "_view_module_version": "1.5.0",
            "_view_name": "ProgressView",
            "bar_style": "success",
            "description": "",
            "description_tooltip": null,
            "layout": "IPY_MODEL_28f4b2dca2f94d6798bca7da405bbee9",
            "max": 100,
            "min": 0,
            "orientation": "horizontal",
            "style": "IPY_MODEL_d42162c2ed3a4afeab1ab247ad6822ca",
            "value": 100
          }
        },
        "03bf110f4ce44122a7fba56db9744095": {
          "model_module": "@jupyter-widgets/controls",
          "model_name": "HTMLModel",
          "model_module_version": "1.5.0",
          "state": {
            "_dom_classes": [],
            "_model_module": "@jupyter-widgets/controls",
            "_model_module_version": "1.5.0",
            "_model_name": "HTMLModel",
            "_view_count": null,
            "_view_module": "@jupyter-widgets/controls",
            "_view_module_version": "1.5.0",
            "_view_name": "HTMLView",
            "description": "",
            "description_tooltip": null,
            "layout": "IPY_MODEL_347784ceb9ab4bec9d65744d5aec0f14",
            "placeholder": "​",
            "style": "IPY_MODEL_e849630e1c1f49af844c2d2c600838b5",
            "value": " 100/100 [00:00&lt;00:00, 4948.27it/s]"
          }
        },
        "5452d79c83454c03a45ca2aa9f610841": {
          "model_module": "@jupyter-widgets/base",
          "model_name": "LayoutModel",
          "model_module_version": "1.2.0",
          "state": {
            "_model_module": "@jupyter-widgets/base",
            "_model_module_version": "1.2.0",
            "_model_name": "LayoutModel",
            "_view_count": null,
            "_view_module": "@jupyter-widgets/base",
            "_view_module_version": "1.2.0",
            "_view_name": "LayoutView",
            "align_content": null,
            "align_items": null,
            "align_self": null,
            "border": null,
            "bottom": null,
            "display": null,
            "flex": null,
            "flex_flow": null,
            "grid_area": null,
            "grid_auto_columns": null,
            "grid_auto_flow": null,
            "grid_auto_rows": null,
            "grid_column": null,
            "grid_gap": null,
            "grid_row": null,
            "grid_template_areas": null,
            "grid_template_columns": null,
            "grid_template_rows": null,
            "height": null,
            "justify_content": null,
            "justify_items": null,
            "left": null,
            "margin": null,
            "max_height": null,
            "max_width": null,
            "min_height": null,
            "min_width": null,
            "object_fit": null,
            "object_position": null,
            "order": null,
            "overflow": null,
            "overflow_x": null,
            "overflow_y": null,
            "padding": null,
            "right": null,
            "top": null,
            "visibility": null,
            "width": null
          }
        },
        "7acc91521dfa42418d5acabea25b2c0f": {
          "model_module": "@jupyter-widgets/base",
          "model_name": "LayoutModel",
          "model_module_version": "1.2.0",
          "state": {
            "_model_module": "@jupyter-widgets/base",
            "_model_module_version": "1.2.0",
            "_model_name": "LayoutModel",
            "_view_count": null,
            "_view_module": "@jupyter-widgets/base",
            "_view_module_version": "1.2.0",
            "_view_name": "LayoutView",
            "align_content": null,
            "align_items": null,
            "align_self": null,
            "border": null,
            "bottom": null,
            "display": null,
            "flex": null,
            "flex_flow": null,
            "grid_area": null,
            "grid_auto_columns": null,
            "grid_auto_flow": null,
            "grid_auto_rows": null,
            "grid_column": null,
            "grid_gap": null,
            "grid_row": null,
            "grid_template_areas": null,
            "grid_template_columns": null,
            "grid_template_rows": null,
            "height": null,
            "justify_content": null,
            "justify_items": null,
            "left": null,
            "margin": null,
            "max_height": null,
            "max_width": null,
            "min_height": null,
            "min_width": null,
            "object_fit": null,
            "object_position": null,
            "order": null,
            "overflow": null,
            "overflow_x": null,
            "overflow_y": null,
            "padding": null,
            "right": null,
            "top": null,
            "visibility": null,
            "width": null
          }
        },
        "12622e39b4d3418ab64cd1169c1a4b0a": {
          "model_module": "@jupyter-widgets/controls",
          "model_name": "DescriptionStyleModel",
          "model_module_version": "1.5.0",
          "state": {
            "_model_module": "@jupyter-widgets/controls",
            "_model_module_version": "1.5.0",
            "_model_name": "DescriptionStyleModel",
            "_view_count": null,
            "_view_module": "@jupyter-widgets/base",
            "_view_module_version": "1.2.0",
            "_view_name": "StyleView",
            "description_width": ""
          }
        },
        "28f4b2dca2f94d6798bca7da405bbee9": {
          "model_module": "@jupyter-widgets/base",
          "model_name": "LayoutModel",
          "model_module_version": "1.2.0",
          "state": {
            "_model_module": "@jupyter-widgets/base",
            "_model_module_version": "1.2.0",
            "_model_name": "LayoutModel",
            "_view_count": null,
            "_view_module": "@jupyter-widgets/base",
            "_view_module_version": "1.2.0",
            "_view_name": "LayoutView",
            "align_content": null,
            "align_items": null,
            "align_self": null,
            "border": null,
            "bottom": null,
            "display": null,
            "flex": null,
            "flex_flow": null,
            "grid_area": null,
            "grid_auto_columns": null,
            "grid_auto_flow": null,
            "grid_auto_rows": null,
            "grid_column": null,
            "grid_gap": null,
            "grid_row": null,
            "grid_template_areas": null,
            "grid_template_columns": null,
            "grid_template_rows": null,
            "height": null,
            "justify_content": null,
            "justify_items": null,
            "left": null,
            "margin": null,
            "max_height": null,
            "max_width": null,
            "min_height": null,
            "min_width": null,
            "object_fit": null,
            "object_position": null,
            "order": null,
            "overflow": null,
            "overflow_x": null,
            "overflow_y": null,
            "padding": null,
            "right": null,
            "top": null,
            "visibility": null,
            "width": null
          }
        },
        "d42162c2ed3a4afeab1ab247ad6822ca": {
          "model_module": "@jupyter-widgets/controls",
          "model_name": "ProgressStyleModel",
          "model_module_version": "1.5.0",
          "state": {
            "_model_module": "@jupyter-widgets/controls",
            "_model_module_version": "1.5.0",
            "_model_name": "ProgressStyleModel",
            "_view_count": null,
            "_view_module": "@jupyter-widgets/base",
            "_view_module_version": "1.2.0",
            "_view_name": "StyleView",
            "bar_color": null,
            "description_width": ""
          }
        },
        "347784ceb9ab4bec9d65744d5aec0f14": {
          "model_module": "@jupyter-widgets/base",
          "model_name": "LayoutModel",
          "model_module_version": "1.2.0",
          "state": {
            "_model_module": "@jupyter-widgets/base",
            "_model_module_version": "1.2.0",
            "_model_name": "LayoutModel",
            "_view_count": null,
            "_view_module": "@jupyter-widgets/base",
            "_view_module_version": "1.2.0",
            "_view_name": "LayoutView",
            "align_content": null,
            "align_items": null,
            "align_self": null,
            "border": null,
            "bottom": null,
            "display": null,
            "flex": null,
            "flex_flow": null,
            "grid_area": null,
            "grid_auto_columns": null,
            "grid_auto_flow": null,
            "grid_auto_rows": null,
            "grid_column": null,
            "grid_gap": null,
            "grid_row": null,
            "grid_template_areas": null,
            "grid_template_columns": null,
            "grid_template_rows": null,
            "height": null,
            "justify_content": null,
            "justify_items": null,
            "left": null,
            "margin": null,
            "max_height": null,
            "max_width": null,
            "min_height": null,
            "min_width": null,
            "object_fit": null,
            "object_position": null,
            "order": null,
            "overflow": null,
            "overflow_x": null,
            "overflow_y": null,
            "padding": null,
            "right": null,
            "top": null,
            "visibility": null,
            "width": null
          }
        },
        "e849630e1c1f49af844c2d2c600838b5": {
          "model_module": "@jupyter-widgets/controls",
          "model_name": "DescriptionStyleModel",
          "model_module_version": "1.5.0",
          "state": {
            "_model_module": "@jupyter-widgets/controls",
            "_model_module_version": "1.5.0",
            "_model_name": "DescriptionStyleModel",
            "_view_count": null,
            "_view_module": "@jupyter-widgets/base",
            "_view_module_version": "1.2.0",
            "_view_name": "StyleView",
            "description_width": ""
          }
        },
        "c60068cb4d1b4dfc83a33c5562554890": {
          "model_module": "@jupyter-widgets/controls",
          "model_name": "HBoxModel",
          "model_module_version": "1.5.0",
          "state": {
            "_dom_classes": [],
            "_model_module": "@jupyter-widgets/controls",
            "_model_module_version": "1.5.0",
            "_model_name": "HBoxModel",
            "_view_count": null,
            "_view_module": "@jupyter-widgets/controls",
            "_view_module_version": "1.5.0",
            "_view_name": "HBoxView",
            "box_style": "",
            "children": [
              "IPY_MODEL_7469f95e2d8143e7ae67fa05a3344ebe",
              "IPY_MODEL_30fdbd2b24f5487cb140c70ab15c8fe9",
              "IPY_MODEL_4a929d7978ea4d84866a3e1da0264531"
            ],
            "layout": "IPY_MODEL_9372aab8c1184e9497752d6a197c0cae"
          }
        },
        "7469f95e2d8143e7ae67fa05a3344ebe": {
          "model_module": "@jupyter-widgets/controls",
          "model_name": "HTMLModel",
          "model_module_version": "1.5.0",
          "state": {
            "_dom_classes": [],
            "_model_module": "@jupyter-widgets/controls",
            "_model_module_version": "1.5.0",
            "_model_name": "HTMLModel",
            "_view_count": null,
            "_view_module": "@jupyter-widgets/controls",
            "_view_module_version": "1.5.0",
            "_view_name": "HTMLView",
            "description": "",
            "description_tooltip": null,
            "layout": "IPY_MODEL_b639425539af4a1494eeb21a1acdfb57",
            "placeholder": "​",
            "style": "IPY_MODEL_4323983317ce4a53add59ecd64619234",
            "value": "100%"
          }
        },
        "30fdbd2b24f5487cb140c70ab15c8fe9": {
          "model_module": "@jupyter-widgets/controls",
          "model_name": "FloatProgressModel",
          "model_module_version": "1.5.0",
          "state": {
            "_dom_classes": [],
            "_model_module": "@jupyter-widgets/controls",
            "_model_module_version": "1.5.0",
            "_model_name": "FloatProgressModel",
            "_view_count": null,
            "_view_module": "@jupyter-widgets/controls",
            "_view_module_version": "1.5.0",
            "_view_name": "ProgressView",
            "bar_style": "success",
            "description": "",
            "description_tooltip": null,
            "layout": "IPY_MODEL_517f0c4025c84efeb3e4f9e86d53719e",
            "max": 100,
            "min": 0,
            "orientation": "horizontal",
            "style": "IPY_MODEL_96112fd5d77a42d3ab590b78f07fe017",
            "value": 100
          }
        },
        "4a929d7978ea4d84866a3e1da0264531": {
          "model_module": "@jupyter-widgets/controls",
          "model_name": "HTMLModel",
          "model_module_version": "1.5.0",
          "state": {
            "_dom_classes": [],
            "_model_module": "@jupyter-widgets/controls",
            "_model_module_version": "1.5.0",
            "_model_name": "HTMLModel",
            "_view_count": null,
            "_view_module": "@jupyter-widgets/controls",
            "_view_module_version": "1.5.0",
            "_view_name": "HTMLView",
            "description": "",
            "description_tooltip": null,
            "layout": "IPY_MODEL_d6f2ec797dfb43b8a723e1f3ce2725b6",
            "placeholder": "​",
            "style": "IPY_MODEL_80e6ba644e6449bcba73fa0d07fd7464",
            "value": " 100/100 [00:00&lt;00:00, 4792.72it/s]"
          }
        },
        "9372aab8c1184e9497752d6a197c0cae": {
          "model_module": "@jupyter-widgets/base",
          "model_name": "LayoutModel",
          "model_module_version": "1.2.0",
          "state": {
            "_model_module": "@jupyter-widgets/base",
            "_model_module_version": "1.2.0",
            "_model_name": "LayoutModel",
            "_view_count": null,
            "_view_module": "@jupyter-widgets/base",
            "_view_module_version": "1.2.0",
            "_view_name": "LayoutView",
            "align_content": null,
            "align_items": null,
            "align_self": null,
            "border": null,
            "bottom": null,
            "display": null,
            "flex": null,
            "flex_flow": null,
            "grid_area": null,
            "grid_auto_columns": null,
            "grid_auto_flow": null,
            "grid_auto_rows": null,
            "grid_column": null,
            "grid_gap": null,
            "grid_row": null,
            "grid_template_areas": null,
            "grid_template_columns": null,
            "grid_template_rows": null,
            "height": null,
            "justify_content": null,
            "justify_items": null,
            "left": null,
            "margin": null,
            "max_height": null,
            "max_width": null,
            "min_height": null,
            "min_width": null,
            "object_fit": null,
            "object_position": null,
            "order": null,
            "overflow": null,
            "overflow_x": null,
            "overflow_y": null,
            "padding": null,
            "right": null,
            "top": null,
            "visibility": null,
            "width": null
          }
        },
        "b639425539af4a1494eeb21a1acdfb57": {
          "model_module": "@jupyter-widgets/base",
          "model_name": "LayoutModel",
          "model_module_version": "1.2.0",
          "state": {
            "_model_module": "@jupyter-widgets/base",
            "_model_module_version": "1.2.0",
            "_model_name": "LayoutModel",
            "_view_count": null,
            "_view_module": "@jupyter-widgets/base",
            "_view_module_version": "1.2.0",
            "_view_name": "LayoutView",
            "align_content": null,
            "align_items": null,
            "align_self": null,
            "border": null,
            "bottom": null,
            "display": null,
            "flex": null,
            "flex_flow": null,
            "grid_area": null,
            "grid_auto_columns": null,
            "grid_auto_flow": null,
            "grid_auto_rows": null,
            "grid_column": null,
            "grid_gap": null,
            "grid_row": null,
            "grid_template_areas": null,
            "grid_template_columns": null,
            "grid_template_rows": null,
            "height": null,
            "justify_content": null,
            "justify_items": null,
            "left": null,
            "margin": null,
            "max_height": null,
            "max_width": null,
            "min_height": null,
            "min_width": null,
            "object_fit": null,
            "object_position": null,
            "order": null,
            "overflow": null,
            "overflow_x": null,
            "overflow_y": null,
            "padding": null,
            "right": null,
            "top": null,
            "visibility": null,
            "width": null
          }
        },
        "4323983317ce4a53add59ecd64619234": {
          "model_module": "@jupyter-widgets/controls",
          "model_name": "DescriptionStyleModel",
          "model_module_version": "1.5.0",
          "state": {
            "_model_module": "@jupyter-widgets/controls",
            "_model_module_version": "1.5.0",
            "_model_name": "DescriptionStyleModel",
            "_view_count": null,
            "_view_module": "@jupyter-widgets/base",
            "_view_module_version": "1.2.0",
            "_view_name": "StyleView",
            "description_width": ""
          }
        },
        "517f0c4025c84efeb3e4f9e86d53719e": {
          "model_module": "@jupyter-widgets/base",
          "model_name": "LayoutModel",
          "model_module_version": "1.2.0",
          "state": {
            "_model_module": "@jupyter-widgets/base",
            "_model_module_version": "1.2.0",
            "_model_name": "LayoutModel",
            "_view_count": null,
            "_view_module": "@jupyter-widgets/base",
            "_view_module_version": "1.2.0",
            "_view_name": "LayoutView",
            "align_content": null,
            "align_items": null,
            "align_self": null,
            "border": null,
            "bottom": null,
            "display": null,
            "flex": null,
            "flex_flow": null,
            "grid_area": null,
            "grid_auto_columns": null,
            "grid_auto_flow": null,
            "grid_auto_rows": null,
            "grid_column": null,
            "grid_gap": null,
            "grid_row": null,
            "grid_template_areas": null,
            "grid_template_columns": null,
            "grid_template_rows": null,
            "height": null,
            "justify_content": null,
            "justify_items": null,
            "left": null,
            "margin": null,
            "max_height": null,
            "max_width": null,
            "min_height": null,
            "min_width": null,
            "object_fit": null,
            "object_position": null,
            "order": null,
            "overflow": null,
            "overflow_x": null,
            "overflow_y": null,
            "padding": null,
            "right": null,
            "top": null,
            "visibility": null,
            "width": null
          }
        },
        "96112fd5d77a42d3ab590b78f07fe017": {
          "model_module": "@jupyter-widgets/controls",
          "model_name": "ProgressStyleModel",
          "model_module_version": "1.5.0",
          "state": {
            "_model_module": "@jupyter-widgets/controls",
            "_model_module_version": "1.5.0",
            "_model_name": "ProgressStyleModel",
            "_view_count": null,
            "_view_module": "@jupyter-widgets/base",
            "_view_module_version": "1.2.0",
            "_view_name": "StyleView",
            "bar_color": null,
            "description_width": ""
          }
        },
        "d6f2ec797dfb43b8a723e1f3ce2725b6": {
          "model_module": "@jupyter-widgets/base",
          "model_name": "LayoutModel",
          "model_module_version": "1.2.0",
          "state": {
            "_model_module": "@jupyter-widgets/base",
            "_model_module_version": "1.2.0",
            "_model_name": "LayoutModel",
            "_view_count": null,
            "_view_module": "@jupyter-widgets/base",
            "_view_module_version": "1.2.0",
            "_view_name": "LayoutView",
            "align_content": null,
            "align_items": null,
            "align_self": null,
            "border": null,
            "bottom": null,
            "display": null,
            "flex": null,
            "flex_flow": null,
            "grid_area": null,
            "grid_auto_columns": null,
            "grid_auto_flow": null,
            "grid_auto_rows": null,
            "grid_column": null,
            "grid_gap": null,
            "grid_row": null,
            "grid_template_areas": null,
            "grid_template_columns": null,
            "grid_template_rows": null,
            "height": null,
            "justify_content": null,
            "justify_items": null,
            "left": null,
            "margin": null,
            "max_height": null,
            "max_width": null,
            "min_height": null,
            "min_width": null,
            "object_fit": null,
            "object_position": null,
            "order": null,
            "overflow": null,
            "overflow_x": null,
            "overflow_y": null,
            "padding": null,
            "right": null,
            "top": null,
            "visibility": null,
            "width": null
          }
        },
        "80e6ba644e6449bcba73fa0d07fd7464": {
          "model_module": "@jupyter-widgets/controls",
          "model_name": "DescriptionStyleModel",
          "model_module_version": "1.5.0",
          "state": {
            "_model_module": "@jupyter-widgets/controls",
            "_model_module_version": "1.5.0",
            "_model_name": "DescriptionStyleModel",
            "_view_count": null,
            "_view_module": "@jupyter-widgets/base",
            "_view_module_version": "1.2.0",
            "_view_name": "StyleView",
            "description_width": ""
          }
        },
        "f864c803407f473394dfb3a50880954e": {
          "model_module": "@jupyter-widgets/controls",
          "model_name": "HBoxModel",
          "model_module_version": "1.5.0",
          "state": {
            "_dom_classes": [],
            "_model_module": "@jupyter-widgets/controls",
            "_model_module_version": "1.5.0",
            "_model_name": "HBoxModel",
            "_view_count": null,
            "_view_module": "@jupyter-widgets/controls",
            "_view_module_version": "1.5.0",
            "_view_name": "HBoxView",
            "box_style": "",
            "children": [
              "IPY_MODEL_cfa8f01542624b26aea7912a52fef00e",
              "IPY_MODEL_83daba8c17e348bb99e29cd5d6651e18",
              "IPY_MODEL_4d74d08932d846e4bc0a2286ffc685be"
            ],
            "layout": "IPY_MODEL_04eb81e1a2c44542a26fff7ad7f67226"
          }
        },
        "cfa8f01542624b26aea7912a52fef00e": {
          "model_module": "@jupyter-widgets/controls",
          "model_name": "HTMLModel",
          "model_module_version": "1.5.0",
          "state": {
            "_dom_classes": [],
            "_model_module": "@jupyter-widgets/controls",
            "_model_module_version": "1.5.0",
            "_model_name": "HTMLModel",
            "_view_count": null,
            "_view_module": "@jupyter-widgets/controls",
            "_view_module_version": "1.5.0",
            "_view_name": "HTMLView",
            "description": "",
            "description_tooltip": null,
            "layout": "IPY_MODEL_99332598abb7439991cdce4e1a301c78",
            "placeholder": "​",
            "style": "IPY_MODEL_b71c4634b3fb46ef99ff67b5fe2328dd",
            "value": "100%"
          }
        },
        "83daba8c17e348bb99e29cd5d6651e18": {
          "model_module": "@jupyter-widgets/controls",
          "model_name": "FloatProgressModel",
          "model_module_version": "1.5.0",
          "state": {
            "_dom_classes": [],
            "_model_module": "@jupyter-widgets/controls",
            "_model_module_version": "1.5.0",
            "_model_name": "FloatProgressModel",
            "_view_count": null,
            "_view_module": "@jupyter-widgets/controls",
            "_view_module_version": "1.5.0",
            "_view_name": "ProgressView",
            "bar_style": "success",
            "description": "",
            "description_tooltip": null,
            "layout": "IPY_MODEL_d2002296327e4c568f2525bd8bc52401",
            "max": 100,
            "min": 0,
            "orientation": "horizontal",
            "style": "IPY_MODEL_fb33bfc0495741c6aa8511d364755031",
            "value": 100
          }
        },
        "4d74d08932d846e4bc0a2286ffc685be": {
          "model_module": "@jupyter-widgets/controls",
          "model_name": "HTMLModel",
          "model_module_version": "1.5.0",
          "state": {
            "_dom_classes": [],
            "_model_module": "@jupyter-widgets/controls",
            "_model_module_version": "1.5.0",
            "_model_name": "HTMLModel",
            "_view_count": null,
            "_view_module": "@jupyter-widgets/controls",
            "_view_module_version": "1.5.0",
            "_view_name": "HTMLView",
            "description": "",
            "description_tooltip": null,
            "layout": "IPY_MODEL_32f67bef1e6f4cc597b46a5263c070d6",
            "placeholder": "​",
            "style": "IPY_MODEL_f61583728a224fc9bb5a31787438d30e",
            "value": " 100/100 [00:00&lt;00:00, 4957.57it/s]"
          }
        },
        "04eb81e1a2c44542a26fff7ad7f67226": {
          "model_module": "@jupyter-widgets/base",
          "model_name": "LayoutModel",
          "model_module_version": "1.2.0",
          "state": {
            "_model_module": "@jupyter-widgets/base",
            "_model_module_version": "1.2.0",
            "_model_name": "LayoutModel",
            "_view_count": null,
            "_view_module": "@jupyter-widgets/base",
            "_view_module_version": "1.2.0",
            "_view_name": "LayoutView",
            "align_content": null,
            "align_items": null,
            "align_self": null,
            "border": null,
            "bottom": null,
            "display": null,
            "flex": null,
            "flex_flow": null,
            "grid_area": null,
            "grid_auto_columns": null,
            "grid_auto_flow": null,
            "grid_auto_rows": null,
            "grid_column": null,
            "grid_gap": null,
            "grid_row": null,
            "grid_template_areas": null,
            "grid_template_columns": null,
            "grid_template_rows": null,
            "height": null,
            "justify_content": null,
            "justify_items": null,
            "left": null,
            "margin": null,
            "max_height": null,
            "max_width": null,
            "min_height": null,
            "min_width": null,
            "object_fit": null,
            "object_position": null,
            "order": null,
            "overflow": null,
            "overflow_x": null,
            "overflow_y": null,
            "padding": null,
            "right": null,
            "top": null,
            "visibility": null,
            "width": null
          }
        },
        "99332598abb7439991cdce4e1a301c78": {
          "model_module": "@jupyter-widgets/base",
          "model_name": "LayoutModel",
          "model_module_version": "1.2.0",
          "state": {
            "_model_module": "@jupyter-widgets/base",
            "_model_module_version": "1.2.0",
            "_model_name": "LayoutModel",
            "_view_count": null,
            "_view_module": "@jupyter-widgets/base",
            "_view_module_version": "1.2.0",
            "_view_name": "LayoutView",
            "align_content": null,
            "align_items": null,
            "align_self": null,
            "border": null,
            "bottom": null,
            "display": null,
            "flex": null,
            "flex_flow": null,
            "grid_area": null,
            "grid_auto_columns": null,
            "grid_auto_flow": null,
            "grid_auto_rows": null,
            "grid_column": null,
            "grid_gap": null,
            "grid_row": null,
            "grid_template_areas": null,
            "grid_template_columns": null,
            "grid_template_rows": null,
            "height": null,
            "justify_content": null,
            "justify_items": null,
            "left": null,
            "margin": null,
            "max_height": null,
            "max_width": null,
            "min_height": null,
            "min_width": null,
            "object_fit": null,
            "object_position": null,
            "order": null,
            "overflow": null,
            "overflow_x": null,
            "overflow_y": null,
            "padding": null,
            "right": null,
            "top": null,
            "visibility": null,
            "width": null
          }
        },
        "b71c4634b3fb46ef99ff67b5fe2328dd": {
          "model_module": "@jupyter-widgets/controls",
          "model_name": "DescriptionStyleModel",
          "model_module_version": "1.5.0",
          "state": {
            "_model_module": "@jupyter-widgets/controls",
            "_model_module_version": "1.5.0",
            "_model_name": "DescriptionStyleModel",
            "_view_count": null,
            "_view_module": "@jupyter-widgets/base",
            "_view_module_version": "1.2.0",
            "_view_name": "StyleView",
            "description_width": ""
          }
        },
        "d2002296327e4c568f2525bd8bc52401": {
          "model_module": "@jupyter-widgets/base",
          "model_name": "LayoutModel",
          "model_module_version": "1.2.0",
          "state": {
            "_model_module": "@jupyter-widgets/base",
            "_model_module_version": "1.2.0",
            "_model_name": "LayoutModel",
            "_view_count": null,
            "_view_module": "@jupyter-widgets/base",
            "_view_module_version": "1.2.0",
            "_view_name": "LayoutView",
            "align_content": null,
            "align_items": null,
            "align_self": null,
            "border": null,
            "bottom": null,
            "display": null,
            "flex": null,
            "flex_flow": null,
            "grid_area": null,
            "grid_auto_columns": null,
            "grid_auto_flow": null,
            "grid_auto_rows": null,
            "grid_column": null,
            "grid_gap": null,
            "grid_row": null,
            "grid_template_areas": null,
            "grid_template_columns": null,
            "grid_template_rows": null,
            "height": null,
            "justify_content": null,
            "justify_items": null,
            "left": null,
            "margin": null,
            "max_height": null,
            "max_width": null,
            "min_height": null,
            "min_width": null,
            "object_fit": null,
            "object_position": null,
            "order": null,
            "overflow": null,
            "overflow_x": null,
            "overflow_y": null,
            "padding": null,
            "right": null,
            "top": null,
            "visibility": null,
            "width": null
          }
        },
        "fb33bfc0495741c6aa8511d364755031": {
          "model_module": "@jupyter-widgets/controls",
          "model_name": "ProgressStyleModel",
          "model_module_version": "1.5.0",
          "state": {
            "_model_module": "@jupyter-widgets/controls",
            "_model_module_version": "1.5.0",
            "_model_name": "ProgressStyleModel",
            "_view_count": null,
            "_view_module": "@jupyter-widgets/base",
            "_view_module_version": "1.2.0",
            "_view_name": "StyleView",
            "bar_color": null,
            "description_width": ""
          }
        },
        "32f67bef1e6f4cc597b46a5263c070d6": {
          "model_module": "@jupyter-widgets/base",
          "model_name": "LayoutModel",
          "model_module_version": "1.2.0",
          "state": {
            "_model_module": "@jupyter-widgets/base",
            "_model_module_version": "1.2.0",
            "_model_name": "LayoutModel",
            "_view_count": null,
            "_view_module": "@jupyter-widgets/base",
            "_view_module_version": "1.2.0",
            "_view_name": "LayoutView",
            "align_content": null,
            "align_items": null,
            "align_self": null,
            "border": null,
            "bottom": null,
            "display": null,
            "flex": null,
            "flex_flow": null,
            "grid_area": null,
            "grid_auto_columns": null,
            "grid_auto_flow": null,
            "grid_auto_rows": null,
            "grid_column": null,
            "grid_gap": null,
            "grid_row": null,
            "grid_template_areas": null,
            "grid_template_columns": null,
            "grid_template_rows": null,
            "height": null,
            "justify_content": null,
            "justify_items": null,
            "left": null,
            "margin": null,
            "max_height": null,
            "max_width": null,
            "min_height": null,
            "min_width": null,
            "object_fit": null,
            "object_position": null,
            "order": null,
            "overflow": null,
            "overflow_x": null,
            "overflow_y": null,
            "padding": null,
            "right": null,
            "top": null,
            "visibility": null,
            "width": null
          }
        },
        "f61583728a224fc9bb5a31787438d30e": {
          "model_module": "@jupyter-widgets/controls",
          "model_name": "DescriptionStyleModel",
          "model_module_version": "1.5.0",
          "state": {
            "_model_module": "@jupyter-widgets/controls",
            "_model_module_version": "1.5.0",
            "_model_name": "DescriptionStyleModel",
            "_view_count": null,
            "_view_module": "@jupyter-widgets/base",
            "_view_module_version": "1.2.0",
            "_view_name": "StyleView",
            "description_width": ""
          }
        },
        "9229cbb6451d4bb2b0837f354b5d2081": {
          "model_module": "@jupyter-widgets/controls",
          "model_name": "HBoxModel",
          "model_module_version": "1.5.0",
          "state": {
            "_dom_classes": [],
            "_model_module": "@jupyter-widgets/controls",
            "_model_module_version": "1.5.0",
            "_model_name": "HBoxModel",
            "_view_count": null,
            "_view_module": "@jupyter-widgets/controls",
            "_view_module_version": "1.5.0",
            "_view_name": "HBoxView",
            "box_style": "",
            "children": [
              "IPY_MODEL_758597bd8a1647c4bd7592cac3bdad54",
              "IPY_MODEL_b3ec7389505b4ff6bc3cf0a00f06d02d",
              "IPY_MODEL_89ea815a43964f63981897defb0b0b0e"
            ],
            "layout": "IPY_MODEL_132969327c264109a4df183895dc42af"
          }
        },
        "758597bd8a1647c4bd7592cac3bdad54": {
          "model_module": "@jupyter-widgets/controls",
          "model_name": "HTMLModel",
          "model_module_version": "1.5.0",
          "state": {
            "_dom_classes": [],
            "_model_module": "@jupyter-widgets/controls",
            "_model_module_version": "1.5.0",
            "_model_name": "HTMLModel",
            "_view_count": null,
            "_view_module": "@jupyter-widgets/controls",
            "_view_module_version": "1.5.0",
            "_view_name": "HTMLView",
            "description": "",
            "description_tooltip": null,
            "layout": "IPY_MODEL_1d201c1a63cd4664b7c659ead304669c",
            "placeholder": "​",
            "style": "IPY_MODEL_8d4b1fa3b4fd4490b2ad2caab0f8e8b5",
            "value": "100%"
          }
        },
        "b3ec7389505b4ff6bc3cf0a00f06d02d": {
          "model_module": "@jupyter-widgets/controls",
          "model_name": "FloatProgressModel",
          "model_module_version": "1.5.0",
          "state": {
            "_dom_classes": [],
            "_model_module": "@jupyter-widgets/controls",
            "_model_module_version": "1.5.0",
            "_model_name": "FloatProgressModel",
            "_view_count": null,
            "_view_module": "@jupyter-widgets/controls",
            "_view_module_version": "1.5.0",
            "_view_name": "ProgressView",
            "bar_style": "success",
            "description": "",
            "description_tooltip": null,
            "layout": "IPY_MODEL_7cab7ddb9ea348598c720afd166fb47c",
            "max": 100,
            "min": 0,
            "orientation": "horizontal",
            "style": "IPY_MODEL_d34f807f6234452aa5294b13c4e10009",
            "value": 100
          }
        },
        "89ea815a43964f63981897defb0b0b0e": {
          "model_module": "@jupyter-widgets/controls",
          "model_name": "HTMLModel",
          "model_module_version": "1.5.0",
          "state": {
            "_dom_classes": [],
            "_model_module": "@jupyter-widgets/controls",
            "_model_module_version": "1.5.0",
            "_model_name": "HTMLModel",
            "_view_count": null,
            "_view_module": "@jupyter-widgets/controls",
            "_view_module_version": "1.5.0",
            "_view_name": "HTMLView",
            "description": "",
            "description_tooltip": null,
            "layout": "IPY_MODEL_96192e95d03b4f04a6f44057b3a5cd9a",
            "placeholder": "​",
            "style": "IPY_MODEL_2cca73a97b6c48f5ba9601e12a02ab0a",
            "value": " 100/100 [00:00&lt;00:00, 1115.05it/s]"
          }
        },
        "132969327c264109a4df183895dc42af": {
          "model_module": "@jupyter-widgets/base",
          "model_name": "LayoutModel",
          "model_module_version": "1.2.0",
          "state": {
            "_model_module": "@jupyter-widgets/base",
            "_model_module_version": "1.2.0",
            "_model_name": "LayoutModel",
            "_view_count": null,
            "_view_module": "@jupyter-widgets/base",
            "_view_module_version": "1.2.0",
            "_view_name": "LayoutView",
            "align_content": null,
            "align_items": null,
            "align_self": null,
            "border": null,
            "bottom": null,
            "display": null,
            "flex": null,
            "flex_flow": null,
            "grid_area": null,
            "grid_auto_columns": null,
            "grid_auto_flow": null,
            "grid_auto_rows": null,
            "grid_column": null,
            "grid_gap": null,
            "grid_row": null,
            "grid_template_areas": null,
            "grid_template_columns": null,
            "grid_template_rows": null,
            "height": null,
            "justify_content": null,
            "justify_items": null,
            "left": null,
            "margin": null,
            "max_height": null,
            "max_width": null,
            "min_height": null,
            "min_width": null,
            "object_fit": null,
            "object_position": null,
            "order": null,
            "overflow": null,
            "overflow_x": null,
            "overflow_y": null,
            "padding": null,
            "right": null,
            "top": null,
            "visibility": null,
            "width": null
          }
        },
        "1d201c1a63cd4664b7c659ead304669c": {
          "model_module": "@jupyter-widgets/base",
          "model_name": "LayoutModel",
          "model_module_version": "1.2.0",
          "state": {
            "_model_module": "@jupyter-widgets/base",
            "_model_module_version": "1.2.0",
            "_model_name": "LayoutModel",
            "_view_count": null,
            "_view_module": "@jupyter-widgets/base",
            "_view_module_version": "1.2.0",
            "_view_name": "LayoutView",
            "align_content": null,
            "align_items": null,
            "align_self": null,
            "border": null,
            "bottom": null,
            "display": null,
            "flex": null,
            "flex_flow": null,
            "grid_area": null,
            "grid_auto_columns": null,
            "grid_auto_flow": null,
            "grid_auto_rows": null,
            "grid_column": null,
            "grid_gap": null,
            "grid_row": null,
            "grid_template_areas": null,
            "grid_template_columns": null,
            "grid_template_rows": null,
            "height": null,
            "justify_content": null,
            "justify_items": null,
            "left": null,
            "margin": null,
            "max_height": null,
            "max_width": null,
            "min_height": null,
            "min_width": null,
            "object_fit": null,
            "object_position": null,
            "order": null,
            "overflow": null,
            "overflow_x": null,
            "overflow_y": null,
            "padding": null,
            "right": null,
            "top": null,
            "visibility": null,
            "width": null
          }
        },
        "8d4b1fa3b4fd4490b2ad2caab0f8e8b5": {
          "model_module": "@jupyter-widgets/controls",
          "model_name": "DescriptionStyleModel",
          "model_module_version": "1.5.0",
          "state": {
            "_model_module": "@jupyter-widgets/controls",
            "_model_module_version": "1.5.0",
            "_model_name": "DescriptionStyleModel",
            "_view_count": null,
            "_view_module": "@jupyter-widgets/base",
            "_view_module_version": "1.2.0",
            "_view_name": "StyleView",
            "description_width": ""
          }
        },
        "7cab7ddb9ea348598c720afd166fb47c": {
          "model_module": "@jupyter-widgets/base",
          "model_name": "LayoutModel",
          "model_module_version": "1.2.0",
          "state": {
            "_model_module": "@jupyter-widgets/base",
            "_model_module_version": "1.2.0",
            "_model_name": "LayoutModel",
            "_view_count": null,
            "_view_module": "@jupyter-widgets/base",
            "_view_module_version": "1.2.0",
            "_view_name": "LayoutView",
            "align_content": null,
            "align_items": null,
            "align_self": null,
            "border": null,
            "bottom": null,
            "display": null,
            "flex": null,
            "flex_flow": null,
            "grid_area": null,
            "grid_auto_columns": null,
            "grid_auto_flow": null,
            "grid_auto_rows": null,
            "grid_column": null,
            "grid_gap": null,
            "grid_row": null,
            "grid_template_areas": null,
            "grid_template_columns": null,
            "grid_template_rows": null,
            "height": null,
            "justify_content": null,
            "justify_items": null,
            "left": null,
            "margin": null,
            "max_height": null,
            "max_width": null,
            "min_height": null,
            "min_width": null,
            "object_fit": null,
            "object_position": null,
            "order": null,
            "overflow": null,
            "overflow_x": null,
            "overflow_y": null,
            "padding": null,
            "right": null,
            "top": null,
            "visibility": null,
            "width": null
          }
        },
        "d34f807f6234452aa5294b13c4e10009": {
          "model_module": "@jupyter-widgets/controls",
          "model_name": "ProgressStyleModel",
          "model_module_version": "1.5.0",
          "state": {
            "_model_module": "@jupyter-widgets/controls",
            "_model_module_version": "1.5.0",
            "_model_name": "ProgressStyleModel",
            "_view_count": null,
            "_view_module": "@jupyter-widgets/base",
            "_view_module_version": "1.2.0",
            "_view_name": "StyleView",
            "bar_color": null,
            "description_width": ""
          }
        },
        "96192e95d03b4f04a6f44057b3a5cd9a": {
          "model_module": "@jupyter-widgets/base",
          "model_name": "LayoutModel",
          "model_module_version": "1.2.0",
          "state": {
            "_model_module": "@jupyter-widgets/base",
            "_model_module_version": "1.2.0",
            "_model_name": "LayoutModel",
            "_view_count": null,
            "_view_module": "@jupyter-widgets/base",
            "_view_module_version": "1.2.0",
            "_view_name": "LayoutView",
            "align_content": null,
            "align_items": null,
            "align_self": null,
            "border": null,
            "bottom": null,
            "display": null,
            "flex": null,
            "flex_flow": null,
            "grid_area": null,
            "grid_auto_columns": null,
            "grid_auto_flow": null,
            "grid_auto_rows": null,
            "grid_column": null,
            "grid_gap": null,
            "grid_row": null,
            "grid_template_areas": null,
            "grid_template_columns": null,
            "grid_template_rows": null,
            "height": null,
            "justify_content": null,
            "justify_items": null,
            "left": null,
            "margin": null,
            "max_height": null,
            "max_width": null,
            "min_height": null,
            "min_width": null,
            "object_fit": null,
            "object_position": null,
            "order": null,
            "overflow": null,
            "overflow_x": null,
            "overflow_y": null,
            "padding": null,
            "right": null,
            "top": null,
            "visibility": null,
            "width": null
          }
        },
        "2cca73a97b6c48f5ba9601e12a02ab0a": {
          "model_module": "@jupyter-widgets/controls",
          "model_name": "DescriptionStyleModel",
          "model_module_version": "1.5.0",
          "state": {
            "_model_module": "@jupyter-widgets/controls",
            "_model_module_version": "1.5.0",
            "_model_name": "DescriptionStyleModel",
            "_view_count": null,
            "_view_module": "@jupyter-widgets/base",
            "_view_module_version": "1.2.0",
            "_view_name": "StyleView",
            "description_width": ""
          }
        },
        "45a128aab4454da8954555cdbf8b9e7e": {
          "model_module": "@jupyter-widgets/controls",
          "model_name": "HBoxModel",
          "model_module_version": "1.5.0",
          "state": {
            "_dom_classes": [],
            "_model_module": "@jupyter-widgets/controls",
            "_model_module_version": "1.5.0",
            "_model_name": "HBoxModel",
            "_view_count": null,
            "_view_module": "@jupyter-widgets/controls",
            "_view_module_version": "1.5.0",
            "_view_name": "HBoxView",
            "box_style": "",
            "children": [
              "IPY_MODEL_61a5ca49d5984ed5aaf3a9f9c2dd4e3a",
              "IPY_MODEL_b0ecad4dc77c4bcc90d6f5ad39788a8a",
              "IPY_MODEL_e3cdfd2e356a4d67aa7b9be8bb32f95f"
            ],
            "layout": "IPY_MODEL_f25e9f79842e4eb7a46e8d4375fa2e22"
          }
        },
        "61a5ca49d5984ed5aaf3a9f9c2dd4e3a": {
          "model_module": "@jupyter-widgets/controls",
          "model_name": "HTMLModel",
          "model_module_version": "1.5.0",
          "state": {
            "_dom_classes": [],
            "_model_module": "@jupyter-widgets/controls",
            "_model_module_version": "1.5.0",
            "_model_name": "HTMLModel",
            "_view_count": null,
            "_view_module": "@jupyter-widgets/controls",
            "_view_module_version": "1.5.0",
            "_view_name": "HTMLView",
            "description": "",
            "description_tooltip": null,
            "layout": "IPY_MODEL_1b1be4d979b94917ad27aa9cf9eb8f5e",
            "placeholder": "​",
            "style": "IPY_MODEL_c9286b114e4b4bc9be117dba9bb76667",
            "value": "100%"
          }
        },
        "b0ecad4dc77c4bcc90d6f5ad39788a8a": {
          "model_module": "@jupyter-widgets/controls",
          "model_name": "FloatProgressModel",
          "model_module_version": "1.5.0",
          "state": {
            "_dom_classes": [],
            "_model_module": "@jupyter-widgets/controls",
            "_model_module_version": "1.5.0",
            "_model_name": "FloatProgressModel",
            "_view_count": null,
            "_view_module": "@jupyter-widgets/controls",
            "_view_module_version": "1.5.0",
            "_view_name": "ProgressView",
            "bar_style": "success",
            "description": "",
            "description_tooltip": null,
            "layout": "IPY_MODEL_d91210ff3c0e4642b9330b132b327e91",
            "max": 100,
            "min": 0,
            "orientation": "horizontal",
            "style": "IPY_MODEL_8826d88a78a448c78192e6063e41462f",
            "value": 100
          }
        },
        "e3cdfd2e356a4d67aa7b9be8bb32f95f": {
          "model_module": "@jupyter-widgets/controls",
          "model_name": "HTMLModel",
          "model_module_version": "1.5.0",
          "state": {
            "_dom_classes": [],
            "_model_module": "@jupyter-widgets/controls",
            "_model_module_version": "1.5.0",
            "_model_name": "HTMLModel",
            "_view_count": null,
            "_view_module": "@jupyter-widgets/controls",
            "_view_module_version": "1.5.0",
            "_view_name": "HTMLView",
            "description": "",
            "description_tooltip": null,
            "layout": "IPY_MODEL_33f178a4fed144dc88701a8cac32dd5f",
            "placeholder": "​",
            "style": "IPY_MODEL_76510cb20fbc497ca92c81e14f812b59",
            "value": " 100/100 [00:00&lt;00:00, 4484.35it/s]"
          }
        },
        "f25e9f79842e4eb7a46e8d4375fa2e22": {
          "model_module": "@jupyter-widgets/base",
          "model_name": "LayoutModel",
          "model_module_version": "1.2.0",
          "state": {
            "_model_module": "@jupyter-widgets/base",
            "_model_module_version": "1.2.0",
            "_model_name": "LayoutModel",
            "_view_count": null,
            "_view_module": "@jupyter-widgets/base",
            "_view_module_version": "1.2.0",
            "_view_name": "LayoutView",
            "align_content": null,
            "align_items": null,
            "align_self": null,
            "border": null,
            "bottom": null,
            "display": null,
            "flex": null,
            "flex_flow": null,
            "grid_area": null,
            "grid_auto_columns": null,
            "grid_auto_flow": null,
            "grid_auto_rows": null,
            "grid_column": null,
            "grid_gap": null,
            "grid_row": null,
            "grid_template_areas": null,
            "grid_template_columns": null,
            "grid_template_rows": null,
            "height": null,
            "justify_content": null,
            "justify_items": null,
            "left": null,
            "margin": null,
            "max_height": null,
            "max_width": null,
            "min_height": null,
            "min_width": null,
            "object_fit": null,
            "object_position": null,
            "order": null,
            "overflow": null,
            "overflow_x": null,
            "overflow_y": null,
            "padding": null,
            "right": null,
            "top": null,
            "visibility": null,
            "width": null
          }
        },
        "1b1be4d979b94917ad27aa9cf9eb8f5e": {
          "model_module": "@jupyter-widgets/base",
          "model_name": "LayoutModel",
          "model_module_version": "1.2.0",
          "state": {
            "_model_module": "@jupyter-widgets/base",
            "_model_module_version": "1.2.0",
            "_model_name": "LayoutModel",
            "_view_count": null,
            "_view_module": "@jupyter-widgets/base",
            "_view_module_version": "1.2.0",
            "_view_name": "LayoutView",
            "align_content": null,
            "align_items": null,
            "align_self": null,
            "border": null,
            "bottom": null,
            "display": null,
            "flex": null,
            "flex_flow": null,
            "grid_area": null,
            "grid_auto_columns": null,
            "grid_auto_flow": null,
            "grid_auto_rows": null,
            "grid_column": null,
            "grid_gap": null,
            "grid_row": null,
            "grid_template_areas": null,
            "grid_template_columns": null,
            "grid_template_rows": null,
            "height": null,
            "justify_content": null,
            "justify_items": null,
            "left": null,
            "margin": null,
            "max_height": null,
            "max_width": null,
            "min_height": null,
            "min_width": null,
            "object_fit": null,
            "object_position": null,
            "order": null,
            "overflow": null,
            "overflow_x": null,
            "overflow_y": null,
            "padding": null,
            "right": null,
            "top": null,
            "visibility": null,
            "width": null
          }
        },
        "c9286b114e4b4bc9be117dba9bb76667": {
          "model_module": "@jupyter-widgets/controls",
          "model_name": "DescriptionStyleModel",
          "model_module_version": "1.5.0",
          "state": {
            "_model_module": "@jupyter-widgets/controls",
            "_model_module_version": "1.5.0",
            "_model_name": "DescriptionStyleModel",
            "_view_count": null,
            "_view_module": "@jupyter-widgets/base",
            "_view_module_version": "1.2.0",
            "_view_name": "StyleView",
            "description_width": ""
          }
        },
        "d91210ff3c0e4642b9330b132b327e91": {
          "model_module": "@jupyter-widgets/base",
          "model_name": "LayoutModel",
          "model_module_version": "1.2.0",
          "state": {
            "_model_module": "@jupyter-widgets/base",
            "_model_module_version": "1.2.0",
            "_model_name": "LayoutModel",
            "_view_count": null,
            "_view_module": "@jupyter-widgets/base",
            "_view_module_version": "1.2.0",
            "_view_name": "LayoutView",
            "align_content": null,
            "align_items": null,
            "align_self": null,
            "border": null,
            "bottom": null,
            "display": null,
            "flex": null,
            "flex_flow": null,
            "grid_area": null,
            "grid_auto_columns": null,
            "grid_auto_flow": null,
            "grid_auto_rows": null,
            "grid_column": null,
            "grid_gap": null,
            "grid_row": null,
            "grid_template_areas": null,
            "grid_template_columns": null,
            "grid_template_rows": null,
            "height": null,
            "justify_content": null,
            "justify_items": null,
            "left": null,
            "margin": null,
            "max_height": null,
            "max_width": null,
            "min_height": null,
            "min_width": null,
            "object_fit": null,
            "object_position": null,
            "order": null,
            "overflow": null,
            "overflow_x": null,
            "overflow_y": null,
            "padding": null,
            "right": null,
            "top": null,
            "visibility": null,
            "width": null
          }
        },
        "8826d88a78a448c78192e6063e41462f": {
          "model_module": "@jupyter-widgets/controls",
          "model_name": "ProgressStyleModel",
          "model_module_version": "1.5.0",
          "state": {
            "_model_module": "@jupyter-widgets/controls",
            "_model_module_version": "1.5.0",
            "_model_name": "ProgressStyleModel",
            "_view_count": null,
            "_view_module": "@jupyter-widgets/base",
            "_view_module_version": "1.2.0",
            "_view_name": "StyleView",
            "bar_color": null,
            "description_width": ""
          }
        },
        "33f178a4fed144dc88701a8cac32dd5f": {
          "model_module": "@jupyter-widgets/base",
          "model_name": "LayoutModel",
          "model_module_version": "1.2.0",
          "state": {
            "_model_module": "@jupyter-widgets/base",
            "_model_module_version": "1.2.0",
            "_model_name": "LayoutModel",
            "_view_count": null,
            "_view_module": "@jupyter-widgets/base",
            "_view_module_version": "1.2.0",
            "_view_name": "LayoutView",
            "align_content": null,
            "align_items": null,
            "align_self": null,
            "border": null,
            "bottom": null,
            "display": null,
            "flex": null,
            "flex_flow": null,
            "grid_area": null,
            "grid_auto_columns": null,
            "grid_auto_flow": null,
            "grid_auto_rows": null,
            "grid_column": null,
            "grid_gap": null,
            "grid_row": null,
            "grid_template_areas": null,
            "grid_template_columns": null,
            "grid_template_rows": null,
            "height": null,
            "justify_content": null,
            "justify_items": null,
            "left": null,
            "margin": null,
            "max_height": null,
            "max_width": null,
            "min_height": null,
            "min_width": null,
            "object_fit": null,
            "object_position": null,
            "order": null,
            "overflow": null,
            "overflow_x": null,
            "overflow_y": null,
            "padding": null,
            "right": null,
            "top": null,
            "visibility": null,
            "width": null
          }
        },
        "76510cb20fbc497ca92c81e14f812b59": {
          "model_module": "@jupyter-widgets/controls",
          "model_name": "DescriptionStyleModel",
          "model_module_version": "1.5.0",
          "state": {
            "_model_module": "@jupyter-widgets/controls",
            "_model_module_version": "1.5.0",
            "_model_name": "DescriptionStyleModel",
            "_view_count": null,
            "_view_module": "@jupyter-widgets/base",
            "_view_module_version": "1.2.0",
            "_view_name": "StyleView",
            "description_width": ""
          }
        },
        "e7a12bd2d77e49a1aff14ce09eb0c95a": {
          "model_module": "@jupyter-widgets/controls",
          "model_name": "HBoxModel",
          "model_module_version": "1.5.0",
          "state": {
            "_dom_classes": [],
            "_model_module": "@jupyter-widgets/controls",
            "_model_module_version": "1.5.0",
            "_model_name": "HBoxModel",
            "_view_count": null,
            "_view_module": "@jupyter-widgets/controls",
            "_view_module_version": "1.5.0",
            "_view_name": "HBoxView",
            "box_style": "",
            "children": [
              "IPY_MODEL_53e94d82e7354f9c96a479e7fe620209",
              "IPY_MODEL_e6b0e6a7ca534992b1dc112cfaefc516",
              "IPY_MODEL_b9be636dee7c4edba0e1b7b60fcf2677"
            ],
            "layout": "IPY_MODEL_90b9523691f34b5d97e2ec0592995687"
          }
        },
        "53e94d82e7354f9c96a479e7fe620209": {
          "model_module": "@jupyter-widgets/controls",
          "model_name": "HTMLModel",
          "model_module_version": "1.5.0",
          "state": {
            "_dom_classes": [],
            "_model_module": "@jupyter-widgets/controls",
            "_model_module_version": "1.5.0",
            "_model_name": "HTMLModel",
            "_view_count": null,
            "_view_module": "@jupyter-widgets/controls",
            "_view_module_version": "1.5.0",
            "_view_name": "HTMLView",
            "description": "",
            "description_tooltip": null,
            "layout": "IPY_MODEL_d1277da794d84e639b73c9ede27fa20a",
            "placeholder": "​",
            "style": "IPY_MODEL_ac7d79399b41447cbfc7e773efd20e13",
            "value": "100%"
          }
        },
        "e6b0e6a7ca534992b1dc112cfaefc516": {
          "model_module": "@jupyter-widgets/controls",
          "model_name": "FloatProgressModel",
          "model_module_version": "1.5.0",
          "state": {
            "_dom_classes": [],
            "_model_module": "@jupyter-widgets/controls",
            "_model_module_version": "1.5.0",
            "_model_name": "FloatProgressModel",
            "_view_count": null,
            "_view_module": "@jupyter-widgets/controls",
            "_view_module_version": "1.5.0",
            "_view_name": "ProgressView",
            "bar_style": "success",
            "description": "",
            "description_tooltip": null,
            "layout": "IPY_MODEL_3843a35c484d4519978c370654873892",
            "max": 100,
            "min": 0,
            "orientation": "horizontal",
            "style": "IPY_MODEL_9987094293af4dc98160132cda33130f",
            "value": 100
          }
        },
        "b9be636dee7c4edba0e1b7b60fcf2677": {
          "model_module": "@jupyter-widgets/controls",
          "model_name": "HTMLModel",
          "model_module_version": "1.5.0",
          "state": {
            "_dom_classes": [],
            "_model_module": "@jupyter-widgets/controls",
            "_model_module_version": "1.5.0",
            "_model_name": "HTMLModel",
            "_view_count": null,
            "_view_module": "@jupyter-widgets/controls",
            "_view_module_version": "1.5.0",
            "_view_name": "HTMLView",
            "description": "",
            "description_tooltip": null,
            "layout": "IPY_MODEL_a96fc3bde63444c5845c2887f4995b60",
            "placeholder": "​",
            "style": "IPY_MODEL_0a45432dbaa0451d9db52923619a3b86",
            "value": " 100/100 [00:00&lt;00:00, 3672.93it/s]"
          }
        },
        "90b9523691f34b5d97e2ec0592995687": {
          "model_module": "@jupyter-widgets/base",
          "model_name": "LayoutModel",
          "model_module_version": "1.2.0",
          "state": {
            "_model_module": "@jupyter-widgets/base",
            "_model_module_version": "1.2.0",
            "_model_name": "LayoutModel",
            "_view_count": null,
            "_view_module": "@jupyter-widgets/base",
            "_view_module_version": "1.2.0",
            "_view_name": "LayoutView",
            "align_content": null,
            "align_items": null,
            "align_self": null,
            "border": null,
            "bottom": null,
            "display": null,
            "flex": null,
            "flex_flow": null,
            "grid_area": null,
            "grid_auto_columns": null,
            "grid_auto_flow": null,
            "grid_auto_rows": null,
            "grid_column": null,
            "grid_gap": null,
            "grid_row": null,
            "grid_template_areas": null,
            "grid_template_columns": null,
            "grid_template_rows": null,
            "height": null,
            "justify_content": null,
            "justify_items": null,
            "left": null,
            "margin": null,
            "max_height": null,
            "max_width": null,
            "min_height": null,
            "min_width": null,
            "object_fit": null,
            "object_position": null,
            "order": null,
            "overflow": null,
            "overflow_x": null,
            "overflow_y": null,
            "padding": null,
            "right": null,
            "top": null,
            "visibility": null,
            "width": null
          }
        },
        "d1277da794d84e639b73c9ede27fa20a": {
          "model_module": "@jupyter-widgets/base",
          "model_name": "LayoutModel",
          "model_module_version": "1.2.0",
          "state": {
            "_model_module": "@jupyter-widgets/base",
            "_model_module_version": "1.2.0",
            "_model_name": "LayoutModel",
            "_view_count": null,
            "_view_module": "@jupyter-widgets/base",
            "_view_module_version": "1.2.0",
            "_view_name": "LayoutView",
            "align_content": null,
            "align_items": null,
            "align_self": null,
            "border": null,
            "bottom": null,
            "display": null,
            "flex": null,
            "flex_flow": null,
            "grid_area": null,
            "grid_auto_columns": null,
            "grid_auto_flow": null,
            "grid_auto_rows": null,
            "grid_column": null,
            "grid_gap": null,
            "grid_row": null,
            "grid_template_areas": null,
            "grid_template_columns": null,
            "grid_template_rows": null,
            "height": null,
            "justify_content": null,
            "justify_items": null,
            "left": null,
            "margin": null,
            "max_height": null,
            "max_width": null,
            "min_height": null,
            "min_width": null,
            "object_fit": null,
            "object_position": null,
            "order": null,
            "overflow": null,
            "overflow_x": null,
            "overflow_y": null,
            "padding": null,
            "right": null,
            "top": null,
            "visibility": null,
            "width": null
          }
        },
        "ac7d79399b41447cbfc7e773efd20e13": {
          "model_module": "@jupyter-widgets/controls",
          "model_name": "DescriptionStyleModel",
          "model_module_version": "1.5.0",
          "state": {
            "_model_module": "@jupyter-widgets/controls",
            "_model_module_version": "1.5.0",
            "_model_name": "DescriptionStyleModel",
            "_view_count": null,
            "_view_module": "@jupyter-widgets/base",
            "_view_module_version": "1.2.0",
            "_view_name": "StyleView",
            "description_width": ""
          }
        },
        "3843a35c484d4519978c370654873892": {
          "model_module": "@jupyter-widgets/base",
          "model_name": "LayoutModel",
          "model_module_version": "1.2.0",
          "state": {
            "_model_module": "@jupyter-widgets/base",
            "_model_module_version": "1.2.0",
            "_model_name": "LayoutModel",
            "_view_count": null,
            "_view_module": "@jupyter-widgets/base",
            "_view_module_version": "1.2.0",
            "_view_name": "LayoutView",
            "align_content": null,
            "align_items": null,
            "align_self": null,
            "border": null,
            "bottom": null,
            "display": null,
            "flex": null,
            "flex_flow": null,
            "grid_area": null,
            "grid_auto_columns": null,
            "grid_auto_flow": null,
            "grid_auto_rows": null,
            "grid_column": null,
            "grid_gap": null,
            "grid_row": null,
            "grid_template_areas": null,
            "grid_template_columns": null,
            "grid_template_rows": null,
            "height": null,
            "justify_content": null,
            "justify_items": null,
            "left": null,
            "margin": null,
            "max_height": null,
            "max_width": null,
            "min_height": null,
            "min_width": null,
            "object_fit": null,
            "object_position": null,
            "order": null,
            "overflow": null,
            "overflow_x": null,
            "overflow_y": null,
            "padding": null,
            "right": null,
            "top": null,
            "visibility": null,
            "width": null
          }
        },
        "9987094293af4dc98160132cda33130f": {
          "model_module": "@jupyter-widgets/controls",
          "model_name": "ProgressStyleModel",
          "model_module_version": "1.5.0",
          "state": {
            "_model_module": "@jupyter-widgets/controls",
            "_model_module_version": "1.5.0",
            "_model_name": "ProgressStyleModel",
            "_view_count": null,
            "_view_module": "@jupyter-widgets/base",
            "_view_module_version": "1.2.0",
            "_view_name": "StyleView",
            "bar_color": null,
            "description_width": ""
          }
        },
        "a96fc3bde63444c5845c2887f4995b60": {
          "model_module": "@jupyter-widgets/base",
          "model_name": "LayoutModel",
          "model_module_version": "1.2.0",
          "state": {
            "_model_module": "@jupyter-widgets/base",
            "_model_module_version": "1.2.0",
            "_model_name": "LayoutModel",
            "_view_count": null,
            "_view_module": "@jupyter-widgets/base",
            "_view_module_version": "1.2.0",
            "_view_name": "LayoutView",
            "align_content": null,
            "align_items": null,
            "align_self": null,
            "border": null,
            "bottom": null,
            "display": null,
            "flex": null,
            "flex_flow": null,
            "grid_area": null,
            "grid_auto_columns": null,
            "grid_auto_flow": null,
            "grid_auto_rows": null,
            "grid_column": null,
            "grid_gap": null,
            "grid_row": null,
            "grid_template_areas": null,
            "grid_template_columns": null,
            "grid_template_rows": null,
            "height": null,
            "justify_content": null,
            "justify_items": null,
            "left": null,
            "margin": null,
            "max_height": null,
            "max_width": null,
            "min_height": null,
            "min_width": null,
            "object_fit": null,
            "object_position": null,
            "order": null,
            "overflow": null,
            "overflow_x": null,
            "overflow_y": null,
            "padding": null,
            "right": null,
            "top": null,
            "visibility": null,
            "width": null
          }
        },
        "0a45432dbaa0451d9db52923619a3b86": {
          "model_module": "@jupyter-widgets/controls",
          "model_name": "DescriptionStyleModel",
          "model_module_version": "1.5.0",
          "state": {
            "_model_module": "@jupyter-widgets/controls",
            "_model_module_version": "1.5.0",
            "_model_name": "DescriptionStyleModel",
            "_view_count": null,
            "_view_module": "@jupyter-widgets/base",
            "_view_module_version": "1.2.0",
            "_view_name": "StyleView",
            "description_width": ""
          }
        },
        "efd7a7375aa14036b7a5f387c82ae55c": {
          "model_module": "@jupyter-widgets/controls",
          "model_name": "HBoxModel",
          "model_module_version": "1.5.0",
          "state": {
            "_dom_classes": [],
            "_model_module": "@jupyter-widgets/controls",
            "_model_module_version": "1.5.0",
            "_model_name": "HBoxModel",
            "_view_count": null,
            "_view_module": "@jupyter-widgets/controls",
            "_view_module_version": "1.5.0",
            "_view_name": "HBoxView",
            "box_style": "",
            "children": [
              "IPY_MODEL_e2c739b039044c0882902e1a3d8611bb",
              "IPY_MODEL_4af43dae8b2f48d0a9e0e52d509210c7",
              "IPY_MODEL_5ac0da5bee1b4cdfb6e66d5de42fd743"
            ],
            "layout": "IPY_MODEL_777bf41159374353b17661c543bf63c7"
          }
        },
        "e2c739b039044c0882902e1a3d8611bb": {
          "model_module": "@jupyter-widgets/controls",
          "model_name": "HTMLModel",
          "model_module_version": "1.5.0",
          "state": {
            "_dom_classes": [],
            "_model_module": "@jupyter-widgets/controls",
            "_model_module_version": "1.5.0",
            "_model_name": "HTMLModel",
            "_view_count": null,
            "_view_module": "@jupyter-widgets/controls",
            "_view_module_version": "1.5.0",
            "_view_name": "HTMLView",
            "description": "",
            "description_tooltip": null,
            "layout": "IPY_MODEL_98a5e896988840c8bd6df03af8360556",
            "placeholder": "​",
            "style": "IPY_MODEL_1819321d98994ed981b32cdaee57e74a",
            "value": "100%"
          }
        },
        "4af43dae8b2f48d0a9e0e52d509210c7": {
          "model_module": "@jupyter-widgets/controls",
          "model_name": "FloatProgressModel",
          "model_module_version": "1.5.0",
          "state": {
            "_dom_classes": [],
            "_model_module": "@jupyter-widgets/controls",
            "_model_module_version": "1.5.0",
            "_model_name": "FloatProgressModel",
            "_view_count": null,
            "_view_module": "@jupyter-widgets/controls",
            "_view_module_version": "1.5.0",
            "_view_name": "ProgressView",
            "bar_style": "success",
            "description": "",
            "description_tooltip": null,
            "layout": "IPY_MODEL_e380f91032f448d1b779154449a0e90a",
            "max": 100,
            "min": 0,
            "orientation": "horizontal",
            "style": "IPY_MODEL_a940a14265a54fbb842bad5ed40f0769",
            "value": 100
          }
        },
        "5ac0da5bee1b4cdfb6e66d5de42fd743": {
          "model_module": "@jupyter-widgets/controls",
          "model_name": "HTMLModel",
          "model_module_version": "1.5.0",
          "state": {
            "_dom_classes": [],
            "_model_module": "@jupyter-widgets/controls",
            "_model_module_version": "1.5.0",
            "_model_name": "HTMLModel",
            "_view_count": null,
            "_view_module": "@jupyter-widgets/controls",
            "_view_module_version": "1.5.0",
            "_view_name": "HTMLView",
            "description": "",
            "description_tooltip": null,
            "layout": "IPY_MODEL_8ca1dfa6421e447db482f9bb0ceba9c0",
            "placeholder": "​",
            "style": "IPY_MODEL_d2b2f0db87c44d919e4b658d65414837",
            "value": " 100/100 [00:00&lt;00:00, 3866.64it/s]"
          }
        },
        "777bf41159374353b17661c543bf63c7": {
          "model_module": "@jupyter-widgets/base",
          "model_name": "LayoutModel",
          "model_module_version": "1.2.0",
          "state": {
            "_model_module": "@jupyter-widgets/base",
            "_model_module_version": "1.2.0",
            "_model_name": "LayoutModel",
            "_view_count": null,
            "_view_module": "@jupyter-widgets/base",
            "_view_module_version": "1.2.0",
            "_view_name": "LayoutView",
            "align_content": null,
            "align_items": null,
            "align_self": null,
            "border": null,
            "bottom": null,
            "display": null,
            "flex": null,
            "flex_flow": null,
            "grid_area": null,
            "grid_auto_columns": null,
            "grid_auto_flow": null,
            "grid_auto_rows": null,
            "grid_column": null,
            "grid_gap": null,
            "grid_row": null,
            "grid_template_areas": null,
            "grid_template_columns": null,
            "grid_template_rows": null,
            "height": null,
            "justify_content": null,
            "justify_items": null,
            "left": null,
            "margin": null,
            "max_height": null,
            "max_width": null,
            "min_height": null,
            "min_width": null,
            "object_fit": null,
            "object_position": null,
            "order": null,
            "overflow": null,
            "overflow_x": null,
            "overflow_y": null,
            "padding": null,
            "right": null,
            "top": null,
            "visibility": null,
            "width": null
          }
        },
        "98a5e896988840c8bd6df03af8360556": {
          "model_module": "@jupyter-widgets/base",
          "model_name": "LayoutModel",
          "model_module_version": "1.2.0",
          "state": {
            "_model_module": "@jupyter-widgets/base",
            "_model_module_version": "1.2.0",
            "_model_name": "LayoutModel",
            "_view_count": null,
            "_view_module": "@jupyter-widgets/base",
            "_view_module_version": "1.2.0",
            "_view_name": "LayoutView",
            "align_content": null,
            "align_items": null,
            "align_self": null,
            "border": null,
            "bottom": null,
            "display": null,
            "flex": null,
            "flex_flow": null,
            "grid_area": null,
            "grid_auto_columns": null,
            "grid_auto_flow": null,
            "grid_auto_rows": null,
            "grid_column": null,
            "grid_gap": null,
            "grid_row": null,
            "grid_template_areas": null,
            "grid_template_columns": null,
            "grid_template_rows": null,
            "height": null,
            "justify_content": null,
            "justify_items": null,
            "left": null,
            "margin": null,
            "max_height": null,
            "max_width": null,
            "min_height": null,
            "min_width": null,
            "object_fit": null,
            "object_position": null,
            "order": null,
            "overflow": null,
            "overflow_x": null,
            "overflow_y": null,
            "padding": null,
            "right": null,
            "top": null,
            "visibility": null,
            "width": null
          }
        },
        "1819321d98994ed981b32cdaee57e74a": {
          "model_module": "@jupyter-widgets/controls",
          "model_name": "DescriptionStyleModel",
          "model_module_version": "1.5.0",
          "state": {
            "_model_module": "@jupyter-widgets/controls",
            "_model_module_version": "1.5.0",
            "_model_name": "DescriptionStyleModel",
            "_view_count": null,
            "_view_module": "@jupyter-widgets/base",
            "_view_module_version": "1.2.0",
            "_view_name": "StyleView",
            "description_width": ""
          }
        },
        "e380f91032f448d1b779154449a0e90a": {
          "model_module": "@jupyter-widgets/base",
          "model_name": "LayoutModel",
          "model_module_version": "1.2.0",
          "state": {
            "_model_module": "@jupyter-widgets/base",
            "_model_module_version": "1.2.0",
            "_model_name": "LayoutModel",
            "_view_count": null,
            "_view_module": "@jupyter-widgets/base",
            "_view_module_version": "1.2.0",
            "_view_name": "LayoutView",
            "align_content": null,
            "align_items": null,
            "align_self": null,
            "border": null,
            "bottom": null,
            "display": null,
            "flex": null,
            "flex_flow": null,
            "grid_area": null,
            "grid_auto_columns": null,
            "grid_auto_flow": null,
            "grid_auto_rows": null,
            "grid_column": null,
            "grid_gap": null,
            "grid_row": null,
            "grid_template_areas": null,
            "grid_template_columns": null,
            "grid_template_rows": null,
            "height": null,
            "justify_content": null,
            "justify_items": null,
            "left": null,
            "margin": null,
            "max_height": null,
            "max_width": null,
            "min_height": null,
            "min_width": null,
            "object_fit": null,
            "object_position": null,
            "order": null,
            "overflow": null,
            "overflow_x": null,
            "overflow_y": null,
            "padding": null,
            "right": null,
            "top": null,
            "visibility": null,
            "width": null
          }
        },
        "a940a14265a54fbb842bad5ed40f0769": {
          "model_module": "@jupyter-widgets/controls",
          "model_name": "ProgressStyleModel",
          "model_module_version": "1.5.0",
          "state": {
            "_model_module": "@jupyter-widgets/controls",
            "_model_module_version": "1.5.0",
            "_model_name": "ProgressStyleModel",
            "_view_count": null,
            "_view_module": "@jupyter-widgets/base",
            "_view_module_version": "1.2.0",
            "_view_name": "StyleView",
            "bar_color": null,
            "description_width": ""
          }
        },
        "8ca1dfa6421e447db482f9bb0ceba9c0": {
          "model_module": "@jupyter-widgets/base",
          "model_name": "LayoutModel",
          "model_module_version": "1.2.0",
          "state": {
            "_model_module": "@jupyter-widgets/base",
            "_model_module_version": "1.2.0",
            "_model_name": "LayoutModel",
            "_view_count": null,
            "_view_module": "@jupyter-widgets/base",
            "_view_module_version": "1.2.0",
            "_view_name": "LayoutView",
            "align_content": null,
            "align_items": null,
            "align_self": null,
            "border": null,
            "bottom": null,
            "display": null,
            "flex": null,
            "flex_flow": null,
            "grid_area": null,
            "grid_auto_columns": null,
            "grid_auto_flow": null,
            "grid_auto_rows": null,
            "grid_column": null,
            "grid_gap": null,
            "grid_row": null,
            "grid_template_areas": null,
            "grid_template_columns": null,
            "grid_template_rows": null,
            "height": null,
            "justify_content": null,
            "justify_items": null,
            "left": null,
            "margin": null,
            "max_height": null,
            "max_width": null,
            "min_height": null,
            "min_width": null,
            "object_fit": null,
            "object_position": null,
            "order": null,
            "overflow": null,
            "overflow_x": null,
            "overflow_y": null,
            "padding": null,
            "right": null,
            "top": null,
            "visibility": null,
            "width": null
          }
        },
        "d2b2f0db87c44d919e4b658d65414837": {
          "model_module": "@jupyter-widgets/controls",
          "model_name": "DescriptionStyleModel",
          "model_module_version": "1.5.0",
          "state": {
            "_model_module": "@jupyter-widgets/controls",
            "_model_module_version": "1.5.0",
            "_model_name": "DescriptionStyleModel",
            "_view_count": null,
            "_view_module": "@jupyter-widgets/base",
            "_view_module_version": "1.2.0",
            "_view_name": "StyleView",
            "description_width": ""
          }
        }
      }
    }
  },
  "nbformat": 4,
  "nbformat_minor": 0
}