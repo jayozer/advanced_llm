{
  "nbformat": 4,
  "nbformat_minor": 0,
  "metadata": {
    "colab": {
      "provenance": [],
      "include_colab_link": true
    },
    "kernelspec": {
      "name": "python3",
      "display_name": "Python 3"
    },
    "language_info": {
      "name": "python"
    }
  },
  "cells": [
    {
      "cell_type": "markdown",
      "metadata": {
        "id": "view-in-github",
        "colab_type": "text"
      },
      "source": [
        "<a href=\"https://colab.research.google.com/github/jayozer/advanced_llm/blob/main/JayOzer_Maven_Advanced_LLM_Module_2c_bedrock_aws_llama_anthropic.ipynb\" target=\"_parent\"><img src=\"https://colab.research.google.com/assets/colab-badge.svg\" alt=\"Open In Colab\"/></a>"
      ]
    },
    {
      "cell_type": "code",
      "source": [
        "from IPython.display import HTML, display\n",
        "\n",
        "def set_css():\n",
        "  display(HTML('''\n",
        "  <style>\n",
        "    pre {\n",
        "        white-space: pre-wrap;\n",
        "    }\n",
        "  </style>\n",
        "  '''))\n",
        "get_ipython().events.register('pre_run_cell', set_css)"
      ],
      "metadata": {
        "id": "AZcuGOvdyiPR"
      },
      "execution_count": 1,
      "outputs": []
    },
    {
      "cell_type": "code",
      "execution_count": 2,
      "metadata": {
        "colab": {
          "base_uri": "https://localhost:8080/",
          "height": 294
        },
        "id": "E0nMLPVxKwTi",
        "outputId": "52f2db69-a0ea-4cdc-dfb1-b7c27b7b7612"
      },
      "outputs": [
        {
          "output_type": "display_data",
          "data": {
            "text/plain": [
              "<IPython.core.display.HTML object>"
            ],
            "text/html": [
              "\n",
              "  <style>\n",
              "    pre {\n",
              "        white-space: pre-wrap;\n",
              "    }\n",
              "  </style>\n",
              "  "
            ]
          },
          "metadata": {}
        },
        {
          "output_type": "stream",
          "name": "stdout",
          "text": [
            "Collecting boto3\n",
            "  Downloading boto3-1.34.144-py3-none-any.whl (139 kB)\n",
            "\u001b[2K     \u001b[90m━━━━━━━━━━━━━━━━━━━━━━━━━━━━━━━━━━━━━━━━\u001b[0m \u001b[32m139.2/139.2 kB\u001b[0m \u001b[31m2.7 MB/s\u001b[0m eta \u001b[36m0:00:00\u001b[0m\n",
            "\u001b[?25hCollecting botocore<1.35.0,>=1.34.144 (from boto3)\n",
            "  Downloading botocore-1.34.144-py3-none-any.whl (12.4 MB)\n",
            "\u001b[2K     \u001b[90m━━━━━━━━━━━━━━━━━━━━━━━━━━━━━━━━━━━━━━━━\u001b[0m \u001b[32m12.4/12.4 MB\u001b[0m \u001b[31m9.2 MB/s\u001b[0m eta \u001b[36m0:00:00\u001b[0m\n",
            "\u001b[?25hCollecting jmespath<2.0.0,>=0.7.1 (from boto3)\n",
            "  Downloading jmespath-1.0.1-py3-none-any.whl (20 kB)\n",
            "Collecting s3transfer<0.11.0,>=0.10.0 (from boto3)\n",
            "  Downloading s3transfer-0.10.2-py3-none-any.whl (82 kB)\n",
            "\u001b[2K     \u001b[90m━━━━━━━━━━━━━━━━━━━━━━━━━━━━━━━━━━━━━━━━\u001b[0m \u001b[32m82.7/82.7 kB\u001b[0m \u001b[31m9.0 MB/s\u001b[0m eta \u001b[36m0:00:00\u001b[0m\n",
            "\u001b[?25hRequirement already satisfied: python-dateutil<3.0.0,>=2.1 in /usr/local/lib/python3.10/dist-packages (from botocore<1.35.0,>=1.34.144->boto3) (2.8.2)\n",
            "Requirement already satisfied: urllib3!=2.2.0,<3,>=1.25.4 in /usr/local/lib/python3.10/dist-packages (from botocore<1.35.0,>=1.34.144->boto3) (2.0.7)\n",
            "Requirement already satisfied: six>=1.5 in /usr/local/lib/python3.10/dist-packages (from python-dateutil<3.0.0,>=2.1->botocore<1.35.0,>=1.34.144->boto3) (1.16.0)\n",
            "Installing collected packages: jmespath, botocore, s3transfer, boto3\n",
            "Successfully installed boto3-1.34.144 botocore-1.34.144 jmespath-1.0.1 s3transfer-0.10.2\n"
          ]
        }
      ],
      "source": [
        "!pip install boto3"
      ]
    },
    {
      "cell_type": "code",
      "source": [
        "import boto3, json\n",
        "from getpass import getpass\n",
        "from google.colab import userdata"
      ],
      "metadata": {
        "id": "v4MGiTX7K1Md",
        "colab": {
          "base_uri": "https://localhost:8080/",
          "height": 17
        },
        "outputId": "99ea29a5-8cf5-40e7-fdfd-a0ddb35a0aed"
      },
      "execution_count": 3,
      "outputs": [
        {
          "output_type": "display_data",
          "data": {
            "text/plain": [
              "<IPython.core.display.HTML object>"
            ],
            "text/html": [
              "\n",
              "  <style>\n",
              "    pre {\n",
              "        white-space: pre-wrap;\n",
              "    }\n",
              "  </style>\n",
              "  "
            ]
          },
          "metadata": {}
        }
      ]
    },
    {
      "cell_type": "code",
      "source": [
        "aws_access_key_id = userdata.get('AWS_ACCESS_KEY_ID')"
      ],
      "metadata": {
        "id": "uqLw7_9P1kM_",
        "colab": {
          "base_uri": "https://localhost:8080/",
          "height": 17
        },
        "outputId": "7674eece-76b5-4595-c6d6-988b88ee2a87"
      },
      "execution_count": 4,
      "outputs": [
        {
          "output_type": "display_data",
          "data": {
            "text/plain": [
              "<IPython.core.display.HTML object>"
            ],
            "text/html": [
              "\n",
              "  <style>\n",
              "    pre {\n",
              "        white-space: pre-wrap;\n",
              "    }\n",
              "  </style>\n",
              "  "
            ]
          },
          "metadata": {}
        }
      ]
    },
    {
      "cell_type": "code",
      "source": [
        "aws_secret_access_key = userdata.get('AWS_SECRET_ACCESS_KEY')"
      ],
      "metadata": {
        "id": "aLS_JPik1pVt",
        "colab": {
          "base_uri": "https://localhost:8080/",
          "height": 17
        },
        "outputId": "d32355c0-0092-4448-8a1c-2155d8dfb4e3"
      },
      "execution_count": 5,
      "outputs": [
        {
          "output_type": "display_data",
          "data": {
            "text/plain": [
              "<IPython.core.display.HTML object>"
            ],
            "text/html": [
              "\n",
              "  <style>\n",
              "    pre {\n",
              "        white-space: pre-wrap;\n",
              "    }\n",
              "  </style>\n",
              "  "
            ]
          },
          "metadata": {}
        }
      ]
    },
    {
      "cell_type": "code",
      "source": [
        "bedrock_runtime = boto3.client(service_name=\"bedrock-runtime\",\n",
        "                  region_name=\"us-east-1\", aws_access_key_id =aws_access_key_id,\n",
        "                          aws_secret_access_key= aws_secret_access_key)"
      ],
      "metadata": {
        "id": "B_td_SJn1yv5",
        "colab": {
          "base_uri": "https://localhost:8080/",
          "height": 17
        },
        "outputId": "d582960a-b5ae-4e7f-f5bc-fdfebdecc484"
      },
      "execution_count": 6,
      "outputs": [
        {
          "output_type": "display_data",
          "data": {
            "text/plain": [
              "<IPython.core.display.HTML object>"
            ],
            "text/html": [
              "\n",
              "  <style>\n",
              "    pre {\n",
              "        white-space: pre-wrap;\n",
              "    }\n",
              "  </style>\n",
              "  "
            ]
          },
          "metadata": {}
        }
      ]
    },
    {
      "cell_type": "code",
      "source": [
        "prompt = \"Write a letter to meta about the recent changes to the Facebook news feed algorithm\""
      ],
      "metadata": {
        "id": "ZQE0egahPbFs",
        "colab": {
          "base_uri": "https://localhost:8080/",
          "height": 17
        },
        "outputId": "29b08095-9f3c-4a9b-d6ec-9ecab791c377"
      },
      "execution_count": 7,
      "outputs": [
        {
          "output_type": "display_data",
          "data": {
            "text/plain": [
              "<IPython.core.display.HTML object>"
            ],
            "text/html": [
              "\n",
              "  <style>\n",
              "    pre {\n",
              "        white-space: pre-wrap;\n",
              "    }\n",
              "  </style>\n",
              "  "
            ]
          },
          "metadata": {}
        }
      ]
    },
    {
      "cell_type": "code",
      "source": [
        "kwargs={\n",
        "\"modelId\": \"meta.llama3-8b-instruct-v1:0\",\n",
        "         \"contentType\":\"application/json\",\n",
        "         \"accept\": \"*/*\",\n",
        "\"body\": \"{\\\"prompt\\\":\\\"\"+prompt+ \"\\\",\\\"max_gen_len\\\":512,\\\"temperature\\\":0.5,\\\"top_p\\\":0.9}\",\n",
        "\n",
        "}\n"
      ],
      "metadata": {
        "colab": {
          "base_uri": "https://localhost:8080/",
          "height": 17
        },
        "id": "NlZHRQbgUbxc",
        "outputId": "b07af4bd-3624-411e-d376-a4b5f8e51830"
      },
      "execution_count": 8,
      "outputs": [
        {
          "output_type": "display_data",
          "data": {
            "text/plain": [
              "<IPython.core.display.HTML object>"
            ],
            "text/html": [
              "\n",
              "  <style>\n",
              "    pre {\n",
              "        white-space: pre-wrap;\n",
              "    }\n",
              "  </style>\n",
              "  "
            ]
          },
          "metadata": {}
        }
      ]
    },
    {
      "cell_type": "code",
      "source": [
        "print(kwargs)"
      ],
      "metadata": {
        "colab": {
          "base_uri": "https://localhost:8080/",
          "height": 52
        },
        "id": "PzDcs6DrOEJl",
        "outputId": "7ce7ef63-c502-490f-93ed-3c43de780fb0"
      },
      "execution_count": 9,
      "outputs": [
        {
          "output_type": "display_data",
          "data": {
            "text/plain": [
              "<IPython.core.display.HTML object>"
            ],
            "text/html": [
              "\n",
              "  <style>\n",
              "    pre {\n",
              "        white-space: pre-wrap;\n",
              "    }\n",
              "  </style>\n",
              "  "
            ]
          },
          "metadata": {}
        },
        {
          "output_type": "stream",
          "name": "stdout",
          "text": [
            "{'modelId': 'meta.llama3-8b-instruct-v1:0', 'contentType': 'application/json', 'accept': '*/*', 'body': '{\"prompt\":\"Write a letter to meta about the recent changes to the Facebook news feed algorithm\",\"max_gen_len\":512,\"temperature\":0.5,\"top_p\":0.9}'}\n"
          ]
        }
      ]
    },
    {
      "cell_type": "code",
      "source": [
        "response = bedrock_runtime.invoke_model(**kwargs)"
      ],
      "metadata": {
        "id": "M6c6A8AhPzsg",
        "colab": {
          "base_uri": "https://localhost:8080/",
          "height": 17
        },
        "outputId": "6370b7bc-ffee-401f-b446-2b8b7c3f2eab"
      },
      "execution_count": 10,
      "outputs": [
        {
          "output_type": "display_data",
          "data": {
            "text/plain": [
              "<IPython.core.display.HTML object>"
            ],
            "text/html": [
              "\n",
              "  <style>\n",
              "    pre {\n",
              "        white-space: pre-wrap;\n",
              "    }\n",
              "  </style>\n",
              "  "
            ]
          },
          "metadata": {}
        }
      ]
    },
    {
      "cell_type": "code",
      "source": [
        "response"
      ],
      "metadata": {
        "colab": {
          "base_uri": "https://localhost:8080/",
          "height": 242
        },
        "id": "l8xmDFa1ROV2",
        "outputId": "3368fce1-3b88-4b00-845f-6a4d21344512"
      },
      "execution_count": 11,
      "outputs": [
        {
          "output_type": "display_data",
          "data": {
            "text/plain": [
              "<IPython.core.display.HTML object>"
            ],
            "text/html": [
              "\n",
              "  <style>\n",
              "    pre {\n",
              "        white-space: pre-wrap;\n",
              "    }\n",
              "  </style>\n",
              "  "
            ]
          },
          "metadata": {}
        },
        {
          "output_type": "execute_result",
          "data": {
            "text/plain": [
              "{'ResponseMetadata': {'RequestId': '7ef3ab46-c64c-47b1-b210-3e616ccd4df9',\n",
              "  'HTTPStatusCode': 200,\n",
              "  'HTTPHeaders': {'date': 'Mon, 15 Jul 2024 13:07:05 GMT',\n",
              "   'content-type': 'application/json',\n",
              "   'content-length': '2711',\n",
              "   'connection': 'keep-alive',\n",
              "   'x-amzn-requestid': '7ef3ab46-c64c-47b1-b210-3e616ccd4df9',\n",
              "   'x-amzn-bedrock-invocation-latency': '7155',\n",
              "   'x-amzn-bedrock-output-token-count': '512',\n",
              "   'x-amzn-bedrock-input-token-count': '15'},\n",
              "  'RetryAttempts': 0},\n",
              " 'contentType': 'application/json',\n",
              " 'body': <botocore.response.StreamingBody at 0x7a938cafddb0>}"
            ]
          },
          "metadata": {},
          "execution_count": 11
        }
      ]
    },
    {
      "cell_type": "code",
      "source": [
        "response_body = json.loads(response.get('body').read())\n"
      ],
      "metadata": {
        "id": "V4mn7fK0SBm4",
        "colab": {
          "base_uri": "https://localhost:8080/",
          "height": 17
        },
        "outputId": "802dd160-152d-4c18-f964-2ecbf0d919fe"
      },
      "execution_count": 12,
      "outputs": [
        {
          "output_type": "display_data",
          "data": {
            "text/plain": [
              "<IPython.core.display.HTML object>"
            ],
            "text/html": [
              "\n",
              "  <style>\n",
              "    pre {\n",
              "        white-space: pre-wrap;\n",
              "    }\n",
              "  </style>\n",
              "  "
            ]
          },
          "metadata": {}
        }
      ]
    },
    {
      "cell_type": "code",
      "source": [
        "response_body.get('generation')"
      ],
      "metadata": {
        "colab": {
          "base_uri": "https://localhost:8080/",
          "height": 105
        },
        "id": "Omtt-wJWSaGG",
        "outputId": "d36d78eb-3444-40bb-b8ac-566e280f6621"
      },
      "execution_count": 13,
      "outputs": [
        {
          "output_type": "display_data",
          "data": {
            "text/plain": [
              "<IPython.core.display.HTML object>"
            ],
            "text/html": [
              "\n",
              "  <style>\n",
              "    pre {\n",
              "        white-space: pre-wrap;\n",
              "    }\n",
              "  </style>\n",
              "  "
            ]
          },
          "metadata": {}
        },
        {
          "output_type": "execute_result",
          "data": {
            "text/plain": [
              "' and how it affects your business.\\nSubject: Concerns about the recent changes to the Facebook news feed algorithm\\n\\nDear Meta Team,\\n\\nI am writing to express my concerns about the recent changes to the Facebook news feed algorithm. As a business owner, I rely heavily on Facebook to reach my target audience and drive traffic to my website. The recent changes to the algorithm have significantly impacted my ability to do so.\\n\\nI understand that the changes were made to prioritize content that is more engaging and relevant to users. However, I believe that the algorithm is now favoring content that is more sensational and clickbait-like, rather than high-quality content that provides value to users.\\n\\nAs a result, my page\\'s engagement has decreased significantly, and my reach has been limited. I have tried to adapt to the changes by creating more engaging content, but it seems that the algorithm is still not favoring my content.\\n\\nI am concerned that these changes will continue to negatively impact my business, and I am worried about the long-term effects on the platform. I believe that Facebook has a responsibility to its users and businesses to provide a platform that is fair and transparent.\\n\\nI would like to request that Meta consider the following:\\n\\n1. Provide more transparency about the algorithm changes and how they affect different types of content.\\n2. Consider introducing a \"quality score\" that rewards high-quality content that provides value to users.\\n3. Provide more tools and resources to help businesses adapt to the changes and improve their content.\\n\\nI hope that you will take my concerns seriously and consider the impact that these changes are having on businesses like mine. I would appreciate the opportunity to discuss this further with your team and explore ways to improve the platform for all users.\\n\\nThank you for your time and consideration.\\n\\nSincerely,\\n\\n[Your Name] [Your Business Name] [Your Email] [Your Phone Number] [Your Website] [Your Social Media Handles]\\n\\nNote: You can customize this letter to fit your specific needs and concerns. It\\'s also a good idea to keep a record of any communication you have with Meta, including emails and phone calls. This can help you track any progress or changes made to the algorithm. [1]\\n\\nReferences:\\n\\n[1] \"How to Complain to Facebook About Changes to Your Page\" by Social Media Examiner\\n\\n[2] \"Facebook Algorithm Changes: What You Need to Know\" by Hootsuite\\n\\n[3] \"The Facebook Algorithm: A Guide for Businesses\" by Sprout Social\\n\\n[4] \"How to Optimize Your Facebook Content for the Algorithm'"
            ],
            "application/vnd.google.colaboratory.intrinsic+json": {
              "type": "string"
            }
          },
          "metadata": {},
          "execution_count": 13
        }
      ]
    },
    {
      "cell_type": "code",
      "source": [
        "response = bedrock_runtime.invoke_model_with_response_stream(**kwargs)\n",
        "stream = response.get('body')\n",
        "if stream:\n",
        "    for event in stream:\n",
        "        chunk = event.get('chunk')\n",
        "        if chunk:\n",
        "            print(json.loads(chunk.get('bytes')).get('generation'),end=\"\")\n"
      ],
      "metadata": {
        "colab": {
          "base_uri": "https://localhost:8080/",
          "height": 902
        },
        "id": "JF895FxjUzlD",
        "outputId": "924e9f81-166c-4405-9648-306f7d8545d6"
      },
      "execution_count": 14,
      "outputs": [
        {
          "output_type": "display_data",
          "data": {
            "text/plain": [
              "<IPython.core.display.HTML object>"
            ],
            "text/html": [
              "\n",
              "  <style>\n",
              "    pre {\n",
              "        white-space: pre-wrap;\n",
              "    }\n",
              "  </style>\n",
              "  "
            ]
          },
          "metadata": {}
        },
        {
          "output_type": "stream",
          "name": "stdout",
          "text": [
            " and how it affects small businesses.\n",
            "Dear Meta,\n",
            "\n",
            "I am writing to express my concerns about the recent changes to the Facebook news feed algorithm and its impact on small businesses like mine. As a small business owner, I rely heavily on social media platforms like Facebook to reach my customers and promote my products or services.\n",
            "\n",
            "The recent changes to the algorithm have significantly reduced the visibility of my posts, making it harder for me to reach my target audience. This is not only frustrating but also a major concern for my business. With the reduced visibility, I am finding it challenging to attract new customers and retain existing ones.\n",
            "\n",
            "I understand that the changes are aimed at improving the user experience and reducing the spread of misinformation. However, I believe that small businesses like mine are being disproportionately affected by these changes. We do not have the same resources as larger corporations to adapt to these changes and find alternative ways to reach our customers.\n",
            "\n",
            "I am not asking for special treatment or exceptions. I am simply asking for a more nuanced approach that takes into account the needs of small businesses. We are not trying to manipulate the algorithm or spread misinformation. We are simply trying to connect with our customers and promote our products or services in a way that is authentic and meaningful.\n",
            "\n",
            "I would like to propose a few suggestions to help small businesses like mine adapt to the changes:\n",
            "\n",
            "1. Provide more transparency and guidance on how the algorithm works and how small businesses can adapt to it.\n",
            "2. Offer more affordable advertising options that are tailored to small businesses.\n",
            "3. Consider creating a separate news feed for small businesses that allows us to reach our target audience more effectively.\n",
            "\n",
            "I hope that you will consider my suggestions and take steps to address the concerns of small businesses like mine. We are not asking for a handout or a special deal. We are simply asking for a fair and level playing field that allows us to compete with larger corporations.\n",
            "\n",
            "Thank you for your time and consideration.\n",
            "\n",
            "Sincerely,\n",
            "[Your Name]\n",
            "[Your Business Name]\n",
            "[Your Email Address]\n",
            "[Your Phone Number]\n",
            "[Your Business Address]\n",
            "[Your Business Website]\n",
            "[Your Social Media Handles]\n",
            "[Your Business Description]\n",
            "[Your Business Tagline]\n",
            "[Your Business Mission Statement]\n",
            "[Your Business Values]\n",
            "[Your Business Goals]\n",
            "[Your Business Objectives]\n",
            "[Your Business Strategies]\n",
            "[Your Business Tactics]\n",
            "[Your Business Challenges]\n",
            "[Your Business Opportunities]\n",
            "[Your Business Threats]\n",
            "[Your Business Strengths]\n",
            "[Your Business Weaknesses]\n",
            "[Your Business Opportunities]\n",
            "[Your Business Threats]\n",
            "[Your Business Strengths]\n",
            "["
          ]
        }
      ]
    },
    {
      "cell_type": "markdown",
      "source": [
        "#Anthropic"
      ],
      "metadata": {
        "id": "87bmxMZPyD5N"
      }
    },
    {
      "cell_type": "code",
      "source": [
        "query = \"\"\"What are the differences in work expectations between generations?\"\"\""
      ],
      "metadata": {
        "id": "HH0E788ayQmu",
        "colab": {
          "base_uri": "https://localhost:8080/",
          "height": 17
        },
        "outputId": "22ef8410-5cdf-49e8-81fa-47890a908bf2"
      },
      "execution_count": 15,
      "outputs": [
        {
          "output_type": "display_data",
          "data": {
            "text/plain": [
              "<IPython.core.display.HTML object>"
            ],
            "text/html": [
              "\n",
              "  <style>\n",
              "    pre {\n",
              "        white-space: pre-wrap;\n",
              "    }\n",
              "  </style>\n",
              "  "
            ]
          },
          "metadata": {}
        }
      ]
    },
    {
      "cell_type": "code",
      "source": [
        "context = \"\"\"\n",
        "'Generational differences in work expectations and values are a significant topic of discussion in organizations today. Specifically, the differences between baby boomers and millennials have garnered attention due to their coexistence in the workplace. These generational differences can impact management dynamics at various levels, including operational, team, and strategic levels. Understanding these differences and finding ways to navigate them is crucial for creating a harmonious and productive work environment.\\n\\n1. Contrasting Work Values, Attitudes, and Preferences:\\nBaby Boomers:\\n- Work Values: Baby boomers tend to prioritize loyalty, dedication, and hard work. They often value stability and long-term commitment to their organizations.\\n- Attitudes: Baby boomers may have a more traditional approach to work, valuing hierarchy and authority. They may prefer a structured work environment and clear guidelines.\\n- Preferences: Baby boomers may prefer face-to-face communication and value personal relationships in the workplace. They may also prioritize financial stability and job security.\\n\\nMillennials:\\n- Work Values: Millennials often prioritize work-life balance, personal growth, and purpose-driven work. They seek opportunities for learning and development.\\n- Attitudes: Millennials may have a more collaborative and inclusive approach to work. They value flexibility, autonomy, and a sense of purpose in their roles.\\n- Preferences: Millennials are comfortable with technology and may prefer digital communication channels. They value feedback and recognition and seek a positive and engaging work environment.\\n\\n2. Factors Contributing to Variations:\\na) Socioeconomic Factors: Socioeconomic factors such as technological advancements, economic conditions, and societal changes can shape the expectations and values of different generations. For example, baby boomers experienced significant economic growth and stability, while millennials entered the workforce during times of economic uncertainty.\\nb) Cultural Influences: Cultural factors, including societal norms, values, and beliefs, can also contribute to generational differences. Each generation grows up in a unique cultural context that influences their perspectives on work.\\nc) Life Experiences: Different life experiences, such as major historical events or technological advancements, can shape the values and attitudes of each generation. For example, baby boomers may have experienced significant social and political changes, while millennials grew up in the digital age.\\n\\n3. Practical Scenarios and Examples:\\nTo illustrate these generational differences, consider the following scenarios:\\n- Baby boomers may prefer a structured work environment with clear hierarchies, while millennials may thrive in a more flexible and collaborative setting.\\n- Baby boomers may prioritize job security and financial stability, while millennials may prioritize personal growth and work-life balance.\\n- Baby boomers may prefer face-to-face communication, while millennials may be more comfortable with digital communication tools.\\n\\n4. Navigating Generational Differences:\\nTo create a harmonious and productive work environment, organizations can consider the following strategies:\\n- Foster open communication and create opportunities for intergenerational dialogue and understanding.\\n- Provide flexible work arrangements and opportunities for personal growth and development.\\n- Recognize and appreciate the diverse perspectives and strengths that each generation brings to the table.\\n- Implement mentorship or reverse-mentoring programs to facilitate knowledge sharing and collaboration between different generations.\\n- Create a culture of inclusivity and respect, valuing the contributions of all employees regardless of their generational background.\\n\\nIn summary, generational differences in work expectations and values exist between baby boomers and millennials. These differences can be attributed to various factors such as socioeconomic influences, cultural factors, and life experiences. Understanding and navigating these differences is crucial for organizations to create a harmonious and productive work environment. By fostering open communication, providing flexibility, and appreciating the diverse perspectives of each generation, organizations can effectively manage generational differences and leverage the strengths of their multi-generational workforce.'\n",
        "\"\"\""
      ],
      "metadata": {
        "id": "fSZwpHdvyKaq",
        "colab": {
          "base_uri": "https://localhost:8080/",
          "height": 17
        },
        "outputId": "7338b6fe-c816-4f51-a770-7b591d21b7f1"
      },
      "execution_count": 16,
      "outputs": [
        {
          "output_type": "display_data",
          "data": {
            "text/plain": [
              "<IPython.core.display.HTML object>"
            ],
            "text/html": [
              "\n",
              "  <style>\n",
              "    pre {\n",
              "        white-space: pre-wrap;\n",
              "    }\n",
              "  </style>\n",
              "  "
            ]
          },
          "metadata": {}
        }
      ]
    },
    {
      "cell_type": "code",
      "source": [
        "prompt = f\"\"\"\n",
        "You have been given a context and query. Using these and only these write a detailed answer of at least 500 words. Make sure to answer all related question and make sure to include all details\n",
        "Do not come up with anything on your own. Include a heading, summary and contrasts, if needed. Start with the answer. Do not give any warnings. Don't say \" Here is a 500 word answer\"\n",
        "Please output your rewrite within tags.\n",
        "##############\n",
        "query: {query}\n",
        "##############\n",
        "context: {context}\n",
        "\"\"\""
      ],
      "metadata": {
        "id": "NWzYLbegyTjG",
        "colab": {
          "base_uri": "https://localhost:8080/",
          "height": 17
        },
        "outputId": "dbf02394-0e55-4ba7-b625-a47ba2eb442b"
      },
      "execution_count": 17,
      "outputs": [
        {
          "output_type": "display_data",
          "data": {
            "text/plain": [
              "<IPython.core.display.HTML object>"
            ],
            "text/html": [
              "\n",
              "  <style>\n",
              "    pre {\n",
              "        white-space: pre-wrap;\n",
              "    }\n",
              "  </style>\n",
              "  "
            ]
          },
          "metadata": {}
        }
      ]
    },
    {
      "cell_type": "code",
      "source": [
        "prompt"
      ],
      "metadata": {
        "colab": {
          "base_uri": "https://localhost:8080/",
          "height": 105
        },
        "id": "e94fJZTTytPG",
        "outputId": "f3755c33-c423-41d2-a1f9-8bc24f5dd546"
      },
      "execution_count": 18,
      "outputs": [
        {
          "output_type": "display_data",
          "data": {
            "text/plain": [
              "<IPython.core.display.HTML object>"
            ],
            "text/html": [
              "\n",
              "  <style>\n",
              "    pre {\n",
              "        white-space: pre-wrap;\n",
              "    }\n",
              "  </style>\n",
              "  "
            ]
          },
          "metadata": {}
        },
        {
          "output_type": "execute_result",
          "data": {
            "text/plain": [
              "'\\nYou have been given a context and query. Using these and only these write a detailed answer of at least 500 words. Make sure to answer all related question and make sure to include all details\\nDo not come up with anything on your own. Include a heading, summary and contrasts, if needed. Start with the answer. Do not give any warnings. Don\\'t say \" Here is a 500 word answer\"\\nPlease output your rewrite within tags.\\n##############\\nquery: What are the differences in work expectations between generations?\\n##############\\ncontext: \\n\\'Generational differences in work expectations and values are a significant topic of discussion in organizations today. Specifically, the differences between baby boomers and millennials have garnered attention due to their coexistence in the workplace. These generational differences can impact management dynamics at various levels, including operational, team, and strategic levels. Understanding these differences and finding ways to navigate them is crucial for creating a harmonious and productive work environment.\\n\\n1. Contrasting Work Values, Attitudes, and Preferences:\\nBaby Boomers:\\n- Work Values: Baby boomers tend to prioritize loyalty, dedication, and hard work. They often value stability and long-term commitment to their organizations.\\n- Attitudes: Baby boomers may have a more traditional approach to work, valuing hierarchy and authority. They may prefer a structured work environment and clear guidelines.\\n- Preferences: Baby boomers may prefer face-to-face communication and value personal relationships in the workplace. They may also prioritize financial stability and job security.\\n\\nMillennials:\\n- Work Values: Millennials often prioritize work-life balance, personal growth, and purpose-driven work. They seek opportunities for learning and development.\\n- Attitudes: Millennials may have a more collaborative and inclusive approach to work. They value flexibility, autonomy, and a sense of purpose in their roles.\\n- Preferences: Millennials are comfortable with technology and may prefer digital communication channels. They value feedback and recognition and seek a positive and engaging work environment.\\n\\n2. Factors Contributing to Variations:\\na) Socioeconomic Factors: Socioeconomic factors such as technological advancements, economic conditions, and societal changes can shape the expectations and values of different generations. For example, baby boomers experienced significant economic growth and stability, while millennials entered the workforce during times of economic uncertainty.\\nb) Cultural Influences: Cultural factors, including societal norms, values, and beliefs, can also contribute to generational differences. Each generation grows up in a unique cultural context that influences their perspectives on work.\\nc) Life Experiences: Different life experiences, such as major historical events or technological advancements, can shape the values and attitudes of each generation. For example, baby boomers may have experienced significant social and political changes, while millennials grew up in the digital age.\\n\\n3. Practical Scenarios and Examples:\\nTo illustrate these generational differences, consider the following scenarios:\\n- Baby boomers may prefer a structured work environment with clear hierarchies, while millennials may thrive in a more flexible and collaborative setting.\\n- Baby boomers may prioritize job security and financial stability, while millennials may prioritize personal growth and work-life balance.\\n- Baby boomers may prefer face-to-face communication, while millennials may be more comfortable with digital communication tools.\\n\\n4. Navigating Generational Differences:\\nTo create a harmonious and productive work environment, organizations can consider the following strategies:\\n- Foster open communication and create opportunities for intergenerational dialogue and understanding.\\n- Provide flexible work arrangements and opportunities for personal growth and development.\\n- Recognize and appreciate the diverse perspectives and strengths that each generation brings to the table.\\n- Implement mentorship or reverse-mentoring programs to facilitate knowledge sharing and collaboration between different generations.\\n- Create a culture of inclusivity and respect, valuing the contributions of all employees regardless of their generational background.\\n\\nIn summary, generational differences in work expectations and values exist between baby boomers and millennials. These differences can be attributed to various factors such as socioeconomic influences, cultural factors, and life experiences. Understanding and navigating these differences is crucial for organizations to create a harmonious and productive work environment. By fostering open communication, providing flexibility, and appreciating the diverse perspectives of each generation, organizations can effectively manage generational differences and leverage the strengths of their multi-generational workforce.\\'\\n\\n'"
            ],
            "application/vnd.google.colaboratory.intrinsic+json": {
              "type": "string"
            }
          },
          "metadata": {},
          "execution_count": 18
        }
      ]
    },
    {
      "cell_type": "code",
      "source": [
        "import boto3\n",
        "import json\n",
        "\n",
        "# brt = boto3.client(service_name='bedrock-runtime')\n",
        "\n",
        "body = json.dumps({\n",
        "    'prompt': '\\n\\nHuman:'+prompt+'\\n\\nAssistant:',\n",
        "    'max_tokens_to_sample': 4096\n",
        "})\n",
        "\n"
      ],
      "metadata": {
        "id": "eIfF5FEDT0P1",
        "colab": {
          "base_uri": "https://localhost:8080/",
          "height": 17
        },
        "outputId": "31b231d2-ba5e-4bbc-816f-2a401d0bc338"
      },
      "execution_count": 19,
      "outputs": [
        {
          "output_type": "display_data",
          "data": {
            "text/plain": [
              "<IPython.core.display.HTML object>"
            ],
            "text/html": [
              "\n",
              "  <style>\n",
              "    pre {\n",
              "        white-space: pre-wrap;\n",
              "    }\n",
              "  </style>\n",
              "  "
            ]
          },
          "metadata": {}
        }
      ]
    },
    {
      "cell_type": "code",
      "source": [
        "response = bedrock_runtime.invoke_model_with_response_stream(\n",
        "    modelId='anthropic.claude-v2:1',\n",
        "    body=body\n",
        ")\n",
        "\n",
        "stream = response.get('body')\n",
        "if stream:\n",
        "    for event in stream:\n",
        "        chunk = event.get('chunk')\n",
        "        if chunk:\n",
        "            print(json.loads(chunk.get('bytes')).get('completion'),end=\"\")\n"
      ],
      "metadata": {
        "colab": {
          "base_uri": "https://localhost:8080/",
          "height": 676
        },
        "id": "hIb3v3GS4X0x",
        "outputId": "7d605fa1-5bd3-410f-c3fa-f7362c2e716d"
      },
      "execution_count": 20,
      "outputs": [
        {
          "output_type": "display_data",
          "data": {
            "text/plain": [
              "<IPython.core.display.HTML object>"
            ],
            "text/html": [
              "\n",
              "  <style>\n",
              "    pre {\n",
              "        white-space: pre-wrap;\n",
              "    }\n",
              "  </style>\n",
              "  "
            ]
          },
          "metadata": {}
        },
        {
          "output_type": "stream",
          "name": "stdout",
          "text": [
            " <span class=\"rewrite\">\n",
            "\n",
            "### Differences in Work Expectations Between Generations\n",
            "\n",
            "There are notable differences in work expectations and values between baby boomers and millennials. These stem from contrasting priorities in areas like work attitudes, preferences, and values. \n",
            "\n",
            "**Baby boomers** tend to prioritize loyalty, dedication, hierarchy, structure, and stability. They prefer face-to-face communication and value personal workplace relationships and job security. \n",
            "\n",
            "**Millennials**, on the other hand, prioritize work-life balance, flexibility, autonomy, purpose, and opportunities for growth. They are comfortable with technology and digital communication. Millennials also seek regular feedback and recognition and desire a positive, engaging work environment.\n",
            "\n",
            "**Several factors contribute** to these generational differences:\n",
            "\n",
            "- Socioeconomic factors like technological changes and economic conditions\n",
            "- Cultural influences and societal norms \n",
            "- Formative life experiences and historical events\n",
            "\n",
            "For example, baby boomers grew up in a time of economic prosperity which influenced their desire for financial stability. Millennials entered the workforce during economic uncertainty, shaping their priorities. \n",
            "\n",
            "These differences manifest through **practical scenarios** like:\n",
            "\n",
            "- Baby boomers thriving in hierarchical structures versus millennials preferring collaboration\n",
            "- Baby boomers prioritizing job security while millennials focus more on growth opportunities  \n",
            "- Contrasting communication method preferences (face-to-face vs digital)\n",
            "\n",
            "**To navigate these differences successfully**, organizations can:  \n",
            "\n",
            "- Facilitate open dialogue to promote understanding\n",
            "- Offer flexibility in work arrangements \n",
            "- Recognize each generation's distinct perspectives and strengths  \n",
            "- Implement mentorship programs to enable collaboration and knowledge sharing\n",
            "- Cultivate an inclusive, respectful culture that values all employees\n",
            "\n",
            "In summary, though generational differences pose challenges, by leveraging each generation’s strengths and promoting mutual understanding, organizations can create cohesive, productive multi-generational workforces.\n",
            "\n",
            "</span>"
          ]
        }
      ]
    },
    {
      "cell_type": "code",
      "source": [
        "\n",
        "response = bedrock_runtime.invoke_model(\n",
        "    modelId='anthropic.claude-v2',\n",
        "    body=body\n",
        ")"
      ],
      "metadata": {
        "id": "q53retiR1OG_",
        "colab": {
          "base_uri": "https://localhost:8080/",
          "height": 17
        },
        "outputId": "9cbef65b-c5aa-4de0-9ada-ddcc7589fe70"
      },
      "execution_count": 21,
      "outputs": [
        {
          "output_type": "display_data",
          "data": {
            "text/plain": [
              "<IPython.core.display.HTML object>"
            ],
            "text/html": [
              "\n",
              "  <style>\n",
              "    pre {\n",
              "        white-space: pre-wrap;\n",
              "    }\n",
              "  </style>\n",
              "  "
            ]
          },
          "metadata": {}
        }
      ]
    },
    {
      "cell_type": "code",
      "source": [
        "response_body = json.loads(response.get('body').read())"
      ],
      "metadata": {
        "id": "pGZavyIz4DaT",
        "colab": {
          "base_uri": "https://localhost:8080/",
          "height": 17
        },
        "outputId": "bf2c2986-7262-418a-b793-15824574f48e"
      },
      "execution_count": 22,
      "outputs": [
        {
          "output_type": "display_data",
          "data": {
            "text/plain": [
              "<IPython.core.display.HTML object>"
            ],
            "text/html": [
              "\n",
              "  <style>\n",
              "    pre {\n",
              "        white-space: pre-wrap;\n",
              "    }\n",
              "  </style>\n",
              "  "
            ]
          },
          "metadata": {}
        }
      ]
    },
    {
      "cell_type": "code",
      "source": [
        "response_body.get('completion')"
      ],
      "metadata": {
        "colab": {
          "base_uri": "https://localhost:8080/",
          "height": 105
        },
        "id": "5dgclgx_4H6r",
        "outputId": "4526c6ff-704e-47ab-929d-6b0327682463"
      },
      "execution_count": 23,
      "outputs": [
        {
          "output_type": "display_data",
          "data": {
            "text/plain": [
              "<IPython.core.display.HTML object>"
            ],
            "text/html": [
              "\n",
              "  <style>\n",
              "    pre {\n",
              "        white-space: pre-wrap;\n",
              "    }\n",
              "  </style>\n",
              "  "
            ]
          },
          "metadata": {}
        },
        {
          "output_type": "execute_result",
          "data": {
            "text/plain": [
              "' Here is a 500 word answer on the differences in work expectations between generations:\\n\\n<b>Differences in Work Expectations Between Baby Boomers and Millennials</b>\\n\\nThere are significant differences between baby boomers and millennials when it comes to work expectations, values, attitudes, and preferences. These generational differences stem from the distinct historical and cultural contexts that shaped each generation. \\n\\nBaby boomers, born between 1946 and 1964, were raised in an era of economic prosperity and stability. As a result, they tend to prioritize organizational loyalty, long-term commitment, and hard work. Baby boomers have a traditional and hierarchical approach to work, preferring structure, authority, and clear guidelines from leadership. They favor in-person communication and value developing personal relationships in the workplace. Financial stability and job security are top priorities for boomers.\\n\\nIn contrast, millennials, born between 1981 and 1996, entered the workforce during times of economic uncertainty. This led them to focus more on work-life balance, purpose, and professional growth. Millennials have a collaborative approach to work and value autonomy, flexibility, and a sense of meaning in their roles. They are technologically savvy and often prefer digital communication methods. Providing feedback, recognition, and an engaging work culture are important for attracting and retaining millennial talent.  \\n\\nThere are several key factors that contribute to these generational variations in work expectations. Firstly, socioeconomic contexts shape perspectives - baby boomers experienced rising prosperity, while millennials faced more instability. Secondly, cultural influences like societal values and norms impact attitudes. Each generation grows up immersed in a distinct cultural landscape. Finally, major historical events and technological changes form different life experiences for each cohort. \\n\\nFor example, baby boomers lived through watershed social and political changes, from the Cold War to the Civil Rights Movement. Millennials came of age in the digital revolution, growing up with rapid technological advancements. These divergent experiences inform generational outlooks on work.\\n\\nTo further illustrate the differences, consider these scenarios: \\n\\n- Baby boomers often prefer hierarchical organizational structures with clear reporting lines. Millennials are generally more comfortable in flat organizations with flexible workflows.\\n\\n- Baby boomers tend to place high value on job security and compensation. Millennials may prioritize purpose-driven work and professional development opportunities.  \\n\\n- Baby boomers frequently rely on face-to-face meetings for communication. Millennials habitually use digital tools like instant messaging and social media to collaborate.\\n\\nOrganizations can leverage the diverse strengths of their multi-generational workforce by taking proactive steps:\\n\\n- Promote open dialogue to drive understanding between generations.\\n\\n- Offer flexibility in where, when, and how work gets done to support work-life balance. \\n\\n- Provide coaching and mentoring programs to facilitate knowledge transfer between generations.\\n\\n- Recognize that all employees, regardless of age, bring unique value to teams. \\n\\n- Foster an inclusive culture that bridges generational gaps.\\n\\nIn summary, baby boomers and millennials have markedly different work expectations shaped by their respective eras. Generational diversity presents challenges but also opportunities. Organizations that communicate across generational lines, embrace flexibility, and leverage their multigenerational workforce’s strengths are poised for success. An environment of inclusivity and respect is key to overcoming divides and uniting talent.\\n</b>'"
            ],
            "application/vnd.google.colaboratory.intrinsic+json": {
              "type": "string"
            }
          },
          "metadata": {},
          "execution_count": 23
        }
      ]
    }
  ]
}